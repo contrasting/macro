{
 "cells": [
  {
   "cell_type": "code",
   "execution_count": 1,
   "metadata": {},
   "outputs": [],
   "source": [
    "# to import from parent directory\n",
    "import os\n",
    "import sys\n",
    "nb_dir = os.path.split(os.getcwd())[0]\n",
    "if nb_dir not in sys.path:\n",
    "    sys.path.append(nb_dir)"
   ]
  },
  {
   "cell_type": "code",
   "execution_count": 2,
   "metadata": {},
   "outputs": [],
   "source": [
    "import pandas as pd\n",
    "import matplotlib.pyplot as plt\n",
    "import numpy as np\n",
    "import torch\n",
    "import torch.nn as nn\n",
    "import torch.nn.functional as F\n",
    "import torch.optim as optim\n",
    "from torch.utils.data import Dataset, DataLoader, SequentialSampler, Subset\n",
    "from utils import get_lags, get_average, TrainHelper, Window, ExtendedDataset, evaluate_on_test, init_weights, save_obj, load_obj, remove_nan"
   ]
  },
  {
   "cell_type": "code",
   "execution_count": 3,
   "metadata": {},
   "outputs": [],
   "source": [
    "full = pd.read_csv('../normalised_growth.csv', index_col=0, header=[0], parse_dates=True)"
   ]
  },
  {
   "cell_type": "code",
   "execution_count": 4,
   "metadata": {},
   "outputs": [
    {
     "name": "stdout",
     "output_type": "stream",
     "text": [
      "INTDSRUSM193N\n",
      "ISRATIO\n",
      "MTSDS133FMS\n",
      "T10Y2YM\n",
      "USSLIND\n",
      "GFDEGDQ188S\n",
      "GS20\n",
      "MCOILWTICO\n",
      "TCU\n",
      "TOTALSA\n",
      "(709, 21)\n"
     ]
    }
   ],
   "source": [
    "# start from 1960\n",
    "full.drop(columns=['A191RL1Q225SBEA'], inplace=True)\n",
    "full = full.loc[\"1960-01-01\":]\n",
    "full = remove_nan(full)\n",
    "print(full.shape)"
   ]
  },
  {
   "cell_type": "code",
   "execution_count": 9,
   "metadata": {},
   "outputs": [],
   "source": [
    "class FeedforwardSixHidden(nn.Module):\n",
    "    \n",
    "    def __init__(self, input_size, hidden_size):\n",
    "        super(FeedforwardSixHidden, self).__init__()\n",
    "        self.fc1 = nn.Linear(input_size, input_size)\n",
    "        self.fc2 = nn.Linear(input_size, input_size)\n",
    "        self.fc3 = nn.Linear(input_size, input_size)\n",
    "        self.fc4 = nn.Linear(input_size, hidden_size)\n",
    "        self.fc5 = nn.Linear(hidden_size, hidden_size)\n",
    "        self.fc6 = nn.Linear(hidden_size, hidden_size)\n",
    "        self.fc7 = nn.Linear(hidden_size, 3)\n",
    "        \n",
    "        self.input_size = input_size\n",
    "        self.hidden_size = hidden_size\n",
    "        \n",
    "    def forward(self, x):\n",
    "        x_temp = x\n",
    "        x = F.relu(self.fc1(x))\n",
    "        x = F.relu(self.fc2(x))\n",
    "        x = F.relu(self.fc3(x))\n",
    "        x = x + x_temp\n",
    "        \n",
    "        x = F.relu(self.fc4(x))\n",
    "        x_temp = x\n",
    "        x = F.relu(self.fc5(x))\n",
    "        x = F.relu(self.fc6(x))\n",
    "        x = x + x_temp\n",
    "        \n",
    "        x = self.fc7(x)\n",
    "        return x\n",
    "    "
   ]
  },
  {
   "cell_type": "code",
   "execution_count": 19,
   "metadata": {},
   "outputs": [],
   "source": [
    "trainer = TrainHelper(percent = 1, manual = 5000, print_every=1)\n",
    "\n",
    "PATH = \"./Extended Deep/\"\n",
    "\n",
    "def train_times(times, trainer, net, criterion, optimizer, window):\n",
    "    \n",
    "    losses = []\n",
    "\n",
    "    # train ten times, find best loss\n",
    "    for i in range(times):\n",
    "        net.apply(init_weights)\n",
    "        print(\"Training %d time\" % i)\n",
    "        loss = trainer.train_window(net, criterion, optimizer, window)\n",
    "        torch.save(net.state_dict(), PATH + \"lag\" + str(net.input_size//3) + \"hidden\" + str(net.hidden_size) + \"_\" + str(i) + \".pt\")\n",
    "        losses.append(loss)\n",
    "        \n",
    "    return losses"
   ]
  },
  {
   "cell_type": "code",
   "execution_count": 6,
   "metadata": {},
   "outputs": [
    {
     "name": "stdout",
     "output_type": "stream",
     "text": [
      "709\n"
     ]
    }
   ],
   "source": [
    "length = len(full)\n",
    "val_start = round(length * 0.8)\n",
    "test_start = round(length * 0.9)\n",
    "print(length)"
   ]
  },
  {
   "cell_type": "code",
   "execution_count": 21,
   "metadata": {},
   "outputs": [],
   "source": [
    "losses = load_obj(\"FF_Extended_Deep\")"
   ]
  },
  {
   "cell_type": "code",
   "execution_count": null,
   "metadata": {},
   "outputs": [],
   "source": [
    "hiddens = [12, 24]\n",
    "\n",
    "for lags in range(1, 6):\n",
    "    data = ExtendedDataset(full, lags=lags, series=[\"CPIAUCSL\", \"A191RO1Q156NBEA\", \"UNRATE\"])\n",
    "\n",
    "    # subtract by lags to ensure same training sets\n",
    "    trainset = Subset(data, [i for i in range(val_start - 1 - lags)])\n",
    "    valset = Subset(data, [i for i in range(val_start - lags, test_start - 1 - lags)])\n",
    "\n",
    "    trainloader = DataLoader(trainset, batch_size=1, shuffle=False, sampler=SequentialSampler(trainset))\n",
    "    validationloader = DataLoader(valset, batch_size=1, shuffle=False, sampler=SequentialSampler(valset))\n",
    "\n",
    "    window = Window(trainloader, validationloader)\n",
    "    \n",
    "    for hidden_size in hiddens:\n",
    "        print(\"Training new net, %d lags %d hidden\" % (lags, hidden_size))\n",
    "\n",
    "        net = FeedforwardSixHidden(lags * full.shape[1], hidden_size=hidden_size)\n",
    "        criterion = nn.MSELoss()\n",
    "        optimizer = optim.SGD(net.parameters(), lr=0.001)\n",
    "        loss = train_times(10, trainer, net, criterion, optimizer, window)\n",
    "        print(loss)\n",
    "        losses[str(lags) + \"-\" + str(hidden_size)] = loss\n",
    "    "
   ]
  },
  {
   "cell_type": "code",
   "execution_count": 16,
   "metadata": {},
   "outputs": [],
   "source": [
    "save_obj(losses, \"FF_Extended_Deep\")"
   ]
  },
  {
   "cell_type": "code",
   "execution_count": 30,
   "metadata": {},
   "outputs": [
    {
     "data": {
      "text/plain": [
       "0.11500501457485372"
      ]
     },
     "execution_count": 30,
     "metadata": {},
     "output_type": "execute_result"
    }
   ],
   "source": [
    "lowest = 100000000\n",
    "\n",
    "for k, v in losses.items():\n",
    "    best_loss = v[np.argmin(v)]\n",
    "    if best_loss < lowest:\n",
    "        lowest = best_loss\n",
    "        \n",
    "lowest"
   ]
  },
  {
   "cell_type": "code",
   "execution_count": 28,
   "metadata": {},
   "outputs": [],
   "source": [
    "best_loss_12 = []\n",
    "avg_loss_12 = []\n",
    "best_loss_24 = []\n",
    "avg_loss_24 = []\n",
    "\n",
    "for k, v in losses.items():\n",
    "    if k.split(\"-\")[1] == str(12):\n",
    "        best_net_index = np.argmin(v)\n",
    "        best_loss_12.append(v[best_net_index])\n",
    "        avg_loss_12.append(get_average(v))\n",
    "    if k.split(\"-\")[1] == str(24):\n",
    "        best_net_index = np.argmin(v)\n",
    "        best_loss_24.append(v[best_net_index])\n",
    "        avg_loss_24.append(get_average(v))\n",
    "    \n",
    "best_loss = []\n",
    "avg_loss = []\n",
    "\n",
    "for i in range(len(best_loss_12)):\n",
    "    best_loss.append((best_loss_12[i] + best_loss_24[i]) / 2)\n",
    "    avg_loss.append((avg_loss_12[i] + avg_loss_24[i]) / 2)\n"
   ]
  },
  {
   "cell_type": "code",
   "execution_count": 29,
   "metadata": {},
   "outputs": [
    {
     "data": {
      "text/plain": [
       "Text(0, 0.5, 'Final Validation Loss')"
      ]
     },
     "execution_count": 29,
     "metadata": {},
     "output_type": "execute_result"
    },
    {
     "data": {
      "image/png": "[encoded data removed]",
      "text/plain": [
       "<Figure size 921.6x633.6 with 1 Axes>"
      ]
     },
     "metadata": {},
     "output_type": "display_data"
    }
   ],
   "source": [
    "from matplotlib import style\n",
    "\n",
    "style.use('seaborn-poster') #sets the size of the charts\n",
    "style.use('ggplot')\n",
    "\n",
    "# plt.figure(figsize=(15,10))\n",
    "\n",
    "plt.plot([i for i in range(1, len(best_loss) + 1)], best_loss)\n",
    "plt.plot([i for i in range(1, len(best_loss) + 1)], avg_loss)\n",
    "\n",
    "plt.xticks([1, 2, 3, 4, 5])\n",
    "\n",
    "plt.legend((\"Lowest loss\", \"Average loss\"), facecolor=\"white\")\n",
    "plt.xlabel(\"Lags\", fontsize=20)\n",
    "plt.ylabel(\"Final Validation Loss\", fontsize=20)\n",
    "# plt.savefig('../Figs/lags_deep_extended.png', bbox_inches='tight')"
   ]
  },
  {
   "cell_type": "code",
   "execution_count": null,
   "metadata": {},
   "outputs": [],
   "source": []
  }
 ],
 "metadata": {
  "kernelspec": {
   "display_name": "Python 3",
   "language": "python",
   "name": "python3"
  },
  "language_info": {
   "codemirror_mode": {
    "name": "ipython",
    "version": 3
   },
   "file_extension": ".py",
   "mimetype": "text/x-python",
   "name": "python",
   "nbconvert_exporter": "python",
   "pygments_lexer": "ipython3",
   "version": "3.7.1"
  }
 },
 "nbformat": 4,
 "nbformat_minor": 2
}
