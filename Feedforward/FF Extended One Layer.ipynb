{
 "cells": [
  {
   "cell_type": "code",
   "execution_count": 2,
   "metadata": {},
   "outputs": [],
   "source": [
    "# to import from parent directory\n",
    "import os\n",
    "import sys\n",
    "nb_dir = os.path.split(os.getcwd())[0]\n",
    "if nb_dir not in sys.path:\n",
    "    sys.path.append(nb_dir)"
   ]
  },
  {
   "cell_type": "code",
   "execution_count": 3,
   "metadata": {},
   "outputs": [],
   "source": [
    "import pandas as pd\n",
    "import matplotlib.pyplot as plt\n",
    "from matplotlib import style\n",
    "import numpy as np\n",
    "import torch\n",
    "import torch.nn as nn\n",
    "import torch.nn.functional as F\n",
    "import torch.optim as optim\n",
    "from torch.utils.data import Dataset, DataLoader, SequentialSampler, Subset\n",
    "from utils import get_lags, get_average, TrainHelper, Window, ExtendedDataset, evaluate_on_test, init_weights, save_obj, load_obj, remove_nan"
   ]
  },
  {
   "cell_type": "code",
   "execution_count": 4,
   "metadata": {},
   "outputs": [],
   "source": [
    "full = pd.read_csv('../normalised_growth.csv', index_col=0, header=[0], parse_dates=True)"
   ]
  },
  {
   "cell_type": "code",
   "execution_count": 5,
   "metadata": {},
   "outputs": [
    {
     "name": "stdout",
     "output_type": "stream",
     "text": [
      "INTDSRUSM193N\n",
      "ISRATIO\n",
      "MTSDS133FMS\n",
      "T10Y2YM\n",
      "USSLIND\n",
      "GFDEGDQ188S\n",
      "GS20\n",
      "MCOILWTICO\n",
      "TCU\n",
      "TOTALSA\n",
      "(709, 21)\n"
     ]
    }
   ],
   "source": [
    "# start from 1960\n",
    "full.drop(columns=['A191RL1Q225SBEA'], inplace=True)\n",
    "full = full.loc[\"1960-01-01\":]\n",
    "full = remove_nan(full)\n",
    "print(full.shape)"
   ]
  },
  {
   "cell_type": "code",
   "execution_count": 6,
   "metadata": {},
   "outputs": [],
   "source": [
    "class FeedforwardOneHidden(nn.Module):\n",
    "    \n",
    "    def __init__(self, input_size, hidden_size):\n",
    "        super(FeedforwardOneHidden, self).__init__()\n",
    "        self.fc1 = nn.Linear(input_size, hidden_size)\n",
    "        self.fc2 = nn.Linear(hidden_size, 3)\n",
    "        \n",
    "        self.input_size = input_size\n",
    "        self.hidden_size = hidden_size\n",
    "        \n",
    "    def forward(self, x):\n",
    "        x = F.relu(self.fc1(x))\n",
    "        x = self.fc2(x)  # no activation at output layer\n",
    "        return x\n",
    "    "
   ]
  },
  {
   "cell_type": "code",
   "execution_count": 7,
   "metadata": {},
   "outputs": [],
   "source": [
    "trainer = TrainHelper(percent = 0.99, manual = 5000, print_every=1000)\n",
    "\n",
    "PATH = \"./Extended One Layer/\"\n",
    "\n",
    "def train_times(times, trainer, net, criterion, optimizer, window):\n",
    "    \n",
    "    losses = []\n",
    "\n",
    "    # train ten times, find best loss\n",
    "    for i in range(times):\n",
    "        net.apply(init_weights)\n",
    "        print(\"Training %d time\" % i)\n",
    "        loss = trainer.train_window(net, criterion, optimizer, window)\n",
    "        torch.save(net.state_dict(), PATH + \"lag\" + str(net.input_size//full.shape[1]) + \"hidden\" + str(net.hidden_size) + \"_\" + str(i) + \".pt\")\n",
    "        losses.append(loss)\n",
    "        \n",
    "    return losses"
   ]
  },
  {
   "cell_type": "code",
   "execution_count": 8,
   "metadata": {},
   "outputs": [],
   "source": [
    "length = len(full)\n",
    "val_start = round(length * 0.8)\n",
    "test_start = round(length * 0.9)    "
   ]
  },
  {
   "cell_type": "code",
   "execution_count": 9,
   "metadata": {},
   "outputs": [],
   "source": [
    "losses = {}"
   ]
  },
  {
   "cell_type": "code",
   "execution_count": 10,
   "metadata": {},
   "outputs": [
    {
     "name": "stdout",
     "output_type": "stream",
     "text": [
      "Training new net, 1 lags 24 hidden\n",
      "Training 0 time\n",
      "[epoch: 1] train loss: 0.612, val loss: 1.027\n"
     ]
    },
    {
     "name": "stderr",
     "output_type": "stream",
     "text": [
      "/Users/fredchen/JupyterProjects/macro/utils.py:358: UserWarning: nn.init.xavier_uniform is now deprecated in favor of nn.init.xavier_uniform_.\n",
      "  torch.nn.init.xavier_uniform(m.weight)\n"
     ]
    },
    {
     "name": "stdout",
     "output_type": "stream",
     "text": [
      "Finished window, trained for 45 epochs, loss: 0.206\n",
      "Training 1 time\n",
      "[epoch: 1] train loss: 0.639, val loss: 1.140\n",
      "Finished window, trained for 68 epochs, loss: 0.176\n",
      "Training 2 time\n",
      "[epoch: 1] train loss: 0.808, val loss: 3.296\n",
      "Finished window, trained for 47 epochs, loss: 0.602\n",
      "Training 3 time\n",
      "[epoch: 1] train loss: 0.616, val loss: 1.041\n",
      "Finished window, trained for 44 epochs, loss: 0.180\n",
      "Training 4 time\n",
      "[epoch: 1] train loss: 0.715, val loss: 2.860\n",
      "Finished window, trained for 54 epochs, loss: 0.197\n",
      "Training 5 time\n",
      "[epoch: 1] train loss: 0.779, val loss: 2.425\n",
      "Finished window, trained for 31 epochs, loss: 0.630\n",
      "Training 6 time\n",
      "[epoch: 1] train loss: 1.033, val loss: 1.936\n",
      "Finished window, trained for 57 epochs, loss: 0.110\n",
      "Training 7 time\n",
      "[epoch: 1] train loss: 0.570, val loss: 1.093\n",
      "Finished window, trained for 38 epochs, loss: 0.352\n",
      "Training 8 time\n",
      "[epoch: 1] train loss: 0.693, val loss: 0.902\n",
      "Finished window, trained for 57 epochs, loss: 0.148\n",
      "Training 9 time\n",
      "[epoch: 1] train loss: 0.802, val loss: 1.911\n",
      "Finished window, trained for 44 epochs, loss: 0.200\n",
      "[0.2059799102168264, 0.17649965363255304, 0.601791780769071, 0.1804183891214918, 0.1974941493455498, 0.6299082067706401, 0.10975845688094739, 0.35170406056789777, 0.14806254840112246, 0.20044040333679214]\n",
      "Training new net, 2 lags 24 hidden\n",
      "Training 0 time\n",
      "[epoch: 1] train loss: 0.711, val loss: 1.930\n",
      "Finished window, trained for 39 epochs, loss: 0.529\n",
      "Training 1 time\n",
      "[epoch: 1] train loss: 0.538, val loss: 1.655\n",
      "Finished window, trained for 28 epochs, loss: 0.472\n",
      "Training 2 time\n",
      "[epoch: 1] train loss: 0.497, val loss: 0.997\n",
      "Finished window, trained for 35 epochs, loss: 0.311\n",
      "Training 3 time\n",
      "[epoch: 1] train loss: 0.460, val loss: 2.110\n",
      "Finished window, trained for 54 epochs, loss: 0.215\n",
      "Training 4 time\n",
      "[epoch: 1] train loss: 0.584, val loss: 1.491\n",
      "Finished window, trained for 50 epochs, loss: 0.216\n",
      "Training 5 time\n",
      "[epoch: 1] train loss: 0.500, val loss: 1.274\n",
      "Finished window, trained for 29 epochs, loss: 0.318\n",
      "Training 6 time\n",
      "[epoch: 1] train loss: 0.450, val loss: 0.921\n",
      "Finished window, trained for 34 epochs, loss: 0.365\n",
      "Training 7 time\n",
      "[epoch: 1] train loss: 0.539, val loss: 0.877\n",
      "Finished window, trained for 26 epochs, loss: 0.371\n",
      "Training 8 time\n",
      "[epoch: 1] train loss: 0.577, val loss: 1.973\n",
      "Finished window, trained for 46 epochs, loss: 0.430\n",
      "Training 9 time\n",
      "[epoch: 1] train loss: 0.661, val loss: 1.163\n",
      "Finished window, trained for 39 epochs, loss: 0.180\n",
      "[0.5294141409364307, 0.47247079209025417, 0.31126154961530117, 0.21519084054272666, 0.21638891738839447, 0.3180753161437765, 0.365009887789243, 0.3707412944241826, 0.4301400374777759, 0.18002162565632415]\n",
      "Training new net, 3 lags 24 hidden\n",
      "Training 0 time\n",
      "[epoch: 1] train loss: 0.623, val loss: 1.294\n",
      "Finished window, trained for 38 epochs, loss: 0.298\n",
      "Training 1 time\n",
      "[epoch: 1] train loss: 0.428, val loss: 2.050\n",
      "Finished window, trained for 54 epochs, loss: 0.460\n",
      "Training 2 time\n",
      "[epoch: 1] train loss: 0.599, val loss: 1.955\n",
      "Finished window, trained for 24 epochs, loss: 1.062\n",
      "Training 3 time\n",
      "[epoch: 1] train loss: 0.487, val loss: 0.449\n",
      "Finished window, trained for 40 epochs, loss: 0.236\n",
      "Training 4 time\n",
      "[epoch: 1] train loss: 0.633, val loss: 0.999\n",
      "Finished window, trained for 47 epochs, loss: 0.210\n",
      "Training 5 time\n",
      "[epoch: 1] train loss: 0.755, val loss: 3.328\n",
      "Finished window, trained for 44 epochs, loss: 0.374\n",
      "Training 6 time\n",
      "[epoch: 1] train loss: 0.513, val loss: 1.259\n",
      "Finished window, trained for 37 epochs, loss: 0.419\n",
      "Training 7 time\n",
      "[epoch: 1] train loss: 0.513, val loss: 0.514\n",
      "Finished window, trained for 28 epochs, loss: 0.422\n",
      "Training 8 time\n",
      "[epoch: 1] train loss: 0.592, val loss: 1.708\n",
      "Finished window, trained for 48 epochs, loss: 0.313\n",
      "Training 9 time\n",
      "[epoch: 1] train loss: 0.596, val loss: 2.019\n",
      "Finished window, trained for 24 epochs, loss: 0.615\n",
      "[0.29785453230031717, 0.45982835889306095, 1.0624504728192863, 0.23576299789406008, 0.20959516653702373, 0.37446066075935963, 0.4189314008568458, 0.4224687227358421, 0.3133950709021606, 0.6150687065917909]\n",
      "Training new net, 4 lags 24 hidden\n",
      "Training 0 time\n",
      "[epoch: 1] train loss: 0.496, val loss: 0.997\n",
      "Finished window, trained for 29 epochs, loss: 0.530\n",
      "Training 1 time\n",
      "[epoch: 1] train loss: 0.726, val loss: 0.366\n",
      "Finished window, trained for 28 epochs, loss: 0.225\n",
      "Training 2 time\n",
      "[epoch: 1] train loss: 0.665, val loss: 0.656\n",
      "Finished window, trained for 26 epochs, loss: 0.279\n",
      "Training 3 time\n",
      "[epoch: 1] train loss: 0.640, val loss: 0.935\n",
      "Finished window, trained for 34 epochs, loss: 0.320\n",
      "Training 4 time\n",
      "[epoch: 1] train loss: 0.582, val loss: 1.047\n",
      "Finished window, trained for 38 epochs, loss: 0.235\n",
      "Training 5 time\n",
      "[epoch: 1] train loss: 0.447, val loss: 0.652\n",
      "Finished window, trained for 30 epochs, loss: 0.282\n",
      "Training 6 time\n",
      "[epoch: 1] train loss: 0.438, val loss: 1.050\n",
      "Finished window, trained for 46 epochs, loss: 0.266\n",
      "Training 7 time\n",
      "[epoch: 1] train loss: 0.532, val loss: 1.105\n",
      "Finished window, trained for 45 epochs, loss: 0.425\n",
      "Training 8 time\n",
      "[epoch: 1] train loss: 0.574, val loss: 1.179\n",
      "Finished window, trained for 52 epochs, loss: 0.288\n",
      "Training 9 time\n",
      "[epoch: 1] train loss: 0.508, val loss: 1.647\n",
      "Finished window, trained for 21 epochs, loss: 0.644\n",
      "[0.53032265124521, 0.2253017845585765, 0.27925256558283723, 0.31967810506854827, 0.2353956883387928, 0.2818150800475407, 0.26592582327180675, 0.4252794884743967, 0.28794785949312857, 0.643852625142539]\n",
      "Training new net, 5 lags 24 hidden\n",
      "Training 0 time\n",
      "[epoch: 1] train loss: 0.660, val loss: 1.441\n",
      "Finished window, trained for 32 epochs, loss: 0.604\n",
      "Training 1 time\n",
      "[epoch: 1] train loss: 0.421, val loss: 0.493\n",
      "Finished window, trained for 27 epochs, loss: 0.385\n",
      "Training 2 time\n",
      "[epoch: 1] train loss: 0.440, val loss: 0.856\n",
      "Finished window, trained for 26 epochs, loss: 0.451\n",
      "Training 3 time\n",
      "[epoch: 1] train loss: 0.438, val loss: 1.295\n",
      "Finished window, trained for 30 epochs, loss: 0.472\n",
      "Training 4 time\n",
      "[epoch: 1] train loss: 0.421, val loss: 1.295\n",
      "Finished window, trained for 50 epochs, loss: 0.343\n",
      "Training 5 time\n",
      "[epoch: 1] train loss: 0.589, val loss: 1.488\n",
      "Finished window, trained for 24 epochs, loss: 0.639\n",
      "Training 6 time\n",
      "[epoch: 1] train loss: 0.419, val loss: 1.139\n",
      "Finished window, trained for 30 epochs, loss: 0.273\n",
      "Training 7 time\n",
      "[epoch: 1] train loss: 0.427, val loss: 1.366\n",
      "Finished window, trained for 44 epochs, loss: 0.599\n",
      "Training 8 time\n",
      "[epoch: 1] train loss: 0.512, val loss: 1.861\n",
      "Finished window, trained for 33 epochs, loss: 0.466\n",
      "Training 9 time\n",
      "[epoch: 1] train loss: 0.537, val loss: 2.073\n",
      "Finished window, trained for 33 epochs, loss: 0.560\n",
      "[0.6040936282081972, 0.38505461288704756, 0.4508668698414806, 0.4719520351383835, 0.343213411328283, 0.6388654527476146, 0.273107203860612, 0.5994855824259243, 0.46615042005266466, 0.5600119780593862]\n"
     ]
    }
   ],
   "source": [
    "hiddens = [24]\n",
    "\n",
    "for lags in range(1, 6):\n",
    "    data = ExtendedDataset(full, lags=lags, series=[\"CPIAUCSL\", \"A191RO1Q156NBEA\", \"UNRATE\"])\n",
    "\n",
    "    # subtract by lags to ensure same training sets\n",
    "    trainset = Subset(data, [i for i in range(val_start - 1 - lags)])\n",
    "    valset = Subset(data, [i for i in range(val_start - lags, test_start - 1 - lags)])\n",
    "\n",
    "    trainloader = DataLoader(trainset, batch_size=1, shuffle=False, sampler=SequentialSampler(trainset))\n",
    "    validationloader = DataLoader(valset, batch_size=1, shuffle=False, sampler=SequentialSampler(valset))\n",
    "\n",
    "    window = Window(trainloader, validationloader)\n",
    "    \n",
    "    for hidden_size in hiddens:\n",
    "        print(\"Training new net, %d lags %d hidden\" % (lags, hidden_size))\n",
    "\n",
    "        net = FeedforwardOneHidden(lags * full.shape[1], hidden_size=hidden_size)\n",
    "        criterion = nn.MSELoss()\n",
    "        optimizer = optim.SGD(net.parameters(), lr=0.001)\n",
    "        loss = train_times(10, trainer, net, criterion, optimizer, window)\n",
    "        print(loss)\n",
    "        losses[str(lags) + \"-\" + str(hidden_size)] = loss\n",
    "    "
   ]
  },
  {
   "cell_type": "code",
   "execution_count": 25,
   "metadata": {},
   "outputs": [
    {
     "data": {
      "text/plain": [
       "0.10975845688094739"
      ]
     },
     "execution_count": 25,
     "metadata": {},
     "output_type": "execute_result"
    }
   ],
   "source": [
    "lowest = 100000000\n",
    "\n",
    "for k, v in losses.items():\n",
    "    best_loss = v[np.argmin(v)]\n",
    "    if best_loss < lowest:\n",
    "        lowest = best_loss\n",
    "        \n",
    "lowest"
   ]
  },
  {
   "cell_type": "code",
   "execution_count": 12,
   "metadata": {},
   "outputs": [],
   "source": [
    "best_loss = []\n",
    "avg_loss = []\n",
    "\n",
    "for k, v in losses.items():\n",
    "    best_net_index = np.argmin(v)\n",
    "    best_loss.append(v[best_net_index])\n",
    "    avg_loss.append(get_average(v))\n"
   ]
  },
  {
   "cell_type": "code",
   "execution_count": 23,
   "metadata": {},
   "outputs": [
    {
     "data": {
      "image/png": "[encoded data removed]",
      "text/plain": [
       "<Figure size 921.6x633.6 with 1 Axes>"
      ]
     },
     "metadata": {},
     "output_type": "display_data"
    }
   ],
   "source": [
    "from matplotlib import style\n",
    "\n",
    "style.use('seaborn-poster') #sets the size of the charts\n",
    "style.use('ggplot')\n",
    "\n",
    "# plt.figure(figsize=(15,10))\n",
    "\n",
    "plt.plot([i for i in range(1, len(best_loss) + 1)], best_loss)\n",
    "plt.plot([i for i in range(1, len(best_loss) + 1)], avg_loss)\n",
    "\n",
    "plt.xticks([1, 2, 3, 4, 5])\n",
    "\n",
    "plt.legend((\"Lowest loss\", \"Average loss\"), facecolor=\"white\")\n",
    "plt.xlabel(\"Lags\", fontsize=20)\n",
    "plt.ylabel(\"Final Validation Loss\", fontsize=20)\n",
    "plt.savefig('../Figs/lags_deep_extended.png', bbox_inches='tight')"
   ]
  },
  {
   "cell_type": "code",
   "execution_count": 11,
   "metadata": {},
   "outputs": [],
   "source": [
    "save_obj(losses, \"FF_Extended_One_Layer\")"
   ]
  }
 ],
 "metadata": {
  "kernelspec": {
   "display_name": "Python 3",
   "language": "python",
   "name": "python3"
  },
  "language_info": {
   "codemirror_mode": {
    "name": "ipython",
    "version": 3
   },
   "file_extension": ".py",
   "mimetype": "text/x-python",
   "name": "python",
   "nbconvert_exporter": "python",
   "pygments_lexer": "ipython3",
   "version": "3.7.1"
  }
 },
 "nbformat": 4,
 "nbformat_minor": 2
}
