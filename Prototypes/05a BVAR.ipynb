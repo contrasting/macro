{
 "cells": [
  {
   "cell_type": "code",
   "execution_count": 1,
   "metadata": {},
   "outputs": [],
   "source": [
    "import pandas as pd\n",
    "import matplotlib.pyplot as plt\n",
    "import numpy as np\n",
    "from .../PycharmProjects.bvar.bvar.model import Bayesian Linear"
   ]
  },
  {
   "cell_type": "code",
   "execution_count": 2,
   "metadata": {},
   "outputs": [
    {
     "data": {
      "text/html": [
       "<div>\n",
       "<style scoped>\n",
       "    .dataframe tbody tr th:only-of-type {\n",
       "        vertical-align: middle;\n",
       "    }\n",
       "\n",
       "    .dataframe tbody tr th {\n",
       "        vertical-align: top;\n",
       "    }\n",
       "\n",
       "    .dataframe thead th {\n",
       "        text-align: right;\n",
       "    }\n",
       "</style>\n",
       "<table border=\"1\" class=\"dataframe\">\n",
       "  <thead>\n",
       "    <tr style=\"text-align: right;\">\n",
       "      <th></th>\n",
       "      <th>CPIAUCSL</th>\n",
       "      <th>FEDFUNDS</th>\n",
       "      <th>HOUST</th>\n",
       "      <th>INDPRO</th>\n",
       "      <th>INTDSRUSM193N</th>\n",
       "      <th>ISRATIO</th>\n",
       "      <th>M2SL</th>\n",
       "      <th>MTSDS133FMS</th>\n",
       "      <th>PAYEMS</th>\n",
       "      <th>PCE</th>\n",
       "      <th>...</th>\n",
       "      <th>CIVPART</th>\n",
       "      <th>GS20</th>\n",
       "      <th>GS3</th>\n",
       "      <th>IRLTLT01USM156N</th>\n",
       "      <th>M1SL</th>\n",
       "      <th>MCOILWTICO</th>\n",
       "      <th>PPIACO</th>\n",
       "      <th>TCU</th>\n",
       "      <th>TOTALSA</th>\n",
       "      <th>PMI</th>\n",
       "    </tr>\n",
       "  </thead>\n",
       "  <tbody>\n",
       "    <tr>\n",
       "      <th>1914-01-01</th>\n",
       "      <td>NaN</td>\n",
       "      <td>NaN</td>\n",
       "      <td>NaN</td>\n",
       "      <td>NaN</td>\n",
       "      <td>NaN</td>\n",
       "      <td>NaN</td>\n",
       "      <td>NaN</td>\n",
       "      <td>NaN</td>\n",
       "      <td>NaN</td>\n",
       "      <td>NaN</td>\n",
       "      <td>...</td>\n",
       "      <td>NaN</td>\n",
       "      <td>NaN</td>\n",
       "      <td>NaN</td>\n",
       "      <td>NaN</td>\n",
       "      <td>NaN</td>\n",
       "      <td>NaN</td>\n",
       "      <td>-2.479339</td>\n",
       "      <td>NaN</td>\n",
       "      <td>NaN</td>\n",
       "      <td>NaN</td>\n",
       "    </tr>\n",
       "    <tr>\n",
       "      <th>1914-02-01</th>\n",
       "      <td>NaN</td>\n",
       "      <td>NaN</td>\n",
       "      <td>NaN</td>\n",
       "      <td>NaN</td>\n",
       "      <td>NaN</td>\n",
       "      <td>NaN</td>\n",
       "      <td>NaN</td>\n",
       "      <td>NaN</td>\n",
       "      <td>NaN</td>\n",
       "      <td>NaN</td>\n",
       "      <td>...</td>\n",
       "      <td>NaN</td>\n",
       "      <td>NaN</td>\n",
       "      <td>NaN</td>\n",
       "      <td>NaN</td>\n",
       "      <td>NaN</td>\n",
       "      <td>NaN</td>\n",
       "      <td>-1.666667</td>\n",
       "      <td>NaN</td>\n",
       "      <td>NaN</td>\n",
       "      <td>NaN</td>\n",
       "    </tr>\n",
       "    <tr>\n",
       "      <th>1914-03-01</th>\n",
       "      <td>NaN</td>\n",
       "      <td>NaN</td>\n",
       "      <td>NaN</td>\n",
       "      <td>NaN</td>\n",
       "      <td>NaN</td>\n",
       "      <td>NaN</td>\n",
       "      <td>NaN</td>\n",
       "      <td>NaN</td>\n",
       "      <td>NaN</td>\n",
       "      <td>NaN</td>\n",
       "      <td>...</td>\n",
       "      <td>NaN</td>\n",
       "      <td>NaN</td>\n",
       "      <td>NaN</td>\n",
       "      <td>NaN</td>\n",
       "      <td>NaN</td>\n",
       "      <td>NaN</td>\n",
       "      <td>-2.500000</td>\n",
       "      <td>NaN</td>\n",
       "      <td>NaN</td>\n",
       "      <td>NaN</td>\n",
       "    </tr>\n",
       "    <tr>\n",
       "      <th>1914-04-01</th>\n",
       "      <td>NaN</td>\n",
       "      <td>NaN</td>\n",
       "      <td>NaN</td>\n",
       "      <td>NaN</td>\n",
       "      <td>NaN</td>\n",
       "      <td>NaN</td>\n",
       "      <td>NaN</td>\n",
       "      <td>NaN</td>\n",
       "      <td>NaN</td>\n",
       "      <td>NaN</td>\n",
       "      <td>...</td>\n",
       "      <td>NaN</td>\n",
       "      <td>NaN</td>\n",
       "      <td>NaN</td>\n",
       "      <td>NaN</td>\n",
       "      <td>NaN</td>\n",
       "      <td>NaN</td>\n",
       "      <td>-2.500000</td>\n",
       "      <td>NaN</td>\n",
       "      <td>NaN</td>\n",
       "      <td>NaN</td>\n",
       "    </tr>\n",
       "    <tr>\n",
       "      <th>1914-05-01</th>\n",
       "      <td>NaN</td>\n",
       "      <td>NaN</td>\n",
       "      <td>NaN</td>\n",
       "      <td>NaN</td>\n",
       "      <td>NaN</td>\n",
       "      <td>NaN</td>\n",
       "      <td>NaN</td>\n",
       "      <td>NaN</td>\n",
       "      <td>NaN</td>\n",
       "      <td>NaN</td>\n",
       "      <td>...</td>\n",
       "      <td>NaN</td>\n",
       "      <td>NaN</td>\n",
       "      <td>NaN</td>\n",
       "      <td>NaN</td>\n",
       "      <td>NaN</td>\n",
       "      <td>NaN</td>\n",
       "      <td>-2.521008</td>\n",
       "      <td>NaN</td>\n",
       "      <td>NaN</td>\n",
       "      <td>NaN</td>\n",
       "    </tr>\n",
       "  </tbody>\n",
       "</table>\n",
       "<p>5 rows × 32 columns</p>\n",
       "</div>"
      ],
      "text/plain": [
       "            CPIAUCSL  FEDFUNDS  HOUST  INDPRO  INTDSRUSM193N  ISRATIO  M2SL  \\\n",
       "1914-01-01       NaN       NaN    NaN     NaN            NaN      NaN   NaN   \n",
       "1914-02-01       NaN       NaN    NaN     NaN            NaN      NaN   NaN   \n",
       "1914-03-01       NaN       NaN    NaN     NaN            NaN      NaN   NaN   \n",
       "1914-04-01       NaN       NaN    NaN     NaN            NaN      NaN   NaN   \n",
       "1914-05-01       NaN       NaN    NaN     NaN            NaN      NaN   NaN   \n",
       "\n",
       "            MTSDS133FMS  PAYEMS  PCE ...   CIVPART  GS20  GS3  \\\n",
       "1914-01-01          NaN     NaN  NaN ...       NaN   NaN  NaN   \n",
       "1914-02-01          NaN     NaN  NaN ...       NaN   NaN  NaN   \n",
       "1914-03-01          NaN     NaN  NaN ...       NaN   NaN  NaN   \n",
       "1914-04-01          NaN     NaN  NaN ...       NaN   NaN  NaN   \n",
       "1914-05-01          NaN     NaN  NaN ...       NaN   NaN  NaN   \n",
       "\n",
       "            IRLTLT01USM156N  M1SL  MCOILWTICO    PPIACO  TCU  TOTALSA  PMI  \n",
       "1914-01-01              NaN   NaN         NaN -2.479339  NaN      NaN  NaN  \n",
       "1914-02-01              NaN   NaN         NaN -1.666667  NaN      NaN  NaN  \n",
       "1914-03-01              NaN   NaN         NaN -2.500000  NaN      NaN  NaN  \n",
       "1914-04-01              NaN   NaN         NaN -2.500000  NaN      NaN  NaN  \n",
       "1914-05-01              NaN   NaN         NaN -2.521008  NaN      NaN  NaN  \n",
       "\n",
       "[5 rows x 32 columns]"
      ]
     },
     "execution_count": 2,
     "metadata": {},
     "output_type": "execute_result"
    }
   ],
   "source": [
    "full = pd.read_csv('growth_rate.csv', index_col=0, header=[0] ,parse_dates=True)\n",
    "full.head() # unnormalised for now"
   ]
  },
  {
   "cell_type": "code",
   "execution_count": 3,
   "metadata": {},
   "outputs": [
    {
     "data": {
      "text/plain": [
       "[<matplotlib.lines.Line2D at 0x114da2e48>,\n",
       " <matplotlib.lines.Line2D at 0x114073b38>,\n",
       " <matplotlib.lines.Line2D at 0x114073d68>,\n",
       " <matplotlib.lines.Line2D at 0x114073eb8>,\n",
       " <matplotlib.lines.Line2D at 0x114081048>,\n",
       " <matplotlib.lines.Line2D at 0x114081198>,\n",
       " <matplotlib.lines.Line2D at 0x1140812e8>,\n",
       " <matplotlib.lines.Line2D at 0x114081438>,\n",
       " <matplotlib.lines.Line2D at 0x114081588>,\n",
       " <matplotlib.lines.Line2D at 0x1140816d8>,\n",
       " <matplotlib.lines.Line2D at 0x114dc6358>,\n",
       " <matplotlib.lines.Line2D at 0x114081940>,\n",
       " <matplotlib.lines.Line2D at 0x114081a90>,\n",
       " <matplotlib.lines.Line2D at 0x114081be0>,\n",
       " <matplotlib.lines.Line2D at 0x114081d30>,\n",
       " <matplotlib.lines.Line2D at 0x114081e80>,\n",
       " <matplotlib.lines.Line2D at 0x114081fd0>,\n",
       " <matplotlib.lines.Line2D at 0x11408a160>,\n",
       " <matplotlib.lines.Line2D at 0x11408a2b0>,\n",
       " <matplotlib.lines.Line2D at 0x11408a400>,\n",
       " <matplotlib.lines.Line2D at 0x11408a550>,\n",
       " <matplotlib.lines.Line2D at 0x11408a6a0>,\n",
       " <matplotlib.lines.Line2D at 0x11408a7f0>,\n",
       " <matplotlib.lines.Line2D at 0x11408a940>,\n",
       " <matplotlib.lines.Line2D at 0x11408aa90>,\n",
       " <matplotlib.lines.Line2D at 0x11408abe0>,\n",
       " <matplotlib.lines.Line2D at 0x11408ad30>,\n",
       " <matplotlib.lines.Line2D at 0x11408ae80>,\n",
       " <matplotlib.lines.Line2D at 0x11408afd0>,\n",
       " <matplotlib.lines.Line2D at 0x115021160>,\n",
       " <matplotlib.lines.Line2D at 0x1150212b0>,\n",
       " <matplotlib.lines.Line2D at 0x115021400>]"
      ]
     },
     "execution_count": 3,
     "metadata": {},
     "output_type": "execute_result"
    },
    {
     "data": {
      "image/png": "[encoded data removed]",
      "text/plain": [
       "<Figure size 432x288 with 1 Axes>"
      ]
     },
     "metadata": {
      "needs_background": "light"
     },
     "output_type": "display_data"
    }
   ],
   "source": [
    "plt.plot(full)"
   ]
  },
  {
   "cell_type": "code",
   "execution_count": 4,
   "metadata": {},
   "outputs": [],
   "source": [
    "# retain yoy\n",
    "full.drop(columns=['A191RL1Q225SBEA'], inplace=True)"
   ]
  },
  {
   "cell_type": "code",
   "execution_count": 5,
   "metadata": {},
   "outputs": [
    {
     "name": "stdout",
     "output_type": "stream",
     "text": [
      "ISRATIO\n",
      "MTSDS133FMS\n",
      "T10Y2YM\n",
      "USSLIND\n",
      "GFDEGDQ188S\n",
      "MCOILWTICO\n",
      "TCU\n",
      "TOTALSA\n",
      "False    23\n",
      "True      8\n",
      "Name: 1960-01-01 00:00:00, dtype: int64\n"
     ]
    }
   ],
   "source": [
    "slice = full.loc[\"1960-01-01\"].isna()\n",
    "\n",
    "for i, v in slice.items():\n",
    "    if v is True:\n",
    "        print(i)\n",
    "\n",
    "print(slice.value_counts())"
   ]
  },
  {
   "cell_type": "code",
   "execution_count": 6,
   "metadata": {},
   "outputs": [
    {
     "data": {
      "text/plain": [
       "(709, 31)"
      ]
     },
     "execution_count": 6,
     "metadata": {},
     "output_type": "execute_result"
    }
   ],
   "source": [
    "sliced = full.loc[\"1960-01-01\":\"2019-01-01\"]\n",
    "sliced.shape"
   ]
  },
  {
   "cell_type": "code",
   "execution_count": 7,
   "metadata": {},
   "outputs": [
    {
     "name": "stdout",
     "output_type": "stream",
     "text": [
      "INTDSRUSM193N\n",
      "ISRATIO\n",
      "MTSDS133FMS\n",
      "T10Y2YM\n",
      "USSLIND\n",
      "GFDEGDQ188S\n",
      "GS20\n",
      "MCOILWTICO\n",
      "TCU\n",
      "TOTALSA\n"
     ]
    },
    {
     "data": {
      "text/plain": [
       "(709, 21)"
      ]
     },
     "execution_count": 7,
     "metadata": {},
     "output_type": "execute_result"
    }
   ],
   "source": [
    "# which ones are null? drop them\n",
    "\n",
    "for series in sliced:\n",
    "    col = sliced[series]\n",
    "    if col.isna().value_counts().loc[False] < sliced.shape[0]:\n",
    "        print(series)\n",
    "        sliced = sliced.drop(columns=series)\n",
    "        \n",
    "sliced.shape"
   ]
  },
  {
   "cell_type": "code",
   "execution_count": 8,
   "metadata": {},
   "outputs": [
    {
     "data": {
      "text/html": [
       "<div>\n",
       "<style scoped>\n",
       "    .dataframe tbody tr th:only-of-type {\n",
       "        vertical-align: middle;\n",
       "    }\n",
       "\n",
       "    .dataframe tbody tr th {\n",
       "        vertical-align: top;\n",
       "    }\n",
       "\n",
       "    .dataframe thead th {\n",
       "        text-align: right;\n",
       "    }\n",
       "</style>\n",
       "<table border=\"1\" class=\"dataframe\">\n",
       "  <thead>\n",
       "    <tr style=\"text-align: right;\">\n",
       "      <th></th>\n",
       "      <th>CPIAUCSL</th>\n",
       "      <th>FEDFUNDS</th>\n",
       "      <th>HOUST</th>\n",
       "      <th>INDPRO</th>\n",
       "      <th>M2SL</th>\n",
       "      <th>PAYEMS</th>\n",
       "      <th>PCE</th>\n",
       "      <th>T10YFFM</th>\n",
       "      <th>UMCSENT</th>\n",
       "      <th>UNRATE</th>\n",
       "      <th>...</th>\n",
       "      <th>GPDI</th>\n",
       "      <th>PCEC</th>\n",
       "      <th>AAA</th>\n",
       "      <th>BAA</th>\n",
       "      <th>CIVPART</th>\n",
       "      <th>GS3</th>\n",
       "      <th>IRLTLT01USM156N</th>\n",
       "      <th>M1SL</th>\n",
       "      <th>PPIACO</th>\n",
       "      <th>PMI</th>\n",
       "    </tr>\n",
       "  </thead>\n",
       "  <tbody>\n",
       "    <tr>\n",
       "      <th>2018-09-01</th>\n",
       "      <td>2.269315</td>\n",
       "      <td>1.95</td>\n",
       "      <td>6.276870</td>\n",
       "      <td>5.405756</td>\n",
       "      <td>3.705648</td>\n",
       "      <td>1.791863</td>\n",
       "      <td>4.717353</td>\n",
       "      <td>1.05</td>\n",
       "      <td>5.257624</td>\n",
       "      <td>3.7</td>\n",
       "      <td>...</td>\n",
       "      <td>9.192057</td>\n",
       "      <td>4.713233</td>\n",
       "      <td>3.98</td>\n",
       "      <td>4.88</td>\n",
       "      <td>-0.633914</td>\n",
       "      <td>2.84</td>\n",
       "      <td>3.00</td>\n",
       "      <td>3.620391</td>\n",
       "      <td>4.517454</td>\n",
       "      <td>-0.833333</td>\n",
       "    </tr>\n",
       "    <tr>\n",
       "      <th>2018-10-01</th>\n",
       "      <td>2.517164</td>\n",
       "      <td>2.19</td>\n",
       "      <td>-3.965107</td>\n",
       "      <td>4.059313</td>\n",
       "      <td>3.393570</td>\n",
       "      <td>1.800247</td>\n",
       "      <td>4.912073</td>\n",
       "      <td>0.96</td>\n",
       "      <td>-2.085402</td>\n",
       "      <td>3.8</td>\n",
       "      <td>...</td>\n",
       "      <td>9.438733</td>\n",
       "      <td>4.486011</td>\n",
       "      <td>4.14</td>\n",
       "      <td>5.07</td>\n",
       "      <td>0.318979</td>\n",
       "      <td>2.94</td>\n",
       "      <td>3.15</td>\n",
       "      <td>3.160784</td>\n",
       "      <td>4.976911</td>\n",
       "      <td>-1.541096</td>\n",
       "    </tr>\n",
       "    <tr>\n",
       "      <th>2018-11-01</th>\n",
       "      <td>2.194621</td>\n",
       "      <td>2.20</td>\n",
       "      <td>-7.467283</td>\n",
       "      <td>4.062132</td>\n",
       "      <td>3.295557</td>\n",
       "      <td>1.781281</td>\n",
       "      <td>4.709343</td>\n",
       "      <td>0.92</td>\n",
       "      <td>-1.015228</td>\n",
       "      <td>3.7</td>\n",
       "      <td>...</td>\n",
       "      <td>8.911112</td>\n",
       "      <td>4.352245</td>\n",
       "      <td>4.22</td>\n",
       "      <td>5.22</td>\n",
       "      <td>0.159236</td>\n",
       "      <td>2.91</td>\n",
       "      <td>3.12</td>\n",
       "      <td>1.914284</td>\n",
       "      <td>3.266973</td>\n",
       "      <td>1.906412</td>\n",
       "    </tr>\n",
       "    <tr>\n",
       "      <th>2018-12-01</th>\n",
       "      <td>1.945131</td>\n",
       "      <td>2.27</td>\n",
       "      <td>-6.316653</td>\n",
       "      <td>3.769242</td>\n",
       "      <td>3.724372</td>\n",
       "      <td>1.815090</td>\n",
       "      <td>3.841979</td>\n",
       "      <td>0.56</td>\n",
       "      <td>2.502607</td>\n",
       "      <td>3.9</td>\n",
       "      <td>...</td>\n",
       "      <td>8.393747</td>\n",
       "      <td>4.219135</td>\n",
       "      <td>4.02</td>\n",
       "      <td>5.13</td>\n",
       "      <td>0.637959</td>\n",
       "      <td>2.67</td>\n",
       "      <td>2.83</td>\n",
       "      <td>3.856589</td>\n",
       "      <td>2.394294</td>\n",
       "      <td>-8.585859</td>\n",
       "    </tr>\n",
       "    <tr>\n",
       "      <th>2019-01-01</th>\n",
       "      <td>1.522396</td>\n",
       "      <td>2.40</td>\n",
       "      <td>-3.295880</td>\n",
       "      <td>3.599663</td>\n",
       "      <td>4.107989</td>\n",
       "      <td>1.908410</td>\n",
       "      <td>3.970694</td>\n",
       "      <td>0.31</td>\n",
       "      <td>-4.702194</td>\n",
       "      <td>4.0</td>\n",
       "      <td>...</td>\n",
       "      <td>7.886342</td>\n",
       "      <td>4.086677</td>\n",
       "      <td>3.93</td>\n",
       "      <td>5.12</td>\n",
       "      <td>0.797448</td>\n",
       "      <td>2.52</td>\n",
       "      <td>2.71</td>\n",
       "      <td>2.496510</td>\n",
       "      <td>0.606367</td>\n",
       "      <td>-5.033557</td>\n",
       "    </tr>\n",
       "  </tbody>\n",
       "</table>\n",
       "<p>5 rows × 21 columns</p>\n",
       "</div>"
      ],
      "text/plain": [
       "            CPIAUCSL  FEDFUNDS     HOUST    INDPRO      M2SL    PAYEMS  \\\n",
       "2018-09-01  2.269315      1.95  6.276870  5.405756  3.705648  1.791863   \n",
       "2018-10-01  2.517164      2.19 -3.965107  4.059313  3.393570  1.800247   \n",
       "2018-11-01  2.194621      2.20 -7.467283  4.062132  3.295557  1.781281   \n",
       "2018-12-01  1.945131      2.27 -6.316653  3.769242  3.724372  1.815090   \n",
       "2019-01-01  1.522396      2.40 -3.295880  3.599663  4.107989  1.908410   \n",
       "\n",
       "                 PCE  T10YFFM   UMCSENT  UNRATE    ...         GPDI      PCEC  \\\n",
       "2018-09-01  4.717353     1.05  5.257624     3.7    ...     9.192057  4.713233   \n",
       "2018-10-01  4.912073     0.96 -2.085402     3.8    ...     9.438733  4.486011   \n",
       "2018-11-01  4.709343     0.92 -1.015228     3.7    ...     8.911112  4.352245   \n",
       "2018-12-01  3.841979     0.56  2.502607     3.9    ...     8.393747  4.219135   \n",
       "2019-01-01  3.970694     0.31 -4.702194     4.0    ...     7.886342  4.086677   \n",
       "\n",
       "             AAA   BAA   CIVPART   GS3  IRLTLT01USM156N      M1SL    PPIACO  \\\n",
       "2018-09-01  3.98  4.88 -0.633914  2.84             3.00  3.620391  4.517454   \n",
       "2018-10-01  4.14  5.07  0.318979  2.94             3.15  3.160784  4.976911   \n",
       "2018-11-01  4.22  5.22  0.159236  2.91             3.12  1.914284  3.266973   \n",
       "2018-12-01  4.02  5.13  0.637959  2.67             2.83  3.856589  2.394294   \n",
       "2019-01-01  3.93  5.12  0.797448  2.52             2.71  2.496510  0.606367   \n",
       "\n",
       "                 PMI  \n",
       "2018-09-01 -0.833333  \n",
       "2018-10-01 -1.541096  \n",
       "2018-11-01  1.906412  \n",
       "2018-12-01 -8.585859  \n",
       "2019-01-01 -5.033557  \n",
       "\n",
       "[5 rows x 21 columns]"
      ]
     },
     "execution_count": 8,
     "metadata": {},
     "output_type": "execute_result"
    }
   ],
   "source": [
    "sliced.tail()"
   ]
  },
  {
   "cell_type": "code",
   "execution_count": 9,
   "metadata": {},
   "outputs": [
    {
     "data": {
      "text/plain": [
       "[<matplotlib.lines.Line2D at 0x115160908>,\n",
       " <matplotlib.lines.Line2D at 0x1152716a0>,\n",
       " <matplotlib.lines.Line2D at 0x115271828>,\n",
       " <matplotlib.lines.Line2D at 0x115271978>,\n",
       " <matplotlib.lines.Line2D at 0x115271ac8>,\n",
       " <matplotlib.lines.Line2D at 0x115271c18>,\n",
       " <matplotlib.lines.Line2D at 0x115271d68>,\n",
       " <matplotlib.lines.Line2D at 0x115271eb8>,\n",
       " <matplotlib.lines.Line2D at 0x115278048>,\n",
       " <matplotlib.lines.Line2D at 0x115278198>,\n",
       " <matplotlib.lines.Line2D at 0x11524d710>,\n",
       " <matplotlib.lines.Line2D at 0x115278400>,\n",
       " <matplotlib.lines.Line2D at 0x115278550>,\n",
       " <matplotlib.lines.Line2D at 0x1152786a0>,\n",
       " <matplotlib.lines.Line2D at 0x1152787f0>,\n",
       " <matplotlib.lines.Line2D at 0x115278940>,\n",
       " <matplotlib.lines.Line2D at 0x115278a90>,\n",
       " <matplotlib.lines.Line2D at 0x115278be0>,\n",
       " <matplotlib.lines.Line2D at 0x115278d30>,\n",
       " <matplotlib.lines.Line2D at 0x115278e80>,\n",
       " <matplotlib.lines.Line2D at 0x115278fd0>]"
      ]
     },
     "execution_count": 9,
     "metadata": {},
     "output_type": "execute_result"
    },
    {
     "data": {
      "image/png": "[encoded data removed]",
      "text/plain": [
       "<Figure size 432x288 with 1 Axes>"
      ]
     },
     "metadata": {
      "needs_background": "light"
     },
     "output_type": "display_data"
    }
   ],
   "source": [
    "plt.plot(sliced)"
   ]
  },
  {
   "cell_type": "code",
   "execution_count": 10,
   "metadata": {},
   "outputs": [],
   "source": [
    "def get_lags(X, lags):\n",
    "    X_lagged = pd.DataFrame()\n",
    "\n",
    "    for i in range(lags):\n",
    "        temp = X.shift(i)\n",
    "        X_lagged = pd.concat([X_lagged, temp], axis=1)\n",
    "\n",
    "    return X_lagged\n"
   ]
  },
  {
   "cell_type": "code",
   "execution_count": 11,
   "metadata": {},
   "outputs": [],
   "source": [
    "n = sliced.shape[1] # num of series\n",
    "lags = 3\n",
    "k = lags * n + 1"
   ]
  },
  {
   "cell_type": "code",
   "execution_count": 12,
   "metadata": {},
   "outputs": [
    {
     "data": {
      "text/plain": [
       "(709, 63)"
      ]
     },
     "execution_count": 12,
     "metadata": {},
     "output_type": "execute_result"
    }
   ],
   "source": [
    "X_lagged = get_lags(sliced, lags)\n",
    "X_lagged.shape"
   ]
  },
  {
   "cell_type": "code",
   "execution_count": 13,
   "metadata": {},
   "outputs": [
    {
     "name": "stdout",
     "output_type": "stream",
     "text": [
      "(709, 21)\n",
      "(709, 64)\n"
     ]
    }
   ],
   "source": [
    "y = sliced\n",
    "X = np.concatenate((np.ones((y.shape[0], 1)), X_lagged), axis=1)\n",
    "print(y.shape)\n",
    "print(X.shape)"
   ]
  },
  {
   "cell_type": "code",
   "execution_count": 14,
   "metadata": {},
   "outputs": [
    {
     "name": "stdout",
     "output_type": "stream",
     "text": [
      "(706, 21)\n",
      "(706, 64)\n"
     ]
    }
   ],
   "source": [
    "y = y[lags:]\n",
    "X = X[lags:]\n",
    "print(y.shape) # t * n\n",
    "print(X.shape) # t * k"
   ]
  },
  {
   "cell_type": "code",
   "execution_count": 15,
   "metadata": {},
   "outputs": [],
   "source": [
    "t = y.shape[0] # time periods"
   ]
  },
  {
   "cell_type": "code",
   "execution_count": 23,
   "metadata": {},
   "outputs": [
    {
     "name": "stdout",
     "output_type": "stream",
     "text": [
      "(1, 1344)\n"
     ]
    }
   ],
   "source": [
    "for i in range(n):\n",
    "    temp = np.zeros((k, 1))\n",
    "    temp[i + 1] = 1\n",
    "    if i == 0:\n",
    "        b_0 = temp.T\n",
    "    else:\n",
    "        b_0 = np.concatenate((b_0, temp.T), axis=1)\n",
    "\n",
    "print(b_0.shape) # which is 21 * 64"
   ]
  },
  {
   "cell_type": "code",
   "execution_count": 24,
   "metadata": {},
   "outputs": [
    {
     "name": "stdout",
     "output_type": "stream",
     "text": [
      "(1344, 1)\n"
     ]
    }
   ],
   "source": [
    "b_0 = b_0.T\n",
    "print(b_0.shape)"
   ]
  },
  {
   "cell_type": "code",
   "execution_count": 22,
   "metadata": {},
   "outputs": [
    {
     "name": "stdout",
     "output_type": "stream",
     "text": [
      "(64, 21)\n",
      "(21, 21)\n"
     ]
    }
   ],
   "source": [
    "from scipy.linalg import lstsq\n",
    "\n",
    "coef, _, _, _ = lstsq(X, y)\n",
    "error = y - np.dot(X, coef)\n",
    "sse = np.dot(error.T, error)\n",
    "# var = sse / (n - k)\n",
    "sigma = (1 / (y.shape[0] - X.shape[1])) * sse\n",
    "\n",
    "print(coef.shape) # k * n\n",
    "print(sigma.shape)"
   ]
  },
  {
   "cell_type": "code",
   "execution_count": 20,
   "metadata": {},
   "outputs": [
    {
     "data": {
      "text/plain": [
       "2.3648953218832003e+17"
      ]
     },
     "execution_count": 20,
     "metadata": {},
     "output_type": "execute_result"
    }
   ],
   "source": [
    "np.linalg.cond(np.matmul(X.T, X)) # extremely ill conditioned..."
   ]
  },
  {
   "cell_type": "code",
   "execution_count": null,
   "metadata": {},
   "outputs": [],
   "source": []
  }
 ],
 "metadata": {
  "kernelspec": {
   "display_name": "Python 3",
   "language": "python",
   "name": "python3"
  },
  "language_info": {
   "codemirror_mode": {
    "name": "ipython",
    "version": 3
   },
   "file_extension": ".py",
   "mimetype": "text/x-python",
   "name": "python",
   "nbconvert_exporter": "python",
   "pygments_lexer": "ipython3",
   "version": "3.7.1"
  }
 },
 "nbformat": 4,
 "nbformat_minor": 2
}
