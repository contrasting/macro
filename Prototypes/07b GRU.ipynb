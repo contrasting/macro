{
 "cells": [
  {
   "cell_type": "code",
   "execution_count": 1,
   "metadata": {},
   "outputs": [],
   "source": [
    "import pandas as pd\n",
    "import matplotlib.pyplot as plt\n",
    "import torch\n",
    "import torch.nn as nn\n",
    "import torch.nn.functional as F\n",
    "import torch.optim as optim\n",
    "from torch.utils.data import Dataset, DataLoader, SequentialSampler, Subset\n",
    "from utils import get_lags, get_average, TrainHelper, Window, CoreDataset, evaluate_on_test, init_weights"
   ]
  },
  {
   "cell_type": "code",
   "execution_count": 2,
   "metadata": {},
   "outputs": [],
   "source": [
    "lags = 3\n",
    "full = pd.read_csv('normalised_growth.csv', index_col=0, header=[0], parse_dates=True)\n",
    "coredata = CoreDataset(full, lags=lags, series=[\"CPIAUCSL\", \"A191RO1Q156NBEA\", \"UNRATE\"])"
   ]
  },
  {
   "cell_type": "code",
   "execution_count": 3,
   "metadata": {},
   "outputs": [],
   "source": [
    "length = len(coredata)\n",
    "val_start = round(length * 0.8)\n",
    "test_start = round(length * 0.9)"
   ]
  },
  {
   "cell_type": "code",
   "execution_count": 6,
   "metadata": {
    "pycharm": {
     "is_executing": false
    }
   },
   "outputs": [],
   "source": [
    "trainset = Subset(coredata, [i for i in range(val_start - 1)])\n",
    "valset = Subset(coredata, [i for i in range(val_start, test_start - 1)])\n",
    "testset = Subset(coredata, [i for i in range(test_start, length)])\n",
    "\n",
    "trainloader = DataLoader(trainset, batch_size=1, \n",
    "                        shuffle=False,\n",
    "                        sampler=SequentialSampler(trainset))\n",
    "\n",
    "validationloader = DataLoader(valset, batch_size=1, shuffle=False,\n",
    "                    sampler=SequentialSampler(valset))\n",
    "\n",
    "testloader = DataLoader(testset, batch_size=1, shuffle=False,\n",
    "                        sampler=SequentialSampler(testset))\n",
    "\n",
    "window = Window(trainloader, validationloader)"
   ]
  },
  {
   "cell_type": "code",
   "execution_count": 7,
   "metadata": {
    "collapsed": false,
    "pycharm": {
     "is_executing": false,
     "name": "#%%\n"
    }
   },
   "outputs": [
    {
     "name": "stdout",
     "output_type": "stream",
     "text": [
      "tensor([[-0.1517,  1.6716, -0.3439]], dtype=torch.float64)\n"
     ]
    }
   ],
   "source": [
    "# check if view works\n",
    "for i, data in enumerate(testloader):\n",
    "    y, X = data\n",
    "    print(X.view(3, 1, 3)[0])\n",
    "    break"
   ]
  },
  {
   "cell_type": "code",
   "execution_count": 11,
   "metadata": {
    "pycharm": {
     "is_executing": false
    }
   },
   "outputs": [],
   "source": [
    "class LSTMNet(nn.Module):\n",
    "    def __init__(self, lags, hidden_size):\n",
    "        super(LSTMNet, self).__init__()\n",
    "        self.lags = lags\n",
    "        \n",
    "        # input_size should match that in forward method\n",
    "        self.gru = nn.GRU(input_size=3, hidden_size=hidden_size)\n",
    "        self.fc = nn.Linear(hidden_size, 3)\n",
    "        \n",
    "    def forward(self, x):\n",
    "        # input to lstm layer is (seq_len, batch, input_size)\n",
    "        x, hidden = self.gru(x.view(self.lags, 1, 3))\n",
    "        x = F.relu(x)\n",
    "        x = self.fc(x)\n",
    "        return x        \n",
    "        \n",
    "model = LSTMNet(lags=lags, hidden_size=12)"
   ]
  },
  {
   "cell_type": "code",
   "execution_count": 12,
   "metadata": {
    "collapsed": false,
    "pycharm": {
     "is_executing": false,
     "name": "#%%\n"
    }
   },
   "outputs": [],
   "source": [
    "criterion = nn.MSELoss()\n",
    "optimizer = optim.SGD(model.parameters(), lr=0.001)"
   ]
  },
  {
   "cell_type": "code",
   "execution_count": 21,
   "metadata": {
    "collapsed": false,
    "pycharm": {
     "is_executing": false,
     "name": "#%%\n"
    }
   },
   "outputs": [
    {
     "name": "stdout",
     "output_type": "stream",
     "text": [
      "[epoch: 1] train loss: 0.079, val loss: 0.135\n",
      "[epoch: 6] train loss: 0.076, val loss: 0.128\n",
      "[epoch: 11] train loss: 0.072, val loss: 0.122\n",
      "[epoch: 16] train loss: 0.070, val loss: 0.117\n",
      "[epoch: 21] train loss: 0.067, val loss: 0.112\n",
      "[epoch: 26] train loss: 0.064, val loss: 0.107\n",
      "[epoch: 31] train loss: 0.062, val loss: 0.103\n",
      "[epoch: 36] train loss: 0.060, val loss: 0.100\n",
      "[epoch: 41] train loss: 0.058, val loss: 0.096\n",
      "[epoch: 46] train loss: 0.057, val loss: 0.094\n",
      "[epoch: 51] train loss: 0.056, val loss: 0.092\n"
     ]
    },
    {
     "name": "stdin",
     "output_type": "stream",
     "text": [
      "Continue training? True or False:  False\n"
     ]
    },
    {
     "name": "stdout",
     "output_type": "stream",
     "text": [
      "Finished window\n"
     ]
    }
   ],
   "source": [
    "trainer = TrainHelper(percent = 0.97, manual = 50)\n",
    "trainer.train_window(model, criterion, optimizer, window)"
   ]
  },
  {
   "cell_type": "code",
   "execution_count": 17,
   "metadata": {},
   "outputs": [
    {
     "name": "stderr",
     "output_type": "stream",
     "text": [
      "/Users/fredchen/JupyterProjects/macro/utils.py:348: UserWarning: nn.init.xavier_uniform is now deprecated in favor of nn.init.xavier_uniform_.\n",
      "  torch.nn.init.xavier_uniform(m.weight)\n"
     ]
    },
    {
     "data": {
      "text/plain": [
       "LSTMNet(\n",
       "  (gru): GRU(3, 12)\n",
       "  (fc): Linear(in_features=12, out_features=3, bias=True)\n",
       ")"
      ]
     },
     "execution_count": 17,
     "metadata": {},
     "output_type": "execute_result"
    }
   ],
   "source": [
    "# model.apply(init_weights)"
   ]
  },
  {
   "cell_type": "code",
   "execution_count": 22,
   "metadata": {},
   "outputs": [
    {
     "name": "stdout",
     "output_type": "stream",
     "text": [
      "Average MSE on test set: 0.029888730472885074\n"
     ]
    },
    {
     "data": {
      "image/png": "[encoded data removed]",
      "text/plain": [
       "<Figure size 432x288 with 1 Axes>"
      ]
     },
     "metadata": {
      "needs_background": "light"
     },
     "output_type": "display_data"
    }
   ],
   "source": [
    "y_pred = []\n",
    "y_act = []\n",
    "running_test_loss = []\n",
    "\n",
    "# evaluating LSTM is slightly different, only take last output in sequence\n",
    "for i, data in enumerate(testloader):\n",
    "    with torch.no_grad():\n",
    "        y, X = data\n",
    "        y, X = y.float(), X.float()\n",
    "        \n",
    "        loss = criterion(y, model(X))\n",
    "        running_test_loss.append(loss.item())\n",
    "    \n",
    "        y_pred.append(model(X).squeeze()[lags-1][0].item())\n",
    "        y_act.append(y.squeeze()[0].item())\n",
    "    \n",
    "plt.plot(y_pred)\n",
    "plt.plot(y_act)\n",
    "\n",
    "print(\"Average MSE on test set: \" + str(get_average(running_test_loss)))"
   ]
  },
  {
   "cell_type": "code",
   "execution_count": null,
   "metadata": {},
   "outputs": [],
   "source": [
    "# Wow. GRU is good..."
   ]
  }
 ],
 "metadata": {
  "kernelspec": {
   "display_name": "Python 3",
   "language": "python",
   "name": "python3"
  },
  "language_info": {
   "codemirror_mode": {
    "name": "ipython",
    "version": 3
   },
   "file_extension": ".py",
   "mimetype": "text/x-python",
   "name": "python",
   "nbconvert_exporter": "python",
   "pygments_lexer": "ipython3",
   "version": "3.7.1"
  }
 },
 "nbformat": 4,
 "nbformat_minor": 2
}
