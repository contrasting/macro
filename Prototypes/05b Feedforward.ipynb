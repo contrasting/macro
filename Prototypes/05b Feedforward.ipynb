{
 "cells": [
  {
   "cell_type": "code",
   "execution_count": 2,
   "metadata": {
    "pycharm": {
     "is_executing": false
    }
   },
   "outputs": [],
   "source": [
    "import pandas as pd\n",
    "import matplotlib.pyplot as plt\n",
    "import torch\n",
    "import torch.nn as nn\n",
    "import torch.nn.functional as F\n",
    "import torch.optim as optim\n",
    "from torch.utils.data import Dataset, DataLoader, SequentialSampler, Subset\n",
    "from utils import get_lags, get_average, TrainHelper, Window, CoreDataset, evaluate_on_test, init_weights"
   ]
  },
  {
   "cell_type": "code",
   "execution_count": 3,
   "metadata": {
    "collapsed": false,
    "pycharm": {
     "is_executing": false,
     "name": "#%%\n"
    }
   },
   "outputs": [],
   "source": [
    "class CoreDataset(Dataset):\n",
    "    \n",
    "    def __init__(self, df: pd.DataFrame, lags: int):\n",
    "        # start from 1948\n",
    "        core: pd.DataFrame = df[[\"CPIAUCSL\", \"UNRATE\", \"A191RO1Q156NBEA\"]].loc[\"1948-01-01\":]\n",
    "        \n",
    "        X = get_lags(core, lags)\n",
    "        self.y = core[lags:].values\n",
    "        self.X = X[lags:].values\n",
    "        \n",
    "    def __getitem__(self, index):\n",
    "        return self.y[index], self.X[index]\n",
    "    \n",
    "    def __len__(self):\n",
    "        return len(self.y)\n",
    "    \n",
    "    def plot(self):\n",
    "        plt.plot(self.core)\n",
    "        plt.show()\n",
    "\n",
    "full = pd.read_csv('growth_rate.csv', index_col=0, header=[0] ,parse_dates=True)\n",
    "coreDataset = CoreDataset(full, lags=3)"
   ]
  },
  {
   "cell_type": "code",
   "execution_count": 4,
   "metadata": {
    "collapsed": false,
    "pycharm": {
     "is_executing": false,
     "name": "#%%\n"
    }
   },
   "outputs": [],
   "source": [
    "trainset = Subset(coreDataset, [i for i in range(700)])\n",
    "testset = Subset(coreDataset, [i for i in range(701, len(coreDataset))])\n",
    "\n",
    "trainloader = DataLoader(trainset, batch_size=1, \n",
    "                        shuffle=False,\n",
    "                        sampler=SequentialSampler(trainset))\n",
    "\n",
    "testloader = DataLoader(testset, batch_size=1, shuffle=False,\n",
    "                        sampler=SequentialSampler(testset))"
   ]
  },
  {
   "cell_type": "code",
   "execution_count": 5,
   "metadata": {
    "pycharm": {
     "is_executing": false
    }
   },
   "outputs": [],
   "source": [
    "class Feedforward(nn.Module):\n",
    "    \n",
    "    def __init__(self):\n",
    "        super(Feedforward, self).__init__()\n",
    "        self.fc1 = nn.Linear(9, 6)\n",
    "        self.fc2 = nn.Linear(6, 6)\n",
    "        self.fc3 = nn.Linear(6, 3)\n",
    "        \n",
    "    def forward(self, x):\n",
    "        x = F.relu(self.fc1(x))\n",
    "        x = F.relu(self.fc2(x))\n",
    "        x = self.fc3(x)  # no activation at output layer\n",
    "        return x\n",
    "    \n",
    "net = Feedforward()"
   ]
  },
  {
   "cell_type": "code",
   "execution_count": 6,
   "metadata": {
    "collapsed": false,
    "pycharm": {
     "is_executing": false,
     "name": "#%%\n"
    }
   },
   "outputs": [],
   "source": [
    "criterion = nn.MSELoss()\n",
    "# decreasing the learning rate solved the problem\n",
    "# https://stackoverflow.com/questions/35540269/keras-giving-same-loss-on-every-epoch\n",
    "optimizer = optim.SGD(net.parameters(), lr=0.0001)"
   ]
  },
  {
   "cell_type": "code",
   "execution_count": 80,
   "metadata": {
    "collapsed": false,
    "pycharm": {
     "is_executing": false,
     "name": "#%%\n"
    }
   },
   "outputs": [
    {
     "name": "stdout",
     "output_type": "stream",
     "text": [
      "[1,   200] loss: 9.180\n",
      "[1,   400] loss: 10.306\n",
      "[1,   600] loss: 1.290\n",
      "[2,   200] loss: 0.501\n",
      "[2,   400] loss: 1.708\n",
      "[2,   600] loss: 0.635\n",
      "[3,   200] loss: 0.147\n",
      "[3,   400] loss: 1.114\n",
      "[3,   600] loss: 0.348\n",
      "[4,   200] loss: 0.037\n",
      "[4,   400] loss: 0.832\n",
      "[4,   600] loss: 0.329\n",
      "[5,   200] loss: 0.032\n",
      "[5,   400] loss: 0.719\n",
      "[5,   600] loss: 0.333\n",
      "Finished training\n"
     ]
    }
   ],
   "source": [
    "for epoch in range(5):\n",
    "        \n",
    "    for i, data in enumerate(trainloader):\n",
    "        \n",
    "        y, X = data\n",
    "        y, X = y.float(), X.float()\n",
    "        \n",
    "        optimizer.zero_grad()\n",
    "        \n",
    "        y_pred = net(X)\n",
    "        loss = criterion(y, y_pred)\n",
    "        loss.backward()\n",
    "        optimizer.step()\n",
    "        \n",
    "        if i % 200 == 199:\n",
    "            print(\"[%d, %5d] loss: %.3f\" % (epoch + 1, i + 1, loss.item()))\n",
    "            \n",
    "print(\"Finished training\")\n",
    "        "
   ]
  },
  {
   "cell_type": "code",
   "execution_count": 79,
   "metadata": {
    "collapsed": false,
    "pycharm": {
     "is_executing": false,
     "name": "#%%\n"
    }
   },
   "outputs": [
    {
     "name": "stderr",
     "output_type": "stream",
     "text": [
      "/usr/local/lib/python3.7/site-packages/ipykernel_launcher.py:5: UserWarning: nn.init.xavier_uniform is now deprecated in favor of nn.init.xavier_uniform_.\n",
      "  \"\"\"\n"
     ]
    },
    {
     "data": {
      "text/plain": [
       "Feedforward(\n",
       "  (fc1): Linear(in_features=9, out_features=6, bias=True)\n",
       "  (fc2): Linear(in_features=6, out_features=6, bias=True)\n",
       "  (fc3): Linear(in_features=6, out_features=3, bias=True)\n",
       ")"
      ]
     },
     "execution_count": 79,
     "metadata": {},
     "output_type": "execute_result"
    }
   ],
   "source": [
    "# to reset the weights\n",
    "def init_weights(m):\n",
    "    if type(m) == nn.Linear:\n",
    "        torch.nn.init.xavier_uniform(m.weight)\n",
    "    \n",
    "net.apply(init_weights)"
   ]
  },
  {
   "cell_type": "code",
   "execution_count": 89,
   "metadata": {
    "collapsed": false,
    "pycharm": {
     "is_executing": false,
     "name": "#%%\n"
    }
   },
   "outputs": [],
   "source": [
    "y_pred = []\n",
    "y_act = []\n",
    "\n",
    "with torch.no_grad():\n",
    "\n",
    "    for i, data in enumerate(testloader):\n",
    "        y, X = data\n",
    "        y, X = y.float(), X.float()\n",
    "        \n",
    "        if i < 3:\n",
    "            y_pred.append(net(X))\n",
    "        else:\n",
    "            temp_X = torch.cat((y_pred[i-1], y_pred[i-2], y_pred[i-3]), 1)\n",
    "            y_pred.append(net(temp_X))\n",
    "            \n",
    "        y_act.append(y[0][0].item())\n"
   ]
  },
  {
   "cell_type": "code",
   "execution_count": 90,
   "metadata": {
    "collapsed": false,
    "pycharm": {
     "is_executing": false,
     "name": "#%%\n"
    }
   },
   "outputs": [
    {
     "data": {
      "text/plain": [
       "[<matplotlib.lines.Line2D at 0x1171f1438>]"
      ]
     },
     "execution_count": 90,
     "metadata": {},
     "output_type": "execute_result"
    },
    {
     "data": {
      "image/png": "[encoded data removed]",
      "text/plain": [
       "<Figure size 432x288 with 1 Axes>"
      ]
     },
     "metadata": {
      "needs_background": "light"
     },
     "output_type": "display_data"
    }
   ],
   "source": [
    "cpi_pred = []\n",
    "\n",
    "for i in range(len(y_pred)):\n",
    "    cpi_pred.append(y_pred[i].numpy().squeeze()[0])\n",
    "\n",
    "plt.plot(cpi_pred)\n",
    "plt.plot(y_act)\n"
   ]
  },
  {
   "cell_type": "code",
   "execution_count": 86,
   "metadata": {
    "collapsed": false,
    "pycharm": {
     "is_executing": false,
     "name": "#%%\n"
    }
   },
   "outputs": [
    {
     "data": {
      "text/plain": [
       "tensor([[1.9451, 3.9000, 3.1333, 2.1946, 3.7000, 3.0667, 2.5172, 3.8000, 3.0000]])"
      ]
     },
     "execution_count": 86,
     "metadata": {},
     "output_type": "execute_result"
    }
   ],
   "source": [
    "# do iterative forecasting - one vs four step ahead forecasting!\n",
    "# sliding windows?"
   ]
  }
 ],
 "metadata": {
  "kernelspec": {
   "display_name": "Python 3",
   "language": "python",
   "name": "python3"
  },
  "language_info": {
   "codemirror_mode": {
    "name": "ipython",
    "version": 3
   },
   "file_extension": ".py",
   "mimetype": "text/x-python",
   "name": "python",
   "nbconvert_exporter": "python",
   "pygments_lexer": "ipython3",
   "version": "3.7.1"
  },
  "pycharm": {
   "stem_cell": {
    "cell_type": "raw",
    "metadata": {
     "collapsed": false
    },
    "source": []
   }
  }
 },
 "nbformat": 4,
 "nbformat_minor": 2
}
