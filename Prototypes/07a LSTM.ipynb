{
 "cells": [
  {
   "cell_type": "code",
   "execution_count": 1,
   "metadata": {
    "pycharm": {
     "is_executing": false
    }
   },
   "outputs": [],
   "source": [
    "import pandas as pd\n",
    "import matplotlib.pyplot as plt\n",
    "import torch\n",
    "import torch.nn as nn\n",
    "import torch.nn.functional as F\n",
    "import torch.optim as optim\n",
    "from torch.utils.data import Dataset, DataLoader, SequentialSampler, Subset\n",
    "from utils import get_lags, get_average, TrainHelper, Window, CoreDataset, evaluate_on_test, init_weights"
   ]
  },
  {
   "cell_type": "code",
   "execution_count": 47,
   "metadata": {
    "pycharm": {
     "is_executing": false
    }
   },
   "outputs": [],
   "source": [
    "lags = 5\n",
    "full = pd.read_csv('normalised_growth.csv', index_col=0, header=[0], parse_dates=True)\n",
    "coredata = CoreDataset(full, lags=lags, series=[\"CPIAUCSL\", \"A191RO1Q156NBEA\", \"UNRATE\"])"
   ]
  },
  {
   "cell_type": "code",
   "execution_count": 48,
   "metadata": {},
   "outputs": [],
   "source": [
    "length = len(coredata)\n",
    "val_start = round(length * 0.8)\n",
    "test_start = round(length * 0.9)"
   ]
  },
  {
   "cell_type": "code",
   "execution_count": 49,
   "metadata": {
    "pycharm": {
     "is_executing": false
    }
   },
   "outputs": [],
   "source": [
    "trainset = Subset(coredata, [i for i in range(val_start - 1)])\n",
    "valset = Subset(coredata, [i for i in range(val_start, test_start - 1)])\n",
    "testset = Subset(coredata, [i for i in range(test_start, length)])\n",
    "\n",
    "trainloader = DataLoader(trainset, batch_size=1, \n",
    "                        shuffle=False,\n",
    "                        sampler=SequentialSampler(trainset))\n",
    "\n",
    "validationloader = DataLoader(valset, batch_size=1, shuffle=False,\n",
    "                    sampler=SequentialSampler(valset))\n",
    "\n",
    "testloader = DataLoader(testset, batch_size=1, shuffle=False,\n",
    "                        sampler=SequentialSampler(testset))\n",
    "\n",
    "window = Window(trainloader, validationloader)"
   ]
  },
  {
   "cell_type": "code",
   "execution_count": 52,
   "metadata": {
    "collapsed": false,
    "pycharm": {
     "is_executing": false,
     "name": "#%%\n"
    }
   },
   "outputs": [
    {
     "name": "stdout",
     "output_type": "stream",
     "text": [
      "tensor([[-0.1517,  1.6716, -0.3439, -0.0185,  1.7326, -0.4894,  0.0058,  1.8547,\n",
      "         -0.6349,  0.1052,  1.9768, -0.7275,  0.0854,  1.9768, -0.8201]],\n",
      "       dtype=torch.float64)\n",
      "tensor([[[-0.1517,  1.6716, -0.3439]],\n",
      "\n",
      "        [[-0.0185,  1.7326, -0.4894]],\n",
      "\n",
      "        [[ 0.0058,  1.8547, -0.6349]],\n",
      "\n",
      "        [[ 0.1052,  1.9768, -0.7275]],\n",
      "\n",
      "        [[ 0.0854,  1.9768, -0.8201]]], dtype=torch.float64)\n"
     ]
    }
   ],
   "source": [
    "# check if view works\n",
    "for i, data in enumerate(testloader):\n",
    "    y, X = data\n",
    "    print(X)\n",
    "    print(X.view(5, 1, 3))\n",
    "    break"
   ]
  },
  {
   "cell_type": "code",
   "execution_count": 12,
   "metadata": {
    "pycharm": {
     "is_executing": false
    }
   },
   "outputs": [],
   "source": [
    "class LSTMNet(nn.Module):\n",
    "    def __init__(self, lags, hidden_size):\n",
    "        super(LSTMNet, self).__init__()\n",
    "        self.lags = lags\n",
    "        \n",
    "        # input_size should match that in forward method\n",
    "        self.lstm = nn.LSTM(input_size=3, hidden_size=hidden_size)\n",
    "        self.fc = nn.Linear(hidden_size, 3)\n",
    "        \n",
    "    def forward(self, x):\n",
    "        # input to lstm layer is (seq_len, batch, input_size)\n",
    "        x, (hn, cn) = self.lstm(x.view(self.lags, 1, 3))\n",
    "        x = F.relu(x)\n",
    "        x = self.fc(x)\n",
    "        return x        \n",
    "        \n",
    "model = LSTMNet(lags=lags, hidden_size=12)"
   ]
  },
  {
   "cell_type": "code",
   "execution_count": 15,
   "metadata": {
    "collapsed": false,
    "pycharm": {
     "is_executing": false,
     "name": "#%%\n"
    }
   },
   "outputs": [],
   "source": [
    "criterion = nn.MSELoss()\n",
    "optimizer = optim.SGD(model.parameters(), lr=0.001)"
   ]
  },
  {
   "cell_type": "code",
   "execution_count": 16,
   "metadata": {
    "collapsed": false,
    "pycharm": {
     "is_executing": false,
     "name": "#%%\n"
    }
   },
   "outputs": [
    {
     "name": "stdout",
     "output_type": "stream",
     "text": [
      "[epoch: 1] train loss: 1.077, val loss: 0.289\n",
      "[epoch: 6] train loss: 0.825, val loss: 0.284\n",
      "[epoch: 11] train loss: 0.605, val loss: 0.205\n",
      "[epoch: 16] train loss: 0.434, val loss: 0.138\n",
      "[epoch: 21] train loss: 0.323, val loss: 0.094\n",
      "[epoch: 26] train loss: 0.250, val loss: 0.067\n",
      "[epoch: 31] train loss: 0.202, val loss: 0.051\n",
      "[epoch: 36] train loss: 0.172, val loss: 0.043\n",
      "[epoch: 41] train loss: 0.152, val loss: 0.039\n",
      "[epoch: 46] train loss: 0.140, val loss: 0.038\n",
      "[epoch: 51] train loss: 0.132, val loss: 0.037\n"
     ]
    },
    {
     "name": "stdin",
     "output_type": "stream",
     "text": [
      "Continue training? True or False True\n"
     ]
    },
    {
     "name": "stdout",
     "output_type": "stream",
     "text": [
      "[epoch: 56] train loss: 0.126, val loss: 0.037\n",
      "[epoch: 61] train loss: 0.121, val loss: 0.037\n",
      "[epoch: 66] train loss: 0.117, val loss: 0.037\n",
      "[epoch: 71] train loss: 0.114, val loss: 0.036\n",
      "[epoch: 76] train loss: 0.110, val loss: 0.035\n",
      "[epoch: 81] train loss: 0.107, val loss: 0.034\n",
      "[epoch: 86] train loss: 0.103, val loss: 0.033\n",
      "[epoch: 91] train loss: 0.101, val loss: 0.032\n",
      "[epoch: 96] train loss: 0.098, val loss: 0.032\n",
      "[epoch: 101] train loss: 0.095, val loss: 0.031\n"
     ]
    },
    {
     "name": "stdin",
     "output_type": "stream",
     "text": [
      "Continue training? True or False False\n"
     ]
    },
    {
     "name": "stdout",
     "output_type": "stream",
     "text": [
      "Finished window\n"
     ]
    }
   ],
   "source": [
    "trainer = TrainHelper(percent = 1, manual = 50)\n",
    "trainer.train_window(model, criterion, optimizer, window)"
   ]
  },
  {
   "cell_type": "code",
   "execution_count": 17,
   "metadata": {},
   "outputs": [],
   "source": [
    "# model.apply(init_weights)"
   ]
  },
  {
   "cell_type": "code",
   "execution_count": 37,
   "metadata": {},
   "outputs": [
    {
     "name": "stdout",
     "output_type": "stream",
     "text": [
      "Average MSE on test set: 0.12672781214490533\n"
     ]
    },
    {
     "data": {
      "image/png": "[encoded data removed]",
      "text/plain": [
       "<Figure size 432x288 with 1 Axes>"
      ]
     },
     "metadata": {
      "needs_background": "light"
     },
     "output_type": "display_data"
    }
   ],
   "source": [
    "y_pred = []\n",
    "y_act = []\n",
    "running_test_loss = []\n",
    "\n",
    "# evaluating LSTM is slightly different, only take last output in sequence\n",
    "for i, data in enumerate(testloader):\n",
    "    with torch.no_grad():\n",
    "        y, X = data\n",
    "        y, X = y.float(), X.float()\n",
    "        \n",
    "        loss = criterion(y, model(X))\n",
    "        running_test_loss.append(loss.item())\n",
    "    \n",
    "        y_pred.append(model(X).squeeze()[-1][0].item())\n",
    "        y_act.append(y.squeeze()[0].item())\n",
    "    \n",
    "plt.plot(y_pred)\n",
    "plt.plot(y_act)\n",
    "\n",
    "print(\"Average MSE on test set: \" + str(get_average(running_test_loss)))"
   ]
  },
  {
   "cell_type": "code",
   "execution_count": 34,
   "metadata": {},
   "outputs": [
    {
     "data": {
      "text/plain": [
       "tensor([[-6.7875e-01, -3.5243e-16, -1.0747e+00]])"
      ]
     },
     "execution_count": 34,
     "metadata": {},
     "output_type": "execute_result"
    }
   ],
   "source": [
    "y # the loss is probably wrong"
   ]
  },
  {
   "cell_type": "code",
   "execution_count": 44,
   "metadata": {},
   "outputs": [
    {
     "data": {
      "text/plain": [
       "tensor([[-0.3931, -0.2336, -1.3039]], grad_fn=<SelectBackward>)"
      ]
     },
     "execution_count": 44,
     "metadata": {},
     "output_type": "execute_result"
    }
   ],
   "source": [
    "model(X)[-1]"
   ]
  },
  {
   "cell_type": "code",
   "execution_count": 41,
   "metadata": {},
   "outputs": [
    {
     "data": {
      "text/plain": [
       "0.04224719852209091"
      ]
     },
     "execution_count": 41,
     "metadata": {},
     "output_type": "execute_result"
    }
   ],
   "source": [
    "criterion(y, model(X)).item()"
   ]
  },
  {
   "cell_type": "code",
   "execution_count": 42,
   "metadata": {},
   "outputs": [
    {
     "data": {
      "text/plain": [
       "0.06290000677108765"
      ]
     },
     "execution_count": 42,
     "metadata": {},
     "output_type": "execute_result"
    }
   ],
   "source": [
    "criterion(y, model(X)[-1]).item()"
   ]
  },
  {
   "cell_type": "code",
   "execution_count": null,
   "metadata": {},
   "outputs": [],
   "source": [
    "# god this actually seems really awful\n",
    "# edit: need to train for a lot more!"
   ]
  }
 ],
 "metadata": {
  "kernelspec": {
   "display_name": "Python 3",
   "language": "python",
   "name": "python3"
  },
  "language_info": {
   "codemirror_mode": {
    "name": "ipython",
    "version": 3
   },
   "file_extension": ".py",
   "mimetype": "text/x-python",
   "name": "python",
   "nbconvert_exporter": "python",
   "pygments_lexer": "ipython3",
   "version": "3.7.1"
  },
  "pycharm": {
   "stem_cell": {
    "cell_type": "raw",
    "metadata": {
     "collapsed": false
    },
    "source": []
   }
  }
 },
 "nbformat": 4,
 "nbformat_minor": 2
}
