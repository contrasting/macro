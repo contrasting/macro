{
 "cells": [
  {
   "cell_type": "code",
   "execution_count": 3,
   "metadata": {
    "pycharm": {
     "is_executing": false
    }
   },
   "outputs": [],
   "source": [
    "import pandas as pd\n",
    "import matplotlib.pyplot as plt\n",
    "import torch\n",
    "import torch.nn as nn\n",
    "import torch.nn.functional as F\n",
    "import torch.optim as optim\n",
    "from torch.utils.data import Dataset, DataLoader, SequentialSampler, Subset\n",
    "from utils import get_lags"
   ]
  },
  {
   "cell_type": "code",
   "execution_count": 4,
   "metadata": {
    "pycharm": {
     "is_executing": false
    }
   },
   "outputs": [
    {
     "name": "stdout",
     "text": [
      "850\n"
     ],
     "output_type": "stream"
    }
   ],
   "source": [
    "class CoreDataset(Dataset):\n",
    "    \n",
    "    def __init__(self, df: pd.DataFrame, lags: int):\n",
    "        # start from 1948\n",
    "        core: pd.DataFrame = df[[\"CPIAUCSL\", \"UNRATE\", \"A191RO1Q156NBEA\"]].loc[\"1948-01-01\":]\n",
    "        \n",
    "        X = get_lags(core, lags)\n",
    "        self.y = core[lags:].values\n",
    "        self.X = X[lags:].values\n",
    "        \n",
    "    def __getitem__(self, index):\n",
    "        return self.y[index], self.X[index]\n",
    "    \n",
    "    def __len__(self):\n",
    "        return len(self.y)\n",
    "    \n",
    "    def plot(self):\n",
    "        plt.plot(self.core)\n",
    "        plt.show()\n",
    "\n",
    "full = pd.read_csv('growth_rate.csv', index_col=0, header=[0], parse_dates=True)\n",
    "coreDataset = CoreDataset(full, lags=3)\n",
    "print(len(coreDataset))"
   ]
  },
  {
   "cell_type": "code",
   "execution_count": 5,
   "metadata": {
    "pycharm": {
     "is_executing": false
    }
   },
   "outputs": [
    {
     "name": "stdout",
     "text": [
      "Generating training set from: 0 to 400\nGenerating validation set from 401 to 500\nGenerating training set from: 100 to 500\nGenerating validation set from 501 to 600\nGenerating training set from: 200 to 600\nGenerating validation set from 601 to 700\n3 windows generated\n"
     ],
     "output_type": "stream"
    }
   ],
   "source": [
    "windows = []\n",
    "train_size = 400\n",
    "val_size = 100\n",
    "test_from = 700\n",
    "train_start = 0\n",
    "\n",
    "# reserve test set first\n",
    "testset = Subset(coreDataset, [i for i in range(test_from + 1, len(coreDataset))])\n",
    "testloader = DataLoader(testset, batch_size=1, shuffle=False, sampler=SequentialSampler(testset))\n",
    "\n",
    "class Window:\n",
    "    \n",
    "    def __init__(self, trainloader, validationloader):\n",
    "        self.trainloader = trainloader\n",
    "        self.validationloader = validationloader\n",
    "\n",
    "# generate training windows\n",
    "while train_start + train_size + val_size <= test_from:\n",
    "    train_end = train_start + train_size\n",
    "    print(\"Generating training set from: %d to %d\" % (train_start, train_end))\n",
    "    trainset = Subset(coreDataset, [i for i in range(train_start, train_end)])\n",
    "    \n",
    "    val_start = train_end + 1\n",
    "    val_end = train_end + val_size\n",
    "    print(\"Generating validation set from %d to %d\" % (val_start, val_end))\n",
    "    valset = Subset(coreDataset, [i for i in range(val_start, val_end)])\n",
    "    \n",
    "    train_start += 100\n",
    "    \n",
    "    trainloader = DataLoader(trainset, batch_size=1, shuffle=False, sampler=SequentialSampler(trainset))\n",
    "    validationloader = DataLoader(valset, batch_size=1, shuffle=False, sampler=SequentialSampler(valset))\n",
    "    \n",
    "    windows.append(Window(trainloader=trainloader, validationloader=validationloader))\n",
    "\n",
    "print(str(len(windows)) + \" windows generated\")"
   ]
  },
  {
   "cell_type": "code",
   "execution_count": 6,
   "metadata": {
    "pycharm": {
     "is_executing": false
    }
   },
   "outputs": [],
   "source": [
    "class Feedforward(nn.Module):\n",
    "    \n",
    "    def __init__(self):\n",
    "        super(Feedforward, self).__init__()\n",
    "        self.fc1 = nn.Linear(9, 6)\n",
    "        self.fc2 = nn.Linear(6, 6)\n",
    "        self.fc3 = nn.Linear(6, 3)\n",
    "        \n",
    "    def forward(self, x):\n",
    "        x = F.relu(self.fc1(x))\n",
    "        x = F.relu(self.fc2(x))\n",
    "        x = self.fc3(x)  # no activation at output layer\n",
    "        return x\n",
    "    \n",
    "net = Feedforward()"
   ]
  },
  {
   "cell_type": "code",
   "execution_count": 7,
   "outputs": [],
   "source": [
    "criterion = nn.MSELoss()\n",
    "# decreasing the learning rate solved the problem\n",
    "# https://stackoverflow.com/questions/35540269/keras-giving-same-loss-on-every-epoch\n",
    "optimizer = torch.optim.SGD(net.parameters(), lr=0.001)"
   ],
   "metadata": {
    "collapsed": false,
    "pycharm": {
     "name": "#%%\n",
     "is_executing": false
    }
   }
  },
  {
   "cell_type": "code",
   "execution_count": 8,
   "outputs": [],
   "source": [
    "# TODO move to utils\n",
    "def evaluate_model(net: nn.Module, val_loader: DataLoader, criterion: nn.MSELoss):\n",
    "    net.eval()\n",
    "    val_loss = 0\n",
    "    for i, data in enumerate(val_loader):\n",
    "        with torch.no_grad():\n",
    "            y, X = data\n",
    "            y, X = y.float(), X.float()\n",
    "            y_pred = net(X)\n",
    "            loss = criterion(y, y_pred)\n",
    "            val_loss += loss.item()\n",
    "    avg_val_loss = val_loss / len(val_loader)\n",
    "    return avg_val_loss\n",
    "\n",
    "def train_one_epoch(net: nn.Module, train_loader: DataLoader, criterion: nn.MSELoss):\n",
    "    net.train()\n",
    "    epoch_loss = 0\n",
    "    for i, data in enumerate(train_loader):\n",
    "        \n",
    "        y, X = data\n",
    "        y, X = y.float(), X.float()\n",
    "        \n",
    "        optimizer.zero_grad()\n",
    "        \n",
    "        y_pred = net(X)\n",
    "        loss = criterion(y, y_pred)\n",
    "        loss.backward()\n",
    "        optimizer.step()\n",
    "        \n",
    "        epoch_loss += loss.item()\n",
    "        \n",
    "    avg_train_loss = epoch_loss / len(train_loader)\n",
    "    return avg_train_loss\n",
    "    \n",
    "\n",
    "def get_average(losses: list):\n",
    "    total = 0\n",
    "    for i in losses:\n",
    "        total += i\n",
    "    return total/len(losses)\n"
   ],
   "metadata": {
    "collapsed": false,
    "pycharm": {
     "name": "#%%\n",
     "is_executing": false
    }
   }
  },
  {
   "cell_type": "code",
   "execution_count": 25,
   "outputs": [
    {
     "name": "stdout",
     "text": [
      "Training in window 1\n[epoch: 1] train loss: 3.773, val loss: 7.498\n",
      "[epoch: 6] train loss: 0.420, val loss: 2.045\n",
      "[epoch: 11] train loss: 0.334, val loss: 1.815\n",
      "[epoch: 16] train loss: 0.278, val loss: 1.683\n",
      "[epoch: 21] train loss: 0.249, val loss: 1.598\n",
      "[epoch: 26] train loss: 0.234, val loss: 1.545\n",
      "[epoch: 31] train loss: 0.225, val loss: 1.463\n",
      "[epoch: 36] train loss: 0.217, val loss: 1.429\n",
      "[epoch: 41] train loss: 0.211, val loss: 1.377\n",
      "[epoch: 46] train loss: 0.207, val loss: 1.336\n",
      "[epoch: 51] train loss: 0.203, val loss: 1.319\n",
      "[epoch: 56] train loss: 0.199, val loss: 1.263\n",
      "[epoch: 61] train loss: 0.195, val loss: 1.274\n",
      "[epoch: 66] train loss: 0.191, val loss: 1.214\n",
      "[epoch: 71] train loss: 0.188, val loss: 1.179\n",
      "[epoch: 76] train loss: 0.184, val loss: 1.142\n",
      "[epoch: 81] train loss: 0.182, val loss: 1.151\n",
      "[epoch: 86] train loss: 0.181, val loss: 1.108\n",
      "[epoch: 91] train loss: 0.180, val loss: 1.085\n",
      "[epoch: 96] train loss: 0.178, val loss: 1.069\n",
      "[epoch: 101] train loss: 0.177, val loss: 1.086\n",
      "[epoch: 106] train loss: 0.176, val loss: 1.047\n",
      "[epoch: 111] train loss: 0.175, val loss: 1.027\n",
      "[epoch: 116] train loss: 0.174, val loss: 1.013\n",
      "[epoch: 121] train loss: 0.173, val loss: 1.002\n",
      "[epoch: 126] train loss: 0.171, val loss: 1.003\n",
      "[epoch: 131] train loss: 0.170, val loss: 0.998\n",
      "[epoch: 136] train loss: 0.168, val loss: 1.008\n",
      "[epoch: 141] train loss: 0.165, val loss: 1.029\n",
      "[epoch: 146] train loss: 0.162, val loss: 1.034\n",
      "[epoch: 151] train loss: 0.161, val loss: 1.016\n",
      "[epoch: 156] train loss: 0.160, val loss: 1.005\n",
      "[epoch: 161] train loss: 0.159, val loss: 1.034\n",
      "[epoch: 166] train loss: 0.158, val loss: 0.999\n",
      "[epoch: 171] train loss: 0.157, val loss: 0.985\n",
      "[epoch: 176] train loss: 0.156, val loss: 0.989\n",
      "[epoch: 181] train loss: 0.155, val loss: 1.019\n",
      "[epoch: 186] train loss: 0.155, val loss: 0.979\n",
      "[epoch: 191] train loss: 0.154, val loss: 0.965\n",
      "[epoch: 196] train loss: 0.154, val loss: 0.947\n",
      "[epoch: 201] train loss: 0.153, val loss: 0.916\n",
      "[epoch: 206] train loss: 0.153, val loss: 0.908\n",
      "[epoch: 211] train loss: 0.153, val loss: 0.891\n",
      "[epoch: 216] train loss: 0.152, val loss: 0.882\n",
      "[epoch: 221] train loss: 0.151, val loss: 0.881\n",
      "[epoch: 226] train loss: 0.151, val loss: 0.879\n",
      "[epoch: 231] train loss: 0.150, val loss: 0.886\n",
      "[epoch: 236] train loss: 0.150, val loss: 0.883\n",
      "[epoch: 241] train loss: 0.149, val loss: 0.876\n",
      "[epoch: 246] train loss: 0.149, val loss: 0.872\n",
      "[epoch: 251] train loss: 0.148, val loss: 0.882\n",
      "[epoch: 256] train loss: 0.148, val loss: 0.879\n",
      "[epoch: 261] train loss: 0.147, val loss: 0.880\n",
      "[epoch: 266] train loss: 0.147, val loss: 0.880\n",
      "[epoch: 271] train loss: 0.146, val loss: 0.891\n",
      "[epoch: 276] train loss: 0.145, val loss: 0.910\nFinished window\nTraining in window 2\n[epoch: 1] train loss: 0.107, val loss: 0.172\n",
      "[epoch: 6] train loss: 0.102, val loss: 0.188\n",
      "[epoch: 11] train loss: 0.102, val loss: 0.204\n",
      "Finished window\nTraining in window 3\n[epoch: 1] train loss: 0.087, val loss: 0.140\n",
      "[epoch: 6] train loss: 0.086, val loss: 0.144\n",
      "[epoch: 11] train loss: 0.087, val loss: 0.147\n",
      "Finished window\nFinished training\n"
     ],
     "output_type": "stream"
    }
   ],
   "source": [
    "# early stopping implementation\n",
    "# inspired by https://gist.github.com/stefanonardo/693d96ceb2f531fa05db530f3e21517d\n",
    "\n",
    "def train_window(net: nn.Module, criterion: nn.MSELoss, window):\n",
    "    running_val_loss = []\n",
    "    prev_val_loss = 1000000  # very big number\n",
    "    cnt = 0\n",
    "    patience = 10\n",
    "    ma = 5\n",
    "    \n",
    "    for epoch in range(5000):\n",
    "            \n",
    "        train_loss = train_one_epoch(net, window.trainloader, criterion)\n",
    "        val_loss = evaluate_model(net, window.validationloader, criterion)\n",
    "        running_val_loss.append(val_loss)\n",
    "        \n",
    "        if epoch % 5 == 0:\n",
    "            print(\"[epoch: %d] train loss: %.3f, val loss: %.3f\"\n",
    "                  % (epoch + 1, train_loss, val_loss))\n",
    "        \n",
    "        avg_val_loss = get_average(running_val_loss)\n",
    "    \n",
    "        if avg_val_loss > prev_val_loss:\n",
    "            if cnt > patience:\n",
    "                break\n",
    "            else:\n",
    "                cnt += 1\n",
    "        else:\n",
    "            cnt = 0  # reset\n",
    "            \n",
    "        prev_val_loss = avg_val_loss\n",
    "        \n",
    "        # restrict to moving average\n",
    "        while len(running_val_loss) > ma:\n",
    "            running_val_loss.pop(0)\n",
    "                \n",
    "    print(\"Finished window\")\n",
    "\n",
    "\n",
    "for i, window in enumerate(windows):\n",
    "    print(\"Training in window \" + str(i + 1))\n",
    "    train_window(net, criterion, window)\n",
    "\n",
    "print(\"Finished training\")"
   ],
   "metadata": {
    "collapsed": false,
    "pycharm": {
     "name": "#%%\n",
     "is_executing": false
    }
   }
  },
  {
   "cell_type": "code",
   "execution_count": 23,
   "outputs": [
    {
     "name": "stderr",
     "text": [
      "/usr/local/lib/python3.7/site-packages/ipykernel_launcher.py:5: UserWarning: nn.init.xavier_uniform is now deprecated in favor of nn.init.xavier_uniform_.\n  \"\"\"\n"
     ],
     "output_type": "stream"
    },
    {
     "data": {
      "text/plain": "Feedforward(\n  (fc1): Linear(in_features=9, out_features=6, bias=True)\n  (fc2): Linear(in_features=6, out_features=6, bias=True)\n  (fc3): Linear(in_features=6, out_features=3, bias=True)\n)"
     },
     "metadata": {},
     "output_type": "execute_result",
     "execution_count": 23
    }
   ],
   "source": [
    "# to reset the weights\n",
    "def init_weights(m):\n",
    "    if type(m) == nn.Linear:\n",
    "        torch.nn.init.xavier_uniform(m.weight)\n",
    "    \n",
    "net.apply(init_weights)"
   ],
   "metadata": {
    "collapsed": false,
    "pycharm": {
     "name": "#%%\n",
     "is_executing": false
    }
   }
  },
  {
   "cell_type": "code",
   "execution_count": 27,
   "outputs": [
    {
     "name": "stdout",
     "text": [
      "Average MSE on test set: 0.8956331309281139\n"
     ],
     "output_type": "stream"
    },
    {
     "data": {
      "text/plain": "<Figure size 432x288 with 1 Axes>",
      "image/png": "[encoded data removed]"
     },
     "metadata": {
      "needs_background": "light"
     },
     "output_type": "display_data"
    }
   ],
   "source": [
    "y_pred = []\n",
    "y_act = []\n",
    "running_test_loss = []\n",
    "\n",
    "for i, data in enumerate(testloader):\n",
    "    with torch.no_grad():\n",
    "        y, X = data\n",
    "        y, X = y.float(), X.float()\n",
    "        \n",
    "        loss = criterion(y, net(X))\n",
    "        running_test_loss.append(loss.item())\n",
    "    \n",
    "        y_pred.append(net(X)[0][2].item())\n",
    "        y_act.append(y[0][2].item())\n",
    "    \n",
    "plt.plot(y_pred)\n",
    "plt.plot(y_act)\n",
    "\n",
    "print(\"Average MSE on test set: \" + str(get_average(running_test_loss)))\n"
   ],
   "metadata": {
    "collapsed": false,
    "pycharm": {
     "name": "#%%\n",
     "is_executing": false
    }
   }
  }
 ],
 "metadata": {
  "kernelspec": {
   "display_name": "Python 3",
   "language": "python",
   "name": "python3"
  },
  "language_info": {
   "codemirror_mode": {
    "name": "ipython",
    "version": 3
   },
   "file_extension": ".py",
   "mimetype": "text/x-python",
   "name": "python",
   "nbconvert_exporter": "python",
   "pygments_lexer": "ipython3",
   "version": "3.7.1"
  },
  "pycharm": {
   "stem_cell": {
    "cell_type": "raw",
    "source": [],
    "metadata": {
     "collapsed": false
    }
   }
  }
 },
 "nbformat": 4,
 "nbformat_minor": 2
}