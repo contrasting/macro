{
 "cells": [
  {
   "cell_type": "code",
   "execution_count": 3,
   "metadata": {},
   "outputs": [],
   "source": [
    "# to import from parent directory\n",
    "import os\n",
    "import sys\n",
    "nb_dir = os.path.split(os.getcwd())[0]\n",
    "if nb_dir not in sys.path:\n",
    "    sys.path.append(nb_dir)"
   ]
  },
  {
   "cell_type": "code",
   "execution_count": 4,
   "metadata": {
    "collapsed": false,
    "pycharm": {
     "is_executing": false,
     "name": "#%%\n"
    }
   },
   "outputs": [],
   "source": [
    "import pandas as pd\n",
    "import matplotlib.pyplot as plt\n",
    "import torch\n",
    "import torch.nn as nn\n",
    "import torch.nn.functional as F\n",
    "import torch.optim as optim\n",
    "from torch.utils.data import Dataset, DataLoader, SequentialSampler, Subset\n",
    "from utils import get_lags"
   ]
  },
  {
   "cell_type": "code",
   "execution_count": 6,
   "metadata": {
    "collapsed": false,
    "pycharm": {
     "is_executing": false,
     "name": "#%%\n"
    }
   },
   "outputs": [],
   "source": [
    "class CoreDataset(Dataset):\n",
    "    \n",
    "    def __init__(self, df: pd.DataFrame, lags: int):\n",
    "        # start from 1948\n",
    "        core: pd.DataFrame = df[[\"CPIAUCSL\", \"UNRATE\", \"A191RO1Q156NBEA\"]].loc[\"1948-01-01\":]\n",
    "        \n",
    "        X = get_lags(core, lags)\n",
    "        self.y = core[lags:].values\n",
    "        self.X = X[lags:].values\n",
    "        \n",
    "    def __getitem__(self, index):\n",
    "        return self.y[index], self.X[index]\n",
    "    \n",
    "    def __len__(self):\n",
    "        return len(self.y)\n",
    "    \n",
    "    def plot(self):\n",
    "        plt.plot(self.core)\n",
    "        plt.show()\n",
    "\n",
    "full = pd.read_csv('../normalised_growth.csv', index_col=0, header=[0] ,parse_dates=True)\n",
    "coreDataset = CoreDataset(full, lags=3)"
   ]
  },
  {
   "cell_type": "code",
   "execution_count": 7,
   "metadata": {
    "collapsed": false,
    "pycharm": {
     "is_executing": false,
     "name": "#%%\n"
    }
   },
   "outputs": [],
   "source": [
    "trainset = Subset(coreDataset, [i for i in range(600)])\n",
    "valset = Subset(coreDataset, [i for i in range(601, 700)])\n",
    "testset = Subset(coreDataset, [i for i in range(701, len(coreDataset))])\n",
    "\n",
    "trainloader = DataLoader(trainset, batch_size=1, \n",
    "                        shuffle=False,\n",
    "                        sampler=SequentialSampler(trainset))\n",
    "\n",
    "validationloader = DataLoader(valset, batch_size=1, shuffle=False,\n",
    "                    sampler=SequentialSampler(valset))\n",
    "\n",
    "testloader = DataLoader(testset, batch_size=1, shuffle=False,\n",
    "                        sampler=SequentialSampler(testset))"
   ]
  },
  {
   "cell_type": "code",
   "execution_count": 8,
   "metadata": {
    "collapsed": false,
    "pycharm": {
     "is_executing": false,
     "name": "#%%\n"
    }
   },
   "outputs": [],
   "source": [
    "class Feedforward(nn.Module):\n",
    "    \n",
    "    def __init__(self):\n",
    "        super(Feedforward, self).__init__()\n",
    "        self.fc1 = nn.Linear(9, 6)\n",
    "        self.fc2 = nn.Linear(6, 6)\n",
    "        self.fc3 = nn.Linear(6, 3)\n",
    "        \n",
    "    def forward(self, x):\n",
    "        x = F.relu(self.fc1(x))\n",
    "        x = F.relu(self.fc2(x))\n",
    "        x = self.fc3(x)  # no activation at output layer\n",
    "        return x\n",
    "    \n",
    "net = Feedforward()"
   ]
  },
  {
   "cell_type": "code",
   "execution_count": 9,
   "metadata": {
    "collapsed": false,
    "pycharm": {
     "is_executing": false,
     "name": "#%%\n"
    }
   },
   "outputs": [],
   "source": [
    "criterion = nn.MSELoss()\n",
    "# decreasing the learning rate solved the problem\n",
    "# https://stackoverflow.com/questions/35540269/keras-giving-same-loss-on-every-epoch\n",
    "optimizer = torch.optim.SGD(net.parameters(), lr=0.001)"
   ]
  },
  {
   "cell_type": "code",
   "execution_count": 10,
   "metadata": {
    "collapsed": false,
    "pycharm": {
     "is_executing": false,
     "name": "#%%\n"
    }
   },
   "outputs": [],
   "source": [
    "# TODO move to utils\n",
    "def evaluate_model(net: nn.Module, val_loader: DataLoader, criterion: nn.MSELoss):\n",
    "    net.eval()\n",
    "    val_loss = 0\n",
    "    for i, data in enumerate(val_loader):\n",
    "        with torch.no_grad():\n",
    "            y, X = data\n",
    "            y, X = y.float(), X.float()\n",
    "            y_pred = net(X)\n",
    "            loss = criterion(y, y_pred)\n",
    "            val_loss += loss.item()\n",
    "    avg_val_loss = val_loss / len(val_loader)\n",
    "    return avg_val_loss\n",
    "\n",
    "def train_one_epoch(net: nn.Module, train_loader: DataLoader, criterion: nn.MSELoss):\n",
    "    net.train()\n",
    "    epoch_loss = 0\n",
    "    for i, data in enumerate(train_loader):\n",
    "        \n",
    "        y, X = data\n",
    "        y, X = y.float(), X.float()\n",
    "        \n",
    "        optimizer.zero_grad()\n",
    "        \n",
    "        y_pred = net(X)\n",
    "        loss = criterion(y, y_pred)\n",
    "        loss.backward()\n",
    "        optimizer.step()\n",
    "        \n",
    "        epoch_loss += loss.item()\n",
    "        \n",
    "    avg_train_loss = epoch_loss / len(train_loader)\n",
    "    return avg_train_loss\n",
    "    \n",
    "\n",
    "def get_average(losses: list):\n",
    "    total = 0\n",
    "    for i in losses:\n",
    "        total += i\n",
    "    return total/len(losses)\n"
   ]
  },
  {
   "cell_type": "code",
   "execution_count": 32,
   "metadata": {
    "collapsed": false,
    "pycharm": {
     "is_executing": true,
     "name": "#%%\n"
    }
   },
   "outputs": [
    {
     "name": "stdout",
     "output_type": "stream",
     "text": [
      "[epoch: 1] train loss: 1.271, val loss: 0.271\n",
      "[epoch: 6] train loss: 0.194, val loss: 0.086\n",
      "[epoch: 11] train loss: 0.138, val loss: 0.043\n",
      "[epoch: 16] train loss: 0.112, val loss: 0.028\n",
      "[epoch: 21] train loss: 0.093, val loss: 0.024\n",
      "[epoch: 26] train loss: 0.081, val loss: 0.021\n",
      "[epoch: 31] train loss: 0.073, val loss: 0.019\n",
      "[epoch: 36] train loss: 0.065, val loss: 0.016\n",
      "[epoch: 41] train loss: 0.057, val loss: 0.014\n",
      "[epoch: 46] train loss: 0.052, val loss: 0.013\n",
      "[epoch: 51] train loss: 0.047, val loss: 0.013\n",
      "[epoch: 56] train loss: 0.043, val loss: 0.012\n",
      "[epoch: 61] train loss: 0.039, val loss: 0.012\n",
      "[epoch: 66] train loss: 0.036, val loss: 0.011\n",
      "Finished training\n"
     ]
    }
   ],
   "source": [
    "train_losses = []\n",
    "val_losses = []\n",
    "\n",
    "# early stopping implementation\n",
    "# inspired by https://gist.github.com/stefanonardo/693d96ceb2f531fa05db530f3e21517d\n",
    "\n",
    "running_val_loss = []\n",
    "prev_val_loss = 1000000  # very big number\n",
    "cnt = 0\n",
    "patience = 10\n",
    "ma = 5\n",
    "percent = 0.99\n",
    "\n",
    "for epoch in range(5000):\n",
    "        \n",
    "    train_loss = train_one_epoch(net, trainloader, criterion)\n",
    "    val_loss = evaluate_model(net, validationloader, criterion)\n",
    "    running_val_loss.append(val_loss)\n",
    "    \n",
    "    train_losses.append(train_loss)\n",
    "    val_losses.append(val_loss)\n",
    "    \n",
    "    if epoch % 5 == 0:\n",
    "        print(\"[epoch: %d] train loss: %.3f, val loss: %.3f\"\n",
    "              % (epoch + 1, train_loss, val_loss))\n",
    "    \n",
    "    avg_val_loss = get_average(running_val_loss)\n",
    "\n",
    "    if avg_val_loss > percent * prev_val_loss:\n",
    "        if cnt > patience:\n",
    "            break\n",
    "        else:\n",
    "            cnt += 1\n",
    "    else:\n",
    "        cnt = 0  # reset\n",
    "        \n",
    "    prev_val_loss = avg_val_loss\n",
    "    \n",
    "    # restrict to moving average\n",
    "    while len(running_val_loss) > ma:\n",
    "        running_val_loss.pop(0)\n",
    "            \n",
    "print(\"Finished training\")\n",
    "        "
   ]
  },
  {
   "cell_type": "code",
   "execution_count": 34,
   "metadata": {
    "collapsed": false,
    "pycharm": {
     "is_executing": false,
     "name": "#%%\n"
    }
   },
   "outputs": [
    {
     "name": "stderr",
     "output_type": "stream",
     "text": [
      "/anaconda3/lib/python3.7/site-packages/ipykernel_launcher.py:4: UserWarning: nn.init.xavier_uniform is now deprecated in favor of nn.init.xavier_uniform_.\n",
      "  after removing the cwd from sys.path.\n"
     ]
    },
    {
     "data": {
      "text/plain": [
       "Feedforward(\n",
       "  (fc1): Linear(in_features=9, out_features=6, bias=True)\n",
       "  (fc2): Linear(in_features=6, out_features=6, bias=True)\n",
       "  (fc3): Linear(in_features=6, out_features=3, bias=True)\n",
       ")"
      ]
     },
     "execution_count": 34,
     "metadata": {},
     "output_type": "execute_result"
    }
   ],
   "source": [
    "# to reset the weights\n",
    "def init_weights(m):\n",
    "    if type(m) == nn.Linear:\n",
    "        torch.nn.init.xavier_uniform(m.weight)\n",
    "    \n",
    "net.apply(init_weights)"
   ]
  },
  {
   "cell_type": "code",
   "execution_count": 11,
   "metadata": {
    "collapsed": false,
    "pycharm": {
     "is_executing": false,
     "name": "#%%\n"
    }
   },
   "outputs": [
    {
     "data": {
      "text/plain": [
       "[<matplotlib.lines.Line2D at 0x11d7bcb00>]"
      ]
     },
     "execution_count": 11,
     "metadata": {},
     "output_type": "execute_result"
    },
    {
     "data": {
      "image/png": "[encoded data removed]",
      "text/plain": [
       "<Figure size 432x288 with 1 Axes>"
      ]
     },
     "metadata": {
      "needs_background": "light"
     },
     "output_type": "display_data"
    }
   ],
   "source": [
    "y_pred = []\n",
    "y_act = []\n",
    "\n",
    "for i, data in enumerate(testloader):\n",
    "    y, X = data\n",
    "    y, X = y.float(), X.float()\n",
    "\n",
    "    y_pred.append(net(X)[0][2].item())\n",
    "    y_act.append(y[0][2].item())\n",
    "    \n",
    "plt.plot(y_pred)\n",
    "plt.plot(y_act)"
   ]
  },
  {
   "cell_type": "code",
   "execution_count": 33,
   "metadata": {},
   "outputs": [
    {
     "data": {
      "text/plain": [
       "Text(0, 0.5, 'Loss')"
      ]
     },
     "execution_count": 33,
     "metadata": {},
     "output_type": "execute_result"
    },
    {
     "data": {
      "image/png": "[encoded data removed]",
      "text/plain": [
       "<Figure size 921.6x633.6 with 1 Axes>"
      ]
     },
     "metadata": {},
     "output_type": "display_data"
    }
   ],
   "source": [
    "from matplotlib import style\n",
    "\n",
    "style.use('seaborn-poster') #sets the size of the charts\n",
    "style.use('ggplot')\n",
    "\n",
    "# plt.figure(figsize=(15,10))\n",
    "plt.plot(train_losses)\n",
    "plt.plot(val_losses)\n",
    "plt.legend((\"Training loss\", \"Validation loss\"), facecolor=\"white\")\n",
    "plt.xlabel(\"Epochs\", fontsize=20)\n",
    "plt.ylabel(\"Loss\", fontsize=20)\n",
    "# plt.savefig('./Figs/early_stopping.png', bbox_inches='tight')"
   ]
  },
  {
   "cell_type": "code",
   "execution_count": null,
   "metadata": {},
   "outputs": [],
   "source": []
  }
 ],
 "metadata": {
  "kernelspec": {
   "display_name": "Python 3",
   "language": "python",
   "name": "python3"
  },
  "language_info": {
   "codemirror_mode": {
    "name": "ipython",
    "version": 3
   },
   "file_extension": ".py",
   "mimetype": "text/x-python",
   "name": "python",
   "nbconvert_exporter": "python",
   "pygments_lexer": "ipython3",
   "version": "3.7.1"
  },
  "pycharm": {
   "stem_cell": {
    "cell_type": "raw",
    "metadata": {
     "collapsed": false
    },
    "source": []
   }
  }
 },
 "nbformat": 4,
 "nbformat_minor": 2
}
