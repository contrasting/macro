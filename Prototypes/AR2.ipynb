{
 "cells": [
  {
   "cell_type": "code",
   "execution_count": 1,
   "metadata": {},
   "outputs": [],
   "source": [
    "import pandas as pd\n",
    "import matplotlib.pyplot as plt\n",
    "import numpy as np"
   ]
  },
  {
   "cell_type": "code",
   "execution_count": 2,
   "metadata": {},
   "outputs": [
    {
     "data": {
      "text/html": [
       "<div>\n",
       "<style scoped>\n",
       "    .dataframe tbody tr th:only-of-type {\n",
       "        vertical-align: middle;\n",
       "    }\n",
       "\n",
       "    .dataframe tbody tr th {\n",
       "        vertical-align: top;\n",
       "    }\n",
       "\n",
       "    .dataframe thead th {\n",
       "        text-align: right;\n",
       "    }\n",
       "</style>\n",
       "<table border=\"1\" class=\"dataframe\">\n",
       "  <thead>\n",
       "    <tr style=\"text-align: right;\">\n",
       "      <th></th>\n",
       "      <th>CPIAUCSL</th>\n",
       "      <th>FEDFUNDS</th>\n",
       "      <th>HOUST</th>\n",
       "      <th>INDPRO</th>\n",
       "      <th>INTDSRUSM193N</th>\n",
       "      <th>ISRATIO</th>\n",
       "      <th>M2SL</th>\n",
       "      <th>MTSDS133FMS</th>\n",
       "      <th>PAYEMS</th>\n",
       "      <th>PCE</th>\n",
       "      <th>...</th>\n",
       "      <th>CIVPART</th>\n",
       "      <th>GS20</th>\n",
       "      <th>GS3</th>\n",
       "      <th>IRLTLT01USM156N</th>\n",
       "      <th>M1SL</th>\n",
       "      <th>MCOILWTICO</th>\n",
       "      <th>PPIACO</th>\n",
       "      <th>TCU</th>\n",
       "      <th>TOTALSA</th>\n",
       "      <th>PMI</th>\n",
       "    </tr>\n",
       "  </thead>\n",
       "  <tbody>\n",
       "    <tr>\n",
       "      <th>1914-01-01</th>\n",
       "      <td>NaN</td>\n",
       "      <td>NaN</td>\n",
       "      <td>NaN</td>\n",
       "      <td>NaN</td>\n",
       "      <td>NaN</td>\n",
       "      <td>NaN</td>\n",
       "      <td>NaN</td>\n",
       "      <td>NaN</td>\n",
       "      <td>NaN</td>\n",
       "      <td>NaN</td>\n",
       "      <td>...</td>\n",
       "      <td>NaN</td>\n",
       "      <td>NaN</td>\n",
       "      <td>NaN</td>\n",
       "      <td>NaN</td>\n",
       "      <td>NaN</td>\n",
       "      <td>NaN</td>\n",
       "      <td>-2.479339</td>\n",
       "      <td>NaN</td>\n",
       "      <td>NaN</td>\n",
       "      <td>NaN</td>\n",
       "    </tr>\n",
       "    <tr>\n",
       "      <th>1914-02-01</th>\n",
       "      <td>NaN</td>\n",
       "      <td>NaN</td>\n",
       "      <td>NaN</td>\n",
       "      <td>NaN</td>\n",
       "      <td>NaN</td>\n",
       "      <td>NaN</td>\n",
       "      <td>NaN</td>\n",
       "      <td>NaN</td>\n",
       "      <td>NaN</td>\n",
       "      <td>NaN</td>\n",
       "      <td>...</td>\n",
       "      <td>NaN</td>\n",
       "      <td>NaN</td>\n",
       "      <td>NaN</td>\n",
       "      <td>NaN</td>\n",
       "      <td>NaN</td>\n",
       "      <td>NaN</td>\n",
       "      <td>-1.666667</td>\n",
       "      <td>NaN</td>\n",
       "      <td>NaN</td>\n",
       "      <td>NaN</td>\n",
       "    </tr>\n",
       "    <tr>\n",
       "      <th>1914-03-01</th>\n",
       "      <td>NaN</td>\n",
       "      <td>NaN</td>\n",
       "      <td>NaN</td>\n",
       "      <td>NaN</td>\n",
       "      <td>NaN</td>\n",
       "      <td>NaN</td>\n",
       "      <td>NaN</td>\n",
       "      <td>NaN</td>\n",
       "      <td>NaN</td>\n",
       "      <td>NaN</td>\n",
       "      <td>...</td>\n",
       "      <td>NaN</td>\n",
       "      <td>NaN</td>\n",
       "      <td>NaN</td>\n",
       "      <td>NaN</td>\n",
       "      <td>NaN</td>\n",
       "      <td>NaN</td>\n",
       "      <td>-2.500000</td>\n",
       "      <td>NaN</td>\n",
       "      <td>NaN</td>\n",
       "      <td>NaN</td>\n",
       "    </tr>\n",
       "    <tr>\n",
       "      <th>1914-04-01</th>\n",
       "      <td>NaN</td>\n",
       "      <td>NaN</td>\n",
       "      <td>NaN</td>\n",
       "      <td>NaN</td>\n",
       "      <td>NaN</td>\n",
       "      <td>NaN</td>\n",
       "      <td>NaN</td>\n",
       "      <td>NaN</td>\n",
       "      <td>NaN</td>\n",
       "      <td>NaN</td>\n",
       "      <td>...</td>\n",
       "      <td>NaN</td>\n",
       "      <td>NaN</td>\n",
       "      <td>NaN</td>\n",
       "      <td>NaN</td>\n",
       "      <td>NaN</td>\n",
       "      <td>NaN</td>\n",
       "      <td>-2.500000</td>\n",
       "      <td>NaN</td>\n",
       "      <td>NaN</td>\n",
       "      <td>NaN</td>\n",
       "    </tr>\n",
       "    <tr>\n",
       "      <th>1914-05-01</th>\n",
       "      <td>NaN</td>\n",
       "      <td>NaN</td>\n",
       "      <td>NaN</td>\n",
       "      <td>NaN</td>\n",
       "      <td>NaN</td>\n",
       "      <td>NaN</td>\n",
       "      <td>NaN</td>\n",
       "      <td>NaN</td>\n",
       "      <td>NaN</td>\n",
       "      <td>NaN</td>\n",
       "      <td>...</td>\n",
       "      <td>NaN</td>\n",
       "      <td>NaN</td>\n",
       "      <td>NaN</td>\n",
       "      <td>NaN</td>\n",
       "      <td>NaN</td>\n",
       "      <td>NaN</td>\n",
       "      <td>-2.521008</td>\n",
       "      <td>NaN</td>\n",
       "      <td>NaN</td>\n",
       "      <td>NaN</td>\n",
       "    </tr>\n",
       "  </tbody>\n",
       "</table>\n",
       "<p>5 rows × 32 columns</p>\n",
       "</div>"
      ],
      "text/plain": [
       "            CPIAUCSL  FEDFUNDS  HOUST  INDPRO  INTDSRUSM193N  ISRATIO  M2SL  \\\n",
       "1914-01-01       NaN       NaN    NaN     NaN            NaN      NaN   NaN   \n",
       "1914-02-01       NaN       NaN    NaN     NaN            NaN      NaN   NaN   \n",
       "1914-03-01       NaN       NaN    NaN     NaN            NaN      NaN   NaN   \n",
       "1914-04-01       NaN       NaN    NaN     NaN            NaN      NaN   NaN   \n",
       "1914-05-01       NaN       NaN    NaN     NaN            NaN      NaN   NaN   \n",
       "\n",
       "            MTSDS133FMS  PAYEMS  PCE ...   CIVPART  GS20  GS3  \\\n",
       "1914-01-01          NaN     NaN  NaN ...       NaN   NaN  NaN   \n",
       "1914-02-01          NaN     NaN  NaN ...       NaN   NaN  NaN   \n",
       "1914-03-01          NaN     NaN  NaN ...       NaN   NaN  NaN   \n",
       "1914-04-01          NaN     NaN  NaN ...       NaN   NaN  NaN   \n",
       "1914-05-01          NaN     NaN  NaN ...       NaN   NaN  NaN   \n",
       "\n",
       "            IRLTLT01USM156N  M1SL  MCOILWTICO    PPIACO  TCU  TOTALSA  PMI  \n",
       "1914-01-01              NaN   NaN         NaN -2.479339  NaN      NaN  NaN  \n",
       "1914-02-01              NaN   NaN         NaN -1.666667  NaN      NaN  NaN  \n",
       "1914-03-01              NaN   NaN         NaN -2.500000  NaN      NaN  NaN  \n",
       "1914-04-01              NaN   NaN         NaN -2.500000  NaN      NaN  NaN  \n",
       "1914-05-01              NaN   NaN         NaN -2.521008  NaN      NaN  NaN  \n",
       "\n",
       "[5 rows x 32 columns]"
      ]
     },
     "execution_count": 2,
     "metadata": {},
     "output_type": "execute_result"
    }
   ],
   "source": [
    "dataset = pd.read_csv('growth_rate.csv', index_col=0, header=[0] ,parse_dates=True)\n",
    "dataset.head()"
   ]
  },
  {
   "cell_type": "code",
   "execution_count": 3,
   "metadata": {},
   "outputs": [
    {
     "data": {
      "text/plain": [
       "1914-01-01   NaN\n",
       "1914-02-01   NaN\n",
       "1914-03-01   NaN\n",
       "1914-04-01   NaN\n",
       "1914-05-01   NaN\n",
       "Name: CPIAUCSL, dtype: float64"
      ]
     },
     "execution_count": 3,
     "metadata": {},
     "output_type": "execute_result"
    }
   ],
   "source": [
    "CPI = dataset[\"CPIAUCSL\"]\n",
    "CPI.head()"
   ]
  },
  {
   "cell_type": "code",
   "execution_count": 4,
   "metadata": {},
   "outputs": [
    {
     "data": {
      "text/plain": [
       "(853,)"
      ]
     },
     "execution_count": 4,
     "metadata": {},
     "output_type": "execute_result"
    }
   ],
   "source": [
    "y = CPI[CPI.notna()] # get rid of nan\n",
    "y.shape"
   ]
  },
  {
   "cell_type": "code",
   "execution_count": 5,
   "metadata": {},
   "outputs": [
    {
     "data": {
      "text/plain": [
       "[<matplotlib.lines.Line2D at 0x11b41c668>]"
      ]
     },
     "execution_count": 5,
     "metadata": {},
     "output_type": "execute_result"
    },
    {
     "data": {
      "image/png": "[encoded data removed]",
      "text/plain": [
       "<Figure size 432x288 with 1 Axes>"
      ]
     },
     "metadata": {
      "needs_background": "light"
     },
     "output_type": "display_data"
    }
   ],
   "source": [
    "plt.plot(y)"
   ]
  },
  {
   "cell_type": "code",
   "execution_count": 6,
   "metadata": {},
   "outputs": [
    {
     "data": {
      "text/plain": [
       "(853, 3)"
      ]
     },
     "execution_count": 6,
     "metadata": {},
     "output_type": "execute_result"
    }
   ],
   "source": [
    "t = y.shape[0]\n",
    "x = np.concatenate((np.ones((t, 1)), \n",
    "                    y.shift(1).values.reshape((t, 1)),\n",
    "                    y.shift(2).values.reshape((t, 1))), axis=1)\n",
    "x.shape"
   ]
  },
  {
   "cell_type": "code",
   "execution_count": 7,
   "metadata": {},
   "outputs": [
    {
     "name": "stdout",
     "output_type": "stream",
     "text": [
      "(851, 3)\n",
      "(851,)\n"
     ]
    }
   ],
   "source": [
    "# Need to remove missing observations after lag\n",
    "x = x[2:]\n",
    "y = y[2:]\n",
    "print(x.shape)\n",
    "print(y.shape)"
   ]
  },
  {
   "cell_type": "code",
   "execution_count": 8,
   "metadata": {},
   "outputs": [],
   "source": [
    "# convert to matrix\n",
    "y = y.values.reshape((y.shape[0], 1))"
   ]
  },
  {
   "cell_type": "code",
   "execution_count": 9,
   "metadata": {},
   "outputs": [],
   "source": [
    "# now set the priors, denoted by subscript 0\n",
    "b_0 = np.zeros((3, 1))\n",
    "sigma_0 = np.diag((1, 1, 1))"
   ]
  },
  {
   "cell_type": "code",
   "execution_count": 10,
   "metadata": {},
   "outputs": [],
   "source": [
    "# priors for inverse gamma\n",
    "t_0 = 1\n",
    "d_0 = 0.1"
   ]
  },
  {
   "cell_type": "code",
   "execution_count": 11,
   "metadata": {},
   "outputs": [],
   "source": [
    "# starting values for b and sigma squared (the values to be sampled)\n",
    "b = b_0\n",
    "var = 1"
   ]
  },
  {
   "cell_type": "code",
   "execution_count": 12,
   "metadata": {},
   "outputs": [],
   "source": [
    "# iterations\n",
    "reps = 5000\n",
    "burn = 4000"
   ]
  },
  {
   "cell_type": "code",
   "execution_count": 13,
   "metadata": {},
   "outputs": [],
   "source": [
    "from numpy.linalg import inv\n",
    "from numpy.linalg import cholesky\n",
    "from numpy.random import randn # draws from normal distribution\n",
    "from numpy.linalg import eig\n",
    "from math import sqrt"
   ]
  },
  {
   "cell_type": "code",
   "execution_count": 51,
   "metadata": {},
   "outputs": [
    {
     "name": "stdout",
     "output_type": "stream",
     "text": [
      "4100/5000 done\n",
      "4200/5000 done\n",
      "4300/5000 done\n",
      "4400/5000 done\n",
      "4500/5000 done\n",
      "4600/5000 done\n",
      "4700/5000 done\n",
      "4800/5000 done\n",
      "4900/5000 done\n",
      "(3, 1000)\n",
      "(1, 1000)\n",
      "(863, 1000)\n"
     ]
    }
   ],
   "source": [
    "out_b = np.empty((3, 1))\n",
    "out_var = np.empty((1,1))\n",
    "out_forecasts = np.empty((y.shape[0] + 12, 1))\n",
    "\n",
    "for i in range(reps):\n",
    "    \n",
    "    # params of the marginal condition distributions\n",
    "    V = inv(inv(sigma_0) + (1/var) * np.matmul(x.transpose(), x))\n",
    "    M = np.matmul(V,\n",
    "                  np.matmul(inv(sigma_0), b_0) + (1/var) * np.matmul(x.transpose(), y))\n",
    "    \n",
    "    # sample from the conditional posterior for b\n",
    "    while True:\n",
    "        b = M + (np.matmul(np.random.randn(1, 3), cholesky(V))).transpose()\n",
    "        comp = np.array([[b[1].item(), b[2].item()], [1, 0]])\n",
    "        eigen, _ = eig(comp)\n",
    "        max_eig = max(abs(eigen))\n",
    "        if max_eig < 1: # is stable, then break\n",
    "            break\n",
    "    \n",
    "    # sample from conditional posterior for var\n",
    "    resids = y - np.matmul(x, b)\n",
    "    # dof and scale for gamma:\n",
    "    t_1 = t_0 + t\n",
    "    d_1 = d_0 + np.matmul(resids.transpose(), resids)\n",
    "    # draw from inverse gamma:\n",
    "    z_0 = randn(t_1, 1)\n",
    "    var = d_1/np.matmul(z_0.transpose(), z_0)\n",
    "    \n",
    "    # if retained draws\n",
    "    if i > burn:\n",
    "        out_b = np.concatenate((out_b, b), axis=1)\n",
    "        out_var = np.concatenate((out_var, var), axis=1)\n",
    "        \n",
    "        # compute forecast for 2 years\n",
    "        yhat = np.zeros((14, 1))\n",
    "        yhat[0:2] = y[-2:] # starting values\n",
    "        cfactor = sqrt(var); # standard deviation of the shocks\n",
    "        \n",
    "        for m in range(2, 14):\n",
    "            yhat[m] = np.matmul(np.array([1, yhat[m-1].item(), yhat[m-2].item()]),\n",
    "                                b) + randn(1, 1) * cfactor\n",
    "            \n",
    "        forecast = np.concatenate((y, yhat[2:]))    \n",
    "        out_forecasts = np.concatenate((out_forecasts, forecast), axis=1)\n",
    "        \n",
    "        # to print progress\n",
    "        if i % 100 == 0:\n",
    "            print(str(i) + \"/\" + str(reps) + \" done\")\n",
    "            \n",
    "        \n",
    "print(out_b.shape)\n",
    "print(out_var.shape)\n",
    "print(out_forecasts.shape)"
   ]
  },
  {
   "cell_type": "code",
   "execution_count": 52,
   "metadata": {},
   "outputs": [],
   "source": [
    "from utils import is_outlier"
   ]
  },
  {
   "cell_type": "code",
   "execution_count": 53,
   "metadata": {},
   "outputs": [
    {
     "data": {
      "image/png": "[encoded data removed]",
      "text/plain": [
       "<Figure size 432x288 with 1 Axes>"
      ]
     },
     "metadata": {
      "needs_background": "light"
     },
     "output_type": "display_data"
    }
   ],
   "source": [
    "fig, ax = plt.subplots()\n",
    "ax.hist(out_b[0][~is_outlier(out_b[0])], bins=50)\n",
    "ax.set_title(\"Constant\")\n",
    "plt.show()"
   ]
  },
  {
   "cell_type": "code",
   "execution_count": 54,
   "metadata": {},
   "outputs": [
    {
     "data": {
      "image/png": "[encoded data removed]",
      "text/plain": [
       "<Figure size 432x288 with 1 Axes>"
      ]
     },
     "metadata": {
      "needs_background": "light"
     },
     "output_type": "display_data"
    }
   ],
   "source": [
    "plt.hist(out_b[1][~is_outlier(out_b[1])], bins=50)\n",
    "plt.title(\"AR(1) Coeff\")\n",
    "plt.show()"
   ]
  },
  {
   "cell_type": "code",
   "execution_count": 55,
   "metadata": {},
   "outputs": [
    {
     "data": {
      "image/png": "[encoded data removed]",
      "text/plain": [
       "<Figure size 432x288 with 1 Axes>"
      ]
     },
     "metadata": {
      "needs_background": "light"
     },
     "output_type": "display_data"
    }
   ],
   "source": [
    "plt.hist(out_b[2][~is_outlier(out_b[2])], bins=50)\n",
    "plt.title(\"AR(2) Coeff\")\n",
    "plt.show()"
   ]
  },
  {
   "cell_type": "code",
   "execution_count": 56,
   "metadata": {},
   "outputs": [
    {
     "data": {
      "image/png": "[encoded data removed]",
      "text/plain": [
       "<Figure size 432x288 with 1 Axes>"
      ]
     },
     "metadata": {
      "needs_background": "light"
     },
     "output_type": "display_data"
    }
   ],
   "source": [
    "plt.hist(out_var[0][~is_outlier(out_var[0])], bins=50)\n",
    "plt.title(\"Var\")\n",
    "plt.show()"
   ]
  },
  {
   "cell_type": "code",
   "execution_count": 57,
   "metadata": {},
   "outputs": [],
   "source": [
    "# the incredible thing is, these values are very similar to the BOE guide"
   ]
  },
  {
   "cell_type": "code",
   "execution_count": 58,
   "metadata": {},
   "outputs": [
    {
     "data": {
      "text/plain": [
       "(9, 863)"
      ]
     },
     "execution_count": 58,
     "metadata": {},
     "output_type": "execute_result"
    }
   ],
   "source": [
    "out_x = np.percentile(out_forecasts, [10, 20, 30, 40, 50, 60, 70, 80, 90], axis=1)\n",
    "out_x.shape"
   ]
  },
  {
   "cell_type": "code",
   "execution_count": 59,
   "metadata": {},
   "outputs": [
    {
     "data": {
      "text/plain": [
       "[<matplotlib.lines.Line2D at 0x11c9d4ef0>,\n",
       " <matplotlib.lines.Line2D at 0x11c9df080>,\n",
       " <matplotlib.lines.Line2D at 0x11c9df1d0>,\n",
       " <matplotlib.lines.Line2D at 0x11c9df320>,\n",
       " <matplotlib.lines.Line2D at 0x11c9df470>,\n",
       " <matplotlib.lines.Line2D at 0x11c9df5c0>,\n",
       " <matplotlib.lines.Line2D at 0x11c9df710>,\n",
       " <matplotlib.lines.Line2D at 0x11c9df860>,\n",
       " <matplotlib.lines.Line2D at 0x11c9df9b0>]"
      ]
     },
     "execution_count": 59,
     "metadata": {},
     "output_type": "execute_result"
    },
    {
     "data": {
      "image/png": "[encoded data removed]",
      "text/plain": [
       "<Figure size 432x288 with 1 Axes>"
      ]
     },
     "metadata": {
      "needs_background": "light"
     },
     "output_type": "display_data"
    }
   ],
   "source": [
    "plt.plot(out_x.transpose()[-30:])"
   ]
  },
  {
   "cell_type": "code",
   "execution_count": null,
   "metadata": {},
   "outputs": [],
   "source": [
    "# sick"
   ]
  }
 ],
 "metadata": {
  "kernelspec": {
   "display_name": "Python 3",
   "language": "python",
   "name": "python3"
  },
  "language_info": {
   "codemirror_mode": {
    "name": "ipython",
    "version": 3
   },
   "file_extension": ".py",
   "mimetype": "text/x-python",
   "name": "python",
   "nbconvert_exporter": "python",
   "pygments_lexer": "ipython3",
   "version": "3.7.1"
  }
 },
 "nbformat": 4,
 "nbformat_minor": 2
}
