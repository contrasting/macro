{
 "cells": [
  {
   "cell_type": "code",
   "execution_count": 1,
   "metadata": {},
   "outputs": [],
   "source": [
    "# to import from parent directory\n",
    "import os\n",
    "import sys\n",
    "nb_dir = os.path.split(os.getcwd())[0]\n",
    "if nb_dir not in sys.path:\n",
    "    sys.path.append(nb_dir)"
   ]
  },
  {
   "cell_type": "code",
   "execution_count": 2,
   "metadata": {},
   "outputs": [],
   "source": [
    "import pandas as pd\n",
    "import matplotlib.pyplot as plt\n",
    "import numpy as np\n",
    "import torch\n",
    "import torch.nn as nn\n",
    "import torch.nn.functional as F\n",
    "import torch.optim as optim\n",
    "from torch.utils.data import Dataset, DataLoader, SequentialSampler, Subset\n",
    "from utils import get_lags, get_average, TrainHelper, Window, ExtendedDataset, evaluate_on_test, init_weights, save_obj, load_obj, remove_nan"
   ]
  },
  {
   "cell_type": "code",
   "execution_count": 3,
   "metadata": {},
   "outputs": [],
   "source": [
    "full = pd.read_csv('../normalised_growth.csv', index_col=0, header=[0], parse_dates=True)"
   ]
  },
  {
   "cell_type": "code",
   "execution_count": 4,
   "metadata": {},
   "outputs": [
    {
     "name": "stdout",
     "output_type": "stream",
     "text": [
      "INTDSRUSM193N\n",
      "ISRATIO\n",
      "MTSDS133FMS\n",
      "T10Y2YM\n",
      "USSLIND\n",
      "GFDEGDQ188S\n",
      "GS20\n",
      "MCOILWTICO\n",
      "TCU\n",
      "TOTALSA\n",
      "(709, 21)\n"
     ]
    }
   ],
   "source": [
    "# start from 1960\n",
    "full.drop(columns=['A191RL1Q225SBEA'], inplace=True)\n",
    "full = full.loc[\"1960-01-01\":]\n",
    "full = remove_nan(full)\n",
    "print(full.shape)"
   ]
  },
  {
   "cell_type": "code",
   "execution_count": 16,
   "metadata": {
    "pycharm": {
     "is_executing": false
    }
   },
   "outputs": [],
   "source": [
    "class GRUNet(nn.Module):\n",
    "    def __init__(self, input_size, lags, hidden_size):\n",
    "        super(GRUNet, self).__init__()\n",
    "        self.lags = lags\n",
    "        self.hidden_size = hidden_size\n",
    "        self.input_size = input_size\n",
    "        \n",
    "        # input_size should match that in forward method\n",
    "        self.gru = nn.GRU(input_size=input_size, hidden_size=hidden_size)\n",
    "        self.fc1 = nn.Linear(hidden_size, hidden_size)\n",
    "        self.fc2 = nn.Linear(hidden_size, 3)\n",
    "        \n",
    "    def forward(self, x):\n",
    "        # input to lstm layer is (seq_len, batch, input_size)\n",
    "        x, hidden = self.gru(x.view(self.lags, 1, self.input_size))\n",
    "        # we only care about the output of the hidden\n",
    "        hidden = F.relu(self.fc1(hidden))\n",
    "        hidden = self.fc2(hidden)\n",
    "        return hidden"
   ]
  },
  {
   "cell_type": "code",
   "execution_count": 12,
   "metadata": {},
   "outputs": [],
   "source": [
    "trainer = TrainHelper(percent = 0.99, manual = 5000, print_every=1000)\n",
    "\n",
    "PATH = \"./GRU Extended One Layer/\"\n",
    "\n",
    "def train_times(times, trainer, net, criterion, optimizer, window):\n",
    "    \n",
    "    losses = []\n",
    "\n",
    "    # train ten times, find best loss\n",
    "    for i in range(times):\n",
    "        net.apply(init_weights)\n",
    "        print(\"Training %d time\" % i)\n",
    "        loss = trainer.train_window(net, criterion, optimizer, window)\n",
    "        torch.save(net.state_dict(), PATH + \"lag\" + str(net.lags) + \"hidden\" + str(net.hidden_size) + \"_\" + str(i) + \".pt\")\n",
    "        losses.append(loss)\n",
    "        \n",
    "    return losses"
   ]
  },
  {
   "cell_type": "code",
   "execution_count": 6,
   "metadata": {},
   "outputs": [
    {
     "name": "stdout",
     "output_type": "stream",
     "text": [
      "709\n"
     ]
    }
   ],
   "source": [
    "length = len(full)\n",
    "val_start = round(length * 0.8)\n",
    "test_start = round(length * 0.9)\n",
    "print(length)"
   ]
  },
  {
   "cell_type": "code",
   "execution_count": 14,
   "metadata": {},
   "outputs": [],
   "source": [
    "losses = {}"
   ]
  },
  {
   "cell_type": "code",
   "execution_count": 18,
   "metadata": {},
   "outputs": [
    {
     "name": "stdout",
     "output_type": "stream",
     "text": [
      "Training new net, 1 lags 30 hidden\n",
      "Training 0 time\n",
      "[epoch: 1] train loss: 0.755, val loss: 1.198\n",
      "Finished window, trained for 51 epochs, loss: 0.303\n",
      "Training 1 time\n",
      "[epoch: 1] train loss: 0.804, val loss: 1.433\n",
      "Finished window, trained for 39 epochs, loss: 0.426\n",
      "Training 2 time\n",
      "[epoch: 1] train loss: 0.623, val loss: 1.005\n",
      "Finished window, trained for 31 epochs, loss: 0.446\n",
      "Training 3 time\n",
      "[epoch: 1] train loss: 0.522, val loss: 1.034\n",
      "Finished window, trained for 34 epochs, loss: 0.317\n",
      "Training 4 time\n",
      "[epoch: 1] train loss: 0.625, val loss: 1.322\n",
      "Finished window, trained for 32 epochs, loss: 0.319\n",
      "Training 5 time\n",
      "[epoch: 1] train loss: 0.772, val loss: 1.249\n",
      "Finished window, trained for 38 epochs, loss: 0.329\n",
      "Training 6 time\n",
      "[epoch: 1] train loss: 0.631, val loss: 0.965\n",
      "Finished window, trained for 27 epochs, loss: 0.386\n",
      "Training 7 time\n",
      "[epoch: 1] train loss: 0.605, val loss: 1.405\n",
      "Finished window, trained for 32 epochs, loss: 0.378\n",
      "Training 8 time\n",
      "[epoch: 1] train loss: 0.422, val loss: 1.250\n",
      "Finished window, trained for 34 epochs, loss: 0.394\n",
      "Training 9 time\n",
      "[epoch: 1] train loss: 0.537, val loss: 1.485\n",
      "Finished window, trained for 26 epochs, loss: 0.469\n",
      "[0.3031667129846201, 0.42571504015248224, 0.44608370906540323, 0.31665737752364725, 0.3187364575685933, 0.3286573782380271, 0.38618466762737147, 0.3780816308389019, 0.3936350345012865, 0.4688121466343069]\n",
      "Training new net, 2 lags 30 hidden\n",
      "Training 0 time\n",
      "[epoch: 1] train loss: 0.691, val loss: 1.065\n",
      "Finished window, trained for 29 epochs, loss: 0.570\n",
      "Training 1 time\n",
      "[epoch: 1] train loss: 0.755, val loss: 1.200\n",
      "Finished window, trained for 34 epochs, loss: 0.433\n",
      "Training 2 time\n",
      "[epoch: 1] train loss: 0.735, val loss: 1.514\n",
      "Finished window, trained for 22 epochs, loss: 0.728\n",
      "Training 3 time\n",
      "[epoch: 1] train loss: 0.666, val loss: 1.943\n",
      "Finished window, trained for 39 epochs, loss: 0.599\n",
      "Training 4 time\n",
      "[epoch: 1] train loss: 0.603, val loss: 1.610\n",
      "Finished window, trained for 28 epochs, loss: 0.839\n",
      "Training 5 time\n",
      "[epoch: 1] train loss: 0.655, val loss: 1.277\n",
      "Finished window, trained for 28 epochs, loss: 0.503\n",
      "Training 6 time\n",
      "[epoch: 1] train loss: 0.490, val loss: 1.006\n",
      "Finished window, trained for 23 epochs, loss: 0.419\n",
      "Training 7 time\n",
      "[epoch: 1] train loss: 0.705, val loss: 1.790\n",
      "Finished window, trained for 35 epochs, loss: 0.311\n",
      "Training 8 time\n",
      "[epoch: 1] train loss: 0.488, val loss: 1.797\n",
      "Finished window, trained for 37 epochs, loss: 0.436\n",
      "Training 9 time\n",
      "[epoch: 1] train loss: 0.498, val loss: 0.640\n",
      "Finished window, trained for 27 epochs, loss: 0.218\n",
      "[0.5703421246149533, 0.4326125638714681, 0.7284390337720869, 0.5987632924579971, 0.8387071196189416, 0.5026158754780355, 0.41913535645435324, 0.3107968130057478, 0.4357205209987504, 0.2175799872687397]\n",
      "Training new net, 3 lags 30 hidden\n",
      "Training 0 time\n",
      "[epoch: 1] train loss: 0.539, val loss: 1.166\n",
      "Finished window, trained for 37 epochs, loss: 0.350\n",
      "Training 1 time\n",
      "[epoch: 1] train loss: 0.537, val loss: 0.943\n",
      "Finished window, trained for 32 epochs, loss: 0.490\n",
      "Training 2 time\n",
      "[epoch: 1] train loss: 0.557, val loss: 1.390\n",
      "Finished window, trained for 36 epochs, loss: 0.435\n",
      "Training 3 time\n",
      "[epoch: 1] train loss: 0.490, val loss: 0.781\n",
      "Finished window, trained for 23 epochs, loss: 0.485\n",
      "Training 4 time\n",
      "[epoch: 1] train loss: 0.515, val loss: 1.379\n",
      "Finished window, trained for 33 epochs, loss: 0.560\n",
      "Training 5 time\n",
      "[epoch: 1] train loss: 0.456, val loss: 1.368\n",
      "Finished window, trained for 47 epochs, loss: 0.373\n",
      "Training 6 time\n",
      "[epoch: 1] train loss: 0.446, val loss: 1.103\n",
      "Finished window, trained for 23 epochs, loss: 0.653\n",
      "Training 7 time\n",
      "[epoch: 1] train loss: 0.421, val loss: 0.814\n",
      "Finished window, trained for 23 epochs, loss: 0.440\n",
      "Training 8 time\n",
      "[epoch: 1] train loss: 0.507, val loss: 0.876\n",
      "Finished window, trained for 29 epochs, loss: 0.409\n",
      "Training 9 time\n",
      "[epoch: 1] train loss: 0.450, val loss: 0.728\n",
      "Finished window, trained for 20 epochs, loss: 0.331\n",
      "[0.3496838131032529, 0.48973711719292967, 0.4347822034448785, 0.4851353081575196, 0.5595470346976071, 0.3733935183801112, 0.6532793094027078, 0.43991668062905465, 0.40914175277575854, 0.33098577944495317]\n",
      "Training new net, 4 lags 30 hidden\n",
      "Training 0 time\n",
      "[epoch: 1] train loss: 0.684, val loss: 1.588\n",
      "Finished window, trained for 42 epochs, loss: 0.576\n",
      "Training 1 time\n",
      "[epoch: 1] train loss: 0.628, val loss: 1.291\n",
      "Finished window, trained for 25 epochs, loss: 0.620\n",
      "Training 2 time\n",
      "[epoch: 1] train loss: 0.475, val loss: 1.029\n",
      "Finished window, trained for 28 epochs, loss: 0.511\n",
      "Training 3 time\n",
      "[epoch: 1] train loss: 0.356, val loss: 0.653\n",
      "Finished window, trained for 20 epochs, loss: 0.438\n",
      "Training 4 time\n",
      "[epoch: 1] train loss: 0.450, val loss: 1.290\n",
      "Finished window, trained for 22 epochs, loss: 0.735\n",
      "Training 5 time\n",
      "[epoch: 1] train loss: 0.460, val loss: 1.084\n",
      "Finished window, trained for 24 epochs, loss: 0.464\n",
      "Training 6 time\n",
      "[epoch: 1] train loss: 0.552, val loss: 1.339\n",
      "Finished window, trained for 26 epochs, loss: 0.523\n",
      "Training 7 time\n",
      "[epoch: 1] train loss: 0.305, val loss: 0.852\n",
      "Finished window, trained for 23 epochs, loss: 0.580\n",
      "Training 8 time\n",
      "[epoch: 1] train loss: 0.591, val loss: 0.924\n",
      "Finished window, trained for 22 epochs, loss: 0.554\n",
      "Training 9 time\n",
      "[epoch: 1] train loss: 0.528, val loss: 1.286\n",
      "Finished window, trained for 29 epochs, loss: 0.568\n",
      "[0.5755323561263227, 0.6195312692961168, 0.5114611535776584, 0.43755221356030755, 0.7354809162473038, 0.46433047998829613, 0.5230752786776672, 0.5803696124947497, 0.5539454262393216, 0.5677238779497288]\n",
      "Training new net, 5 lags 30 hidden\n",
      "Training 0 time\n",
      "[epoch: 1] train loss: 0.516, val loss: 1.309\n",
      "Finished window, trained for 27 epochs, loss: 0.863\n",
      "Training 1 time\n",
      "[epoch: 1] train loss: 0.571, val loss: 1.539\n",
      "Finished window, trained for 23 epochs, loss: 0.859\n",
      "Training 2 time\n",
      "[epoch: 1] train loss: 0.781, val loss: 1.698\n",
      "Finished window, trained for 20 epochs, loss: 1.241\n",
      "Training 3 time\n",
      "[epoch: 1] train loss: 0.555, val loss: 1.274\n",
      "Finished window, trained for 29 epochs, loss: 0.538\n",
      "Training 4 time\n",
      "[epoch: 1] train loss: 0.492, val loss: 1.525\n",
      "Finished window, trained for 30 epochs, loss: 0.661\n",
      "Training 5 time\n",
      "[epoch: 1] train loss: 0.444, val loss: 1.096\n",
      "Finished window, trained for 20 epochs, loss: 0.838\n",
      "Training 6 time\n",
      "[epoch: 1] train loss: 0.519, val loss: 1.605\n",
      "Finished window, trained for 29 epochs, loss: 0.710\n",
      "Training 7 time\n",
      "[epoch: 1] train loss: 0.578, val loss: 1.132\n",
      "Finished window, trained for 25 epochs, loss: 0.391\n",
      "Training 8 time\n",
      "[epoch: 1] train loss: 0.642, val loss: 0.964\n",
      "Finished window, trained for 33 epochs, loss: 0.315\n",
      "Training 9 time\n",
      "[epoch: 1] train loss: 0.531, val loss: 2.189\n",
      "Finished window, trained for 28 epochs, loss: 0.876\n",
      "[0.8633868114069281, 0.8586668439475553, 1.2407982181380726, 0.5377110945947824, 0.6608318764405946, 0.8381537589399765, 0.7101927748792582, 0.39129652089350636, 0.3145807685929218, 0.8762263906720493]\n"
     ]
    }
   ],
   "source": [
    "hiddens = [30]\n",
    "\n",
    "for lags in range(1, 6):\n",
    "    data = ExtendedDataset(full, lags=lags, series=[\"CPIAUCSL\", \"A191RO1Q156NBEA\", \"UNRATE\"])\n",
    "\n",
    "    # subtract by lags to ensure same training sets\n",
    "    trainset = Subset(data, [i for i in range(val_start - 1 - lags)])\n",
    "    valset = Subset(data, [i for i in range(val_start - lags, test_start - 1 - lags)])\n",
    "\n",
    "    trainloader = DataLoader(trainset, batch_size=1, shuffle=False, sampler=SequentialSampler(trainset))\n",
    "    validationloader = DataLoader(valset, batch_size=1, shuffle=False, sampler=SequentialSampler(valset))\n",
    "\n",
    "    window = Window(trainloader, validationloader)\n",
    "    \n",
    "    for hidden_size in hiddens:\n",
    "        print(\"Training new net, %d lags %d hidden\" % (lags, hidden_size))\n",
    "\n",
    "        net = GRUNet(lags=lags, hidden_size=hidden_size, input_size = full.shape[1])\n",
    "        criterion = nn.MSELoss()\n",
    "        optimizer = optim.SGD(net.parameters(), lr=0.001)\n",
    "        loss = train_times(10, trainer, net, criterion, optimizer, window)\n",
    "        print(loss)\n",
    "        losses[str(lags) + \"-\" + str(hidden_size)] = loss\n",
    "    "
   ]
  },
  {
   "cell_type": "code",
   "execution_count": 20,
   "metadata": {},
   "outputs": [],
   "source": [
    "best_loss = []\n",
    "avg_loss = []\n",
    "\n",
    "for k, v in losses.items():\n",
    "    best_net_index = np.argmin(v)\n",
    "    best_loss.append(v[best_net_index])\n",
    "    avg_loss.append(get_average(v))"
   ]
  },
  {
   "cell_type": "code",
   "execution_count": 24,
   "metadata": {},
   "outputs": [
    {
     "data": {
      "image/png": "[encoded data removed]",
      "text/plain": [
       "<Figure size 921.6x633.6 with 1 Axes>"
      ]
     },
     "metadata": {},
     "output_type": "display_data"
    }
   ],
   "source": [
    "from matplotlib import style\n",
    "\n",
    "style.use('seaborn-poster') #sets the size of the charts\n",
    "style.use('ggplot')\n",
    "\n",
    "# plt.figure(figsize=(15,10))\n",
    "\n",
    "plt.plot([i for i in range(1, len(best_loss) + 1)], best_loss)\n",
    "plt.plot([i for i in range(1, len(best_loss) + 1)], avg_loss)\n",
    "\n",
    "plt.xticks([1, 2, 3, 4, 5])\n",
    "\n",
    "plt.legend((\"Lowest loss\", \"Average loss\"), facecolor=\"white\")\n",
    "plt.xlabel(\"Lags\", fontsize=20)\n",
    "plt.ylabel(\"Final Validation Loss\", fontsize=20)\n",
    "plt.savefig('../Figs/lags_gru_extended.png', bbox_inches='tight')"
   ]
  },
  {
   "cell_type": "code",
   "execution_count": 19,
   "metadata": {},
   "outputs": [],
   "source": [
    "save_obj(losses, \"GRU_Extended_One_Layer\")"
   ]
  }
 ],
 "metadata": {
  "kernelspec": {
   "display_name": "Python 3",
   "language": "python",
   "name": "python3"
  },
  "language_info": {
   "codemirror_mode": {
    "name": "ipython",
    "version": 3
   },
   "file_extension": ".py",
   "mimetype": "text/x-python",
   "name": "python",
   "nbconvert_exporter": "python",
   "pygments_lexer": "ipython3",
   "version": "3.7.1"
  }
 },
 "nbformat": 4,
 "nbformat_minor": 2
}
