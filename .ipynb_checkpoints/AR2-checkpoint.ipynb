{
 "cells": [
  {
   "cell_type": "code",
   "execution_count": 1,
   "metadata": {},
   "outputs": [],
   "source": [
    "import pandas as pd\n",
    "import matplotlib.pyplot as plt\n",
    "import numpy as np"
   ]
  },
  {
   "cell_type": "code",
   "execution_count": 2,
   "metadata": {},
   "outputs": [
    {
     "data": {
      "text/html": [
       "<div>\n",
       "<style scoped>\n",
       "    .dataframe tbody tr th:only-of-type {\n",
       "        vertical-align: middle;\n",
       "    }\n",
       "\n",
       "    .dataframe tbody tr th {\n",
       "        vertical-align: top;\n",
       "    }\n",
       "\n",
       "    .dataframe thead th {\n",
       "        text-align: right;\n",
       "    }\n",
       "</style>\n",
       "<table border=\"1\" class=\"dataframe\">\n",
       "  <thead>\n",
       "    <tr style=\"text-align: right;\">\n",
       "      <th></th>\n",
       "      <th>BAA10YM</th>\n",
       "      <th>CPIAUCSL</th>\n",
       "      <th>FEDFUNDS</th>\n",
       "      <th>HOUST</th>\n",
       "      <th>INDPRO</th>\n",
       "      <th>INTDSRUSM193N</th>\n",
       "      <th>ISRATIO</th>\n",
       "      <th>M2SL</th>\n",
       "      <th>PAYEMS</th>\n",
       "      <th>PCE</th>\n",
       "      <th>...</th>\n",
       "      <th>T10YFFM</th>\n",
       "      <th>UMCSENT</th>\n",
       "      <th>UNRATE</th>\n",
       "      <th>USSLIND</th>\n",
       "      <th>A191RL1Q225SBEA</th>\n",
       "      <th>A191RO1Q156NBEA</th>\n",
       "      <th>GDPC1</th>\n",
       "      <th>GFDEGDQ188S</th>\n",
       "      <th>GPDI</th>\n",
       "      <th>PCEC</th>\n",
       "    </tr>\n",
       "    <tr>\n",
       "      <th>DATE</th>\n",
       "      <th></th>\n",
       "      <th></th>\n",
       "      <th></th>\n",
       "      <th></th>\n",
       "      <th></th>\n",
       "      <th></th>\n",
       "      <th></th>\n",
       "      <th></th>\n",
       "      <th></th>\n",
       "      <th></th>\n",
       "      <th></th>\n",
       "      <th></th>\n",
       "      <th></th>\n",
       "      <th></th>\n",
       "      <th></th>\n",
       "      <th></th>\n",
       "      <th></th>\n",
       "      <th></th>\n",
       "      <th></th>\n",
       "      <th></th>\n",
       "      <th></th>\n",
       "    </tr>\n",
       "  </thead>\n",
       "  <tbody>\n",
       "    <tr>\n",
       "      <th>1919-01-01</th>\n",
       "      <td>NaN</td>\n",
       "      <td>NaN</td>\n",
       "      <td>NaN</td>\n",
       "      <td>NaN</td>\n",
       "      <td>NaN</td>\n",
       "      <td>NaN</td>\n",
       "      <td>NaN</td>\n",
       "      <td>NaN</td>\n",
       "      <td>NaN</td>\n",
       "      <td>NaN</td>\n",
       "      <td>...</td>\n",
       "      <td>NaN</td>\n",
       "      <td>NaN</td>\n",
       "      <td>NaN</td>\n",
       "      <td>NaN</td>\n",
       "      <td>NaN</td>\n",
       "      <td>NaN</td>\n",
       "      <td>NaN</td>\n",
       "      <td>NaN</td>\n",
       "      <td>NaN</td>\n",
       "      <td>NaN</td>\n",
       "    </tr>\n",
       "    <tr>\n",
       "      <th>1919-02-01</th>\n",
       "      <td>NaN</td>\n",
       "      <td>NaN</td>\n",
       "      <td>NaN</td>\n",
       "      <td>NaN</td>\n",
       "      <td>NaN</td>\n",
       "      <td>NaN</td>\n",
       "      <td>NaN</td>\n",
       "      <td>NaN</td>\n",
       "      <td>NaN</td>\n",
       "      <td>NaN</td>\n",
       "      <td>...</td>\n",
       "      <td>NaN</td>\n",
       "      <td>NaN</td>\n",
       "      <td>NaN</td>\n",
       "      <td>NaN</td>\n",
       "      <td>NaN</td>\n",
       "      <td>NaN</td>\n",
       "      <td>NaN</td>\n",
       "      <td>NaN</td>\n",
       "      <td>NaN</td>\n",
       "      <td>NaN</td>\n",
       "    </tr>\n",
       "    <tr>\n",
       "      <th>1919-03-01</th>\n",
       "      <td>NaN</td>\n",
       "      <td>NaN</td>\n",
       "      <td>NaN</td>\n",
       "      <td>NaN</td>\n",
       "      <td>NaN</td>\n",
       "      <td>NaN</td>\n",
       "      <td>NaN</td>\n",
       "      <td>NaN</td>\n",
       "      <td>NaN</td>\n",
       "      <td>NaN</td>\n",
       "      <td>...</td>\n",
       "      <td>NaN</td>\n",
       "      <td>NaN</td>\n",
       "      <td>NaN</td>\n",
       "      <td>NaN</td>\n",
       "      <td>NaN</td>\n",
       "      <td>NaN</td>\n",
       "      <td>NaN</td>\n",
       "      <td>NaN</td>\n",
       "      <td>NaN</td>\n",
       "      <td>NaN</td>\n",
       "    </tr>\n",
       "    <tr>\n",
       "      <th>1919-04-01</th>\n",
       "      <td>NaN</td>\n",
       "      <td>NaN</td>\n",
       "      <td>NaN</td>\n",
       "      <td>NaN</td>\n",
       "      <td>NaN</td>\n",
       "      <td>NaN</td>\n",
       "      <td>NaN</td>\n",
       "      <td>NaN</td>\n",
       "      <td>NaN</td>\n",
       "      <td>NaN</td>\n",
       "      <td>...</td>\n",
       "      <td>NaN</td>\n",
       "      <td>NaN</td>\n",
       "      <td>NaN</td>\n",
       "      <td>NaN</td>\n",
       "      <td>NaN</td>\n",
       "      <td>NaN</td>\n",
       "      <td>NaN</td>\n",
       "      <td>NaN</td>\n",
       "      <td>NaN</td>\n",
       "      <td>NaN</td>\n",
       "    </tr>\n",
       "    <tr>\n",
       "      <th>1919-05-01</th>\n",
       "      <td>NaN</td>\n",
       "      <td>NaN</td>\n",
       "      <td>NaN</td>\n",
       "      <td>NaN</td>\n",
       "      <td>NaN</td>\n",
       "      <td>NaN</td>\n",
       "      <td>NaN</td>\n",
       "      <td>NaN</td>\n",
       "      <td>NaN</td>\n",
       "      <td>NaN</td>\n",
       "      <td>...</td>\n",
       "      <td>NaN</td>\n",
       "      <td>NaN</td>\n",
       "      <td>NaN</td>\n",
       "      <td>NaN</td>\n",
       "      <td>NaN</td>\n",
       "      <td>NaN</td>\n",
       "      <td>NaN</td>\n",
       "      <td>NaN</td>\n",
       "      <td>NaN</td>\n",
       "      <td>NaN</td>\n",
       "    </tr>\n",
       "  </tbody>\n",
       "</table>\n",
       "<p>5 rows × 21 columns</p>\n",
       "</div>"
      ],
      "text/plain": [
       "            BAA10YM  CPIAUCSL  FEDFUNDS  HOUST  INDPRO  INTDSRUSM193N  \\\n",
       "DATE                                                                    \n",
       "1919-01-01      NaN       NaN       NaN    NaN     NaN            NaN   \n",
       "1919-02-01      NaN       NaN       NaN    NaN     NaN            NaN   \n",
       "1919-03-01      NaN       NaN       NaN    NaN     NaN            NaN   \n",
       "1919-04-01      NaN       NaN       NaN    NaN     NaN            NaN   \n",
       "1919-05-01      NaN       NaN       NaN    NaN     NaN            NaN   \n",
       "\n",
       "            ISRATIO  M2SL  PAYEMS  PCE  ...   T10YFFM  UMCSENT  UNRATE  \\\n",
       "DATE                                    ...                              \n",
       "1919-01-01      NaN   NaN     NaN  NaN  ...       NaN      NaN     NaN   \n",
       "1919-02-01      NaN   NaN     NaN  NaN  ...       NaN      NaN     NaN   \n",
       "1919-03-01      NaN   NaN     NaN  NaN  ...       NaN      NaN     NaN   \n",
       "1919-04-01      NaN   NaN     NaN  NaN  ...       NaN      NaN     NaN   \n",
       "1919-05-01      NaN   NaN     NaN  NaN  ...       NaN      NaN     NaN   \n",
       "\n",
       "            USSLIND  A191RL1Q225SBEA  A191RO1Q156NBEA  GDPC1  GFDEGDQ188S  \\\n",
       "DATE                                                                        \n",
       "1919-01-01      NaN              NaN              NaN    NaN          NaN   \n",
       "1919-02-01      NaN              NaN              NaN    NaN          NaN   \n",
       "1919-03-01      NaN              NaN              NaN    NaN          NaN   \n",
       "1919-04-01      NaN              NaN              NaN    NaN          NaN   \n",
       "1919-05-01      NaN              NaN              NaN    NaN          NaN   \n",
       "\n",
       "            GPDI  PCEC  \n",
       "DATE                    \n",
       "1919-01-01   NaN   NaN  \n",
       "1919-02-01   NaN   NaN  \n",
       "1919-03-01   NaN   NaN  \n",
       "1919-04-01   NaN   NaN  \n",
       "1919-05-01   NaN   NaN  \n",
       "\n",
       "[5 rows x 21 columns]"
      ]
     },
     "execution_count": 2,
     "metadata": {},
     "output_type": "execute_result"
    }
   ],
   "source": [
    "dataset = pd.read_csv('percentage.csv', index_col=0, header=[0] ,parse_dates=True)\n",
    "dataset.head()"
   ]
  },
  {
   "cell_type": "code",
   "execution_count": 3,
   "metadata": {},
   "outputs": [
    {
     "data": {
      "text/plain": [
       "DATE\n",
       "1919-01-01   NaN\n",
       "1919-02-01   NaN\n",
       "1919-03-01   NaN\n",
       "1919-04-01   NaN\n",
       "1919-05-01   NaN\n",
       "Name: CPIAUCSL, dtype: float64"
      ]
     },
     "execution_count": 3,
     "metadata": {},
     "output_type": "execute_result"
    }
   ],
   "source": [
    "CPI = dataset[\"CPIAUCSL\"]\n",
    "CPI.head()"
   ]
  },
  {
   "cell_type": "code",
   "execution_count": 8,
   "metadata": {},
   "outputs": [
    {
     "data": {
      "text/plain": [
       "(853,)"
      ]
     },
     "execution_count": 8,
     "metadata": {},
     "output_type": "execute_result"
    }
   ],
   "source": [
    "y = CPI[CPI.notna()] # get rid of nan\n",
    "y.shape"
   ]
  },
  {
   "cell_type": "code",
   "execution_count": 9,
   "metadata": {},
   "outputs": [
    {
     "data": {
      "text/plain": [
       "[<matplotlib.lines.Line2D at 0x11b214518>]"
      ]
     },
     "execution_count": 9,
     "metadata": {},
     "output_type": "execute_result"
    },
    {
     "data": {
      "image/png": "[encoded data removed]",
      "text/plain": [
       "<Figure size 432x288 with 1 Axes>"
      ]
     },
     "metadata": {
      "needs_background": "light"
     },
     "output_type": "display_data"
    }
   ],
   "source": [
    "plt.plot(y)"
   ]
  },
  {
   "cell_type": "code",
   "execution_count": 10,
   "metadata": {},
   "outputs": [
    {
     "data": {
      "text/plain": [
       "(853, 3)"
      ]
     },
     "execution_count": 10,
     "metadata": {},
     "output_type": "execute_result"
    }
   ],
   "source": [
    "t = y.shape[0]\n",
    "x = np.concatenate((np.ones((t, 1)), \n",
    "                    y.shift(1).values.reshape((t, 1)),\n",
    "                    y.shift(2).values.reshape((t, 1))), axis=1)\n",
    "x.shape"
   ]
  },
  {
   "cell_type": "code",
   "execution_count": 11,
   "metadata": {},
   "outputs": [
    {
     "name": "stdout",
     "output_type": "stream",
     "text": [
      "(851, 3)\n",
      "(851,)\n"
     ]
    }
   ],
   "source": [
    "# Need to remove missing observations after lag\n",
    "x = x[2:]\n",
    "y = y[2:]\n",
    "print(x.shape)\n",
    "print(y.shape)"
   ]
  },
  {
   "cell_type": "code",
   "execution_count": 12,
   "metadata": {},
   "outputs": [],
   "source": [
    "# convert to matrix\n",
    "y = y.values.reshape((y.shape[0], 1))"
   ]
  },
  {
   "cell_type": "code",
   "execution_count": 13,
   "metadata": {},
   "outputs": [],
   "source": [
    "# now set the priors\n",
    "b0 = np.zeros((3, 1))\n",
    "sigma0 = np.diag((1, 1, 1))"
   ]
  },
  {
   "cell_type": "code",
   "execution_count": 14,
   "metadata": {},
   "outputs": [],
   "source": [
    "# priors for inverse gamma\n",
    "t0 = 1\n",
    "d0 = 0.1"
   ]
  },
  {
   "cell_type": "code",
   "execution_count": 15,
   "metadata": {},
   "outputs": [],
   "source": [
    "# starting values for b and sigma squared (the values to be sampled)\n",
    "b = b0\n",
    "var = 1"
   ]
  },
  {
   "cell_type": "code",
   "execution_count": 16,
   "metadata": {},
   "outputs": [],
   "source": [
    "# iterations\n",
    "reps = 5000\n",
    "burn = 4000"
   ]
  },
  {
   "cell_type": "code",
   "execution_count": 17,
   "metadata": {},
   "outputs": [],
   "source": [
    "V = np.linalg.inv(np.linalg.inv(sigma0) + (1/var) * np.matmul(x.transpose(), x))\n",
    "\n",
    "M = np.matmul(V,\n",
    "              np.matmul(np.linalg.inv(sigma0), b0) + (1/var) * np.matmul(x.transpose(), y))"
   ]
  },
  {
   "cell_type": "code",
   "execution_count": null,
   "metadata": {},
   "outputs": [],
   "source": [
    "# randn: draws from normal\n",
    "for i in range(reps):\n",
    "    unstable = True\n",
    "    while unstable:\n",
    "        b = M + (np.matmul(np.random.randn(1, 3), np.linalg.cholesky(V))).transpose()\n",
    "        comp = np.array([[b[1].item(), b[2].item()], [1, 0]])\n",
    "        eigen, _ = np.linalg.eig(comp)\n",
    "        max_eig = max(abs(eigen))\n",
    "        if max_eig < 1:\n",
    "            unstable = False\n",
    "    \n",
    "        "
   ]
  },
  {
   "cell_type": "code",
   "execution_count": null,
   "metadata": {},
   "outputs": [],
   "source": []
  }
 ],
 "metadata": {
  "kernelspec": {
   "display_name": "Python 3",
   "language": "python",
   "name": "python3"
  },
  "language_info": {
   "codemirror_mode": {
    "name": "ipython",
    "version": 3
   },
   "file_extension": ".py",
   "mimetype": "text/x-python",
   "name": "python",
   "nbconvert_exporter": "python",
   "pygments_lexer": "ipython3",
   "version": "3.7.1"
  }
 },
 "nbformat": 4,
 "nbformat_minor": 2
}
