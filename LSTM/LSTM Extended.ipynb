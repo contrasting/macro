{
 "cells": [
  {
   "cell_type": "code",
   "execution_count": 1,
   "metadata": {},
   "outputs": [],
   "source": [
    "# to import from parent directory\n",
    "import os\n",
    "import sys\n",
    "nb_dir = os.path.split(os.getcwd())[0]\n",
    "if nb_dir not in sys.path:\n",
    "    sys.path.append(nb_dir)"
   ]
  },
  {
   "cell_type": "code",
   "execution_count": 2,
   "metadata": {},
   "outputs": [],
   "source": [
    "import pandas as pd\n",
    "import matplotlib.pyplot as plt\n",
    "import numpy as np\n",
    "import torch\n",
    "import torch.nn as nn\n",
    "import torch.nn.functional as F\n",
    "import torch.optim as optim\n",
    "from torch.utils.data import Dataset, DataLoader, SequentialSampler, Subset\n",
    "from utils import get_lags, get_average, TrainHelper, Window, ExtendedDataset, evaluate_on_test, init_weights, save_obj, load_obj, remove_nan"
   ]
  },
  {
   "cell_type": "code",
   "execution_count": 3,
   "metadata": {},
   "outputs": [],
   "source": [
    "full = pd.read_csv('../normalised_growth.csv', index_col=0, header=[0], parse_dates=True)"
   ]
  },
  {
   "cell_type": "code",
   "execution_count": 4,
   "metadata": {},
   "outputs": [
    {
     "name": "stdout",
     "output_type": "stream",
     "text": [
      "INTDSRUSM193N\n",
      "ISRATIO\n",
      "MTSDS133FMS\n",
      "T10Y2YM\n",
      "USSLIND\n",
      "GFDEGDQ188S\n",
      "GS20\n",
      "MCOILWTICO\n",
      "TCU\n",
      "TOTALSA\n",
      "(709, 21)\n"
     ]
    }
   ],
   "source": [
    "# start from 1960\n",
    "full.drop(columns=['A191RL1Q225SBEA'], inplace=True)\n",
    "full = full.loc[\"1960-01-01\":]\n",
    "full = remove_nan(full)\n",
    "print(full.shape)"
   ]
  },
  {
   "cell_type": "code",
   "execution_count": 6,
   "metadata": {
    "pycharm": {
     "is_executing": false
    }
   },
   "outputs": [],
   "source": [
    "class LSTMNet(nn.Module):\n",
    "    def __init__(self, input_size, lags, hidden_size):\n",
    "        super(LSTMNet, self).__init__()\n",
    "        self.lags = lags\n",
    "        self.hidden_size = hidden_size\n",
    "        self.input_size = input_size\n",
    "        \n",
    "        # input_size should match that in forward method\n",
    "        self.lstm = nn.LSTM(input_size=input_size, hidden_size=hidden_size)\n",
    "        self.fc1 = nn.Linear(hidden_size, hidden_size)\n",
    "        self.fc2 = nn.Linear(hidden_size, 3)\n",
    "        \n",
    "    def forward(self, x):\n",
    "        # input to lstm layer is (seq_len, batch, input_size)\n",
    "        x, (hn, cn) = self.lstm(x.view(self.lags, 1, self.input_size))\n",
    "        # we only care about the output of the hidden\n",
    "        hn = F.relu(self.fc1(hn))\n",
    "        hn = self.fc2(hn)\n",
    "        return hn"
   ]
  },
  {
   "cell_type": "code",
   "execution_count": 7,
   "metadata": {},
   "outputs": [],
   "source": [
    "trainer = TrainHelper(percent = 0.99, manual = 5000, print_every=1000)\n",
    "\n",
    "PATH = \"./LSTM Extended One Layer/\"\n",
    "\n",
    "def train_times(times, trainer, net, criterion, optimizer, window):\n",
    "    \n",
    "    losses = []\n",
    "\n",
    "    # train ten times, find best loss\n",
    "    for i in range(times):\n",
    "        net.apply(init_weights)\n",
    "        print(\"Training %d time\" % i)\n",
    "        loss = trainer.train_window(net, criterion, optimizer, window)\n",
    "        torch.save(net.state_dict(), PATH + \"lag\" + str(net.lags) + \"hidden\" + str(net.hidden_size) + \"_\" + str(i) + \".pt\")\n",
    "        losses.append(loss)\n",
    "        \n",
    "    return losses"
   ]
  },
  {
   "cell_type": "code",
   "execution_count": 8,
   "metadata": {},
   "outputs": [],
   "source": [
    "length = len(full)\n",
    "val_start = round(length * 0.8)\n",
    "test_start = round(length * 0.9)    "
   ]
  },
  {
   "cell_type": "code",
   "execution_count": 8,
   "metadata": {},
   "outputs": [],
   "source": [
    "losses = {}"
   ]
  },
  {
   "cell_type": "code",
   "execution_count": 29,
   "metadata": {},
   "outputs": [
    {
     "name": "stdout",
     "output_type": "stream",
     "text": [
      "Training new net, 1 lags 30 hidden\n",
      "Training 0 time\n",
      "[epoch: 1] train loss: 0.820, val loss: 1.622\n",
      "Finished window, trained for 60 epochs, loss: 0.472\n",
      "Training 1 time\n",
      "[epoch: 1] train loss: 0.691, val loss: 1.888\n",
      "Finished window, trained for 48 epochs, loss: 0.521\n",
      "Training 2 time\n",
      "[epoch: 1] train loss: 0.732, val loss: 1.759\n",
      "Finished window, trained for 39 epochs, loss: 0.576\n",
      "Training 3 time\n",
      "[epoch: 1] train loss: 0.750, val loss: 1.670\n",
      "Finished window, trained for 39 epochs, loss: 0.458\n",
      "Training 4 time\n",
      "[epoch: 1] train loss: 0.804, val loss: 1.631\n",
      "Finished window, trained for 32 epochs, loss: 0.540\n",
      "Training 5 time\n",
      "[epoch: 1] train loss: 0.749, val loss: 1.605\n",
      "Finished window, trained for 32 epochs, loss: 0.518\n",
      "Training 6 time\n",
      "[epoch: 1] train loss: 0.679, val loss: 1.537\n",
      "Finished window, trained for 28 epochs, loss: 0.473\n",
      "Training 7 time\n",
      "[epoch: 1] train loss: 0.589, val loss: 1.587\n",
      "Finished window, trained for 31 epochs, loss: 0.552\n",
      "Training 8 time\n",
      "[epoch: 1] train loss: 0.741, val loss: 1.781\n",
      "Finished window, trained for 35 epochs, loss: 0.607\n",
      "Training 9 time\n",
      "[epoch: 1] train loss: 0.617, val loss: 1.696\n",
      "Finished window, trained for 43 epochs, loss: 0.516\n",
      "[0.4717872332357469, 0.521491035950991, 0.5762878467425859, 0.457619734873463, 0.5397046256348923, 0.5176155440033957, 0.47334462646838454, 0.5523132714542693, 0.6071262264042162, 0.5159133321511382]\n",
      "Training new net, 2 lags 30 hidden\n",
      "Training 0 time\n",
      "[epoch: 1] train loss: 0.865, val loss: 1.484\n",
      "Finished window, trained for 37 epochs, loss: 0.651\n",
      "Training 1 time\n",
      "[epoch: 1] train loss: 0.769, val loss: 1.841\n",
      "Finished window, trained for 30 epochs, loss: 0.496\n",
      "Training 2 time\n",
      "[epoch: 1] train loss: 0.653, val loss: 1.490\n",
      "Finished window, trained for 33 epochs, loss: 0.632\n",
      "Training 3 time\n",
      "[epoch: 1] train loss: 0.737, val loss: 1.414\n",
      "Finished window, trained for 34 epochs, loss: 0.500\n",
      "Training 4 time\n",
      "[epoch: 1] train loss: 0.536, val loss: 1.248\n",
      "Finished window, trained for 32 epochs, loss: 0.479\n",
      "Training 5 time\n",
      "[epoch: 1] train loss: 0.648, val loss: 1.723\n",
      "Finished window, trained for 34 epochs, loss: 0.558\n",
      "Training 6 time\n",
      "[epoch: 1] train loss: 0.709, val loss: 1.230\n",
      "Finished window, trained for 26 epochs, loss: 0.520\n",
      "Training 7 time\n",
      "[epoch: 1] train loss: 0.875, val loss: 1.725\n",
      "Finished window, trained for 32 epochs, loss: 0.642\n",
      "Training 8 time\n",
      "[epoch: 1] train loss: 0.500, val loss: 1.662\n",
      "Finished window, trained for 27 epochs, loss: 0.802\n",
      "Training 9 time\n",
      "[epoch: 1] train loss: 0.548, val loss: 1.597\n",
      "Finished window, trained for 29 epochs, loss: 0.762\n",
      "[0.6510868433452699, 0.4955198649483334, 0.6324319570901847, 0.4997971452306957, 0.4787631009040134, 0.558021576494156, 0.5200950521133131, 0.6424749955424063, 0.801725141329336, 0.7622301766759761]\n",
      "Training new net, 3 lags 30 hidden\n",
      "Training 0 time\n",
      "[epoch: 1] train loss: 0.860, val loss: 1.630\n",
      "Finished window, trained for 42 epochs, loss: 0.531\n",
      "Training 1 time\n",
      "[epoch: 1] train loss: 0.873, val loss: 1.881\n",
      "Finished window, trained for 26 epochs, loss: 0.875\n",
      "Training 2 time\n",
      "[epoch: 1] train loss: 0.834, val loss: 1.623\n",
      "Finished window, trained for 27 epochs, loss: 0.615\n",
      "Training 3 time\n",
      "[epoch: 1] train loss: 0.727, val loss: 1.758\n",
      "Finished window, trained for 34 epochs, loss: 0.650\n",
      "Training 4 time\n",
      "[epoch: 1] train loss: 0.620, val loss: 1.403\n",
      "Finished window, trained for 24 epochs, loss: 0.648\n",
      "Training 5 time\n",
      "[epoch: 1] train loss: 0.908, val loss: 1.836\n",
      "Finished window, trained for 31 epochs, loss: 0.848\n",
      "Training 6 time\n",
      "[epoch: 1] train loss: 0.731, val loss: 1.816\n",
      "Finished window, trained for 33 epochs, loss: 0.776\n",
      "Training 7 time\n",
      "[epoch: 1] train loss: 0.867, val loss: 1.604\n",
      "Finished window, trained for 25 epochs, loss: 0.647\n",
      "Training 8 time\n",
      "[epoch: 1] train loss: 0.777, val loss: 1.745\n",
      "Finished window, trained for 28 epochs, loss: 0.828\n",
      "Training 9 time\n",
      "[epoch: 1] train loss: 0.624, val loss: 1.722\n",
      "Finished window, trained for 36 epochs, loss: 0.578\n",
      "[0.5310750800628393, 0.8747612726275943, 0.6153154933547955, 0.6497536089271307, 0.6478149518392803, 0.8482661440780032, 0.7759867103337975, 0.6470786709039072, 0.8279102075756306, 0.5780146828231713]\n",
      "Training new net, 4 lags 30 hidden\n",
      "Training 0 time\n",
      "[epoch: 1] train loss: 0.747, val loss: 1.537\n",
      "Finished window, trained for 37 epochs, loss: 0.739\n",
      "Training 1 time\n",
      "[epoch: 1] train loss: 0.821, val loss: 1.578\n",
      "Finished window, trained for 28 epochs, loss: 0.629\n",
      "Training 2 time\n",
      "[epoch: 1] train loss: 0.609, val loss: 1.355\n",
      "Finished window, trained for 33 epochs, loss: 0.720\n",
      "Training 3 time\n",
      "[epoch: 1] train loss: 0.570, val loss: 1.200\n",
      "Finished window, trained for 25 epochs, loss: 0.606\n",
      "Training 4 time\n",
      "[epoch: 1] train loss: 0.691, val loss: 1.370\n",
      "Finished window, trained for 28 epochs, loss: 0.596\n",
      "Training 5 time\n",
      "[epoch: 1] train loss: 0.587, val loss: 1.320\n",
      "Finished window, trained for 25 epochs, loss: 0.619\n",
      "Training 6 time\n",
      "[epoch: 1] train loss: 0.715, val loss: 1.598\n",
      "Finished window, trained for 30 epochs, loss: 0.676\n",
      "Training 7 time\n",
      "[epoch: 1] train loss: 0.566, val loss: 1.474\n",
      "Finished window, trained for 30 epochs, loss: 0.682\n",
      "Training 8 time\n",
      "[epoch: 1] train loss: 0.839, val loss: 1.682\n",
      "Finished window, trained for 25 epochs, loss: 0.749\n",
      "Training 9 time\n",
      "[epoch: 1] train loss: 0.609, val loss: 1.517\n",
      "Finished window, trained for 32 epochs, loss: 0.674\n",
      "[0.7390809587158618, 0.6294116977291803, 0.7204523671063638, 0.6061374682101555, 0.5964318725225027, 0.6188190706850341, 0.6763636069321017, 0.682000728083464, 0.7491067763988948, 0.6735716348713531]\n",
      "Training new net, 5 lags 30 hidden\n",
      "Training 0 time\n",
      "[epoch: 1] train loss: 0.879, val loss: 1.486\n",
      "Finished window, trained for 30 epochs, loss: 0.931\n",
      "Training 1 time\n",
      "[epoch: 1] train loss: 0.694, val loss: 1.838\n",
      "Finished window, trained for 29 epochs, loss: 0.929\n",
      "Training 2 time\n",
      "[epoch: 1] train loss: 0.840, val loss: 1.676\n",
      "Finished window, trained for 34 epochs, loss: 0.913\n",
      "Training 3 time\n",
      "[epoch: 1] train loss: 0.658, val loss: 1.641\n",
      "Finished window, trained for 25 epochs, loss: 0.875\n",
      "Training 4 time\n",
      "[epoch: 1] train loss: 0.545, val loss: 1.788\n",
      "Finished window, trained for 25 epochs, loss: 1.000\n",
      "Training 5 time\n",
      "[epoch: 1] train loss: 0.564, val loss: 1.791\n",
      "Finished window, trained for 23 epochs, loss: 1.000\n",
      "Training 6 time\n",
      "[epoch: 1] train loss: 0.524, val loss: 1.511\n",
      "Finished window, trained for 23 epochs, loss: 0.962\n",
      "Training 7 time\n",
      "[epoch: 1] train loss: 0.583, val loss: 2.099\n",
      "Finished window, trained for 27 epochs, loss: 1.152\n",
      "Training 8 time\n",
      "[epoch: 1] train loss: 0.642, val loss: 1.580\n",
      "Finished window, trained for 22 epochs, loss: 1.111\n",
      "Training 9 time\n",
      "[epoch: 1] train loss: 0.439, val loss: 1.366\n",
      "Finished window, trained for 20 epochs, loss: 0.962\n",
      "[0.9311180106120273, 0.9286219786120844, 0.9127125021524815, 0.8745695723242881, 1.0000710368555572, 0.9997309151859511, 0.9623967736360751, 1.1524023467807898, 1.111376425712591, 0.9617781445029236]\n",
      "Training new net, 6 lags 30 hidden\n",
      "Training 0 time\n",
      "[epoch: 1] train loss: 0.835, val loss: 1.491\n",
      "Finished window, trained for 34 epochs, loss: 0.727\n",
      "Training 1 time\n",
      "[epoch: 1] train loss: 0.741, val loss: 1.154\n",
      "Finished window, trained for 27 epochs, loss: 0.754\n",
      "Training 2 time\n",
      "[epoch: 1] train loss: 0.712, val loss: 1.635\n",
      "Finished window, trained for 24 epochs, loss: 0.694\n",
      "Training 3 time\n",
      "[epoch: 1] train loss: 0.714, val loss: 1.846\n",
      "Finished window, trained for 25 epochs, loss: 0.893\n",
      "Training 4 time\n",
      "[epoch: 1] train loss: 0.781, val loss: 1.904\n",
      "Finished window, trained for 24 epochs, loss: 0.901\n",
      "Training 5 time\n",
      "[epoch: 1] train loss: 0.439, val loss: 1.189\n",
      "Finished window, trained for 20 epochs, loss: 0.788\n",
      "Training 6 time\n",
      "[epoch: 1] train loss: 0.703, val loss: 1.661\n",
      "Finished window, trained for 26 epochs, loss: 0.790\n",
      "Training 7 time\n",
      "[epoch: 1] train loss: 0.722, val loss: 1.171\n",
      "Finished window, trained for 20 epochs, loss: 0.780\n",
      "Training 8 time\n",
      "[epoch: 1] train loss: 0.727, val loss: 1.677\n",
      "Finished window, trained for 30 epochs, loss: 0.743\n",
      "Training 9 time\n",
      "[epoch: 1] train loss: 0.952, val loss: 1.982\n",
      "Finished window, trained for 28 epochs, loss: 0.834\n",
      "[0.7273439268892011, 0.7535185083924305, 0.6935188154069084, 0.8933041458062472, 0.9014894586588656, 0.787589424105716, 0.789834309050015, 0.780253841865453, 0.7425610300419586, 0.8340111404302575]\n",
      "Training new net, 7 lags 30 hidden\n",
      "Training 0 time\n",
      "[epoch: 1] train loss: 0.778, val loss: 1.777\n",
      "Finished window, trained for 29 epochs, loss: 0.762\n",
      "Training 1 time\n",
      "[epoch: 1] train loss: 0.841, val loss: 1.730\n",
      "Finished window, trained for 25 epochs, loss: 1.124\n",
      "Training 2 time\n",
      "[epoch: 1] train loss: 0.738, val loss: 1.740\n",
      "Finished window, trained for 25 epochs, loss: 1.131\n",
      "Training 3 time\n",
      "[epoch: 1] train loss: 0.557, val loss: 1.367\n",
      "Finished window, trained for 26 epochs, loss: 0.871\n",
      "Training 4 time\n",
      "[epoch: 1] train loss: 0.536, val loss: 1.062\n",
      "Finished window, trained for 19 epochs, loss: 0.982\n",
      "Training 5 time\n",
      "[epoch: 1] train loss: 0.667, val loss: 1.496\n",
      "Finished window, trained for 23 epochs, loss: 0.993\n",
      "Training 6 time\n",
      "[epoch: 1] train loss: 0.691, val loss: 1.737\n",
      "Finished window, trained for 27 epochs, loss: 1.098\n",
      "Training 7 time\n",
      "[epoch: 1] train loss: 0.893, val loss: 1.667\n",
      "Finished window, trained for 26 epochs, loss: 0.995\n",
      "Training 8 time\n",
      "[epoch: 1] train loss: 0.570, val loss: 1.800\n",
      "Finished window, trained for 29 epochs, loss: 1.037\n",
      "Training 9 time\n",
      "[epoch: 1] train loss: 0.616, val loss: 1.530\n",
      "Finished window, trained for 23 epochs, loss: 0.956\n",
      "[0.7623986269657811, 1.1238408357171075, 1.130932384937824, 0.871127411891662, 0.9816968018898651, 0.9927063191043479, 1.0981630145350383, 0.9947296129029598, 1.0369499224548537, 0.9555112245536986]\n",
      "Training new net, 8 lags 30 hidden\n",
      "Training 0 time\n",
      "[epoch: 1] train loss: 0.805, val loss: 1.646\n"
     ]
    },
    {
     "ename": "KeyboardInterrupt",
     "evalue": "",
     "output_type": "error",
     "traceback": [
      "\u001b[0;31m---------------------------------------------------------------------------\u001b[0m",
      "\u001b[0;31mKeyboardInterrupt\u001b[0m                         Traceback (most recent call last)",
      "\u001b[0;32m<ipython-input-29-01f4012cf81d>\u001b[0m in \u001b[0;36m<module>\u001b[0;34m\u001b[0m\n\u001b[1;32m     19\u001b[0m         \u001b[0mcriterion\u001b[0m \u001b[0;34m=\u001b[0m \u001b[0mnn\u001b[0m\u001b[0;34m.\u001b[0m\u001b[0mMSELoss\u001b[0m\u001b[0;34m(\u001b[0m\u001b[0;34m)\u001b[0m\u001b[0;34m\u001b[0m\u001b[0;34m\u001b[0m\u001b[0m\n\u001b[1;32m     20\u001b[0m         \u001b[0moptimizer\u001b[0m \u001b[0;34m=\u001b[0m \u001b[0moptim\u001b[0m\u001b[0;34m.\u001b[0m\u001b[0mSGD\u001b[0m\u001b[0;34m(\u001b[0m\u001b[0mnet\u001b[0m\u001b[0;34m.\u001b[0m\u001b[0mparameters\u001b[0m\u001b[0;34m(\u001b[0m\u001b[0;34m)\u001b[0m\u001b[0;34m,\u001b[0m \u001b[0mlr\u001b[0m\u001b[0;34m=\u001b[0m\u001b[0;36m0.001\u001b[0m\u001b[0;34m)\u001b[0m\u001b[0;34m\u001b[0m\u001b[0;34m\u001b[0m\u001b[0m\n\u001b[0;32m---> 21\u001b[0;31m         \u001b[0mloss\u001b[0m \u001b[0;34m=\u001b[0m \u001b[0mtrain_times\u001b[0m\u001b[0;34m(\u001b[0m\u001b[0;36m10\u001b[0m\u001b[0;34m,\u001b[0m \u001b[0mtrainer\u001b[0m\u001b[0;34m,\u001b[0m \u001b[0mnet\u001b[0m\u001b[0;34m,\u001b[0m \u001b[0mcriterion\u001b[0m\u001b[0;34m,\u001b[0m \u001b[0moptimizer\u001b[0m\u001b[0;34m,\u001b[0m \u001b[0mwindow\u001b[0m\u001b[0;34m)\u001b[0m\u001b[0;34m\u001b[0m\u001b[0;34m\u001b[0m\u001b[0m\n\u001b[0m\u001b[1;32m     22\u001b[0m         \u001b[0mprint\u001b[0m\u001b[0;34m(\u001b[0m\u001b[0mloss\u001b[0m\u001b[0;34m)\u001b[0m\u001b[0;34m\u001b[0m\u001b[0;34m\u001b[0m\u001b[0m\n\u001b[1;32m     23\u001b[0m         \u001b[0mlosses\u001b[0m\u001b[0;34m[\u001b[0m\u001b[0mstr\u001b[0m\u001b[0;34m(\u001b[0m\u001b[0mlags\u001b[0m\u001b[0;34m)\u001b[0m \u001b[0;34m+\u001b[0m \u001b[0;34m\"-\"\u001b[0m \u001b[0;34m+\u001b[0m \u001b[0mstr\u001b[0m\u001b[0;34m(\u001b[0m\u001b[0mhidden_size\u001b[0m\u001b[0;34m)\u001b[0m\u001b[0;34m]\u001b[0m \u001b[0;34m=\u001b[0m \u001b[0mloss\u001b[0m\u001b[0;34m\u001b[0m\u001b[0;34m\u001b[0m\u001b[0m\n",
      "\u001b[0;32m<ipython-input-28-505dd3d5a090>\u001b[0m in \u001b[0;36mtrain_times\u001b[0;34m(times, trainer, net, criterion, optimizer, window)\u001b[0m\n\u001b[1;32m     11\u001b[0m         \u001b[0mnet\u001b[0m\u001b[0;34m.\u001b[0m\u001b[0mapply\u001b[0m\u001b[0;34m(\u001b[0m\u001b[0minit_weights\u001b[0m\u001b[0;34m)\u001b[0m\u001b[0;34m\u001b[0m\u001b[0;34m\u001b[0m\u001b[0m\n\u001b[1;32m     12\u001b[0m         \u001b[0mprint\u001b[0m\u001b[0;34m(\u001b[0m\u001b[0;34m\"Training %d time\"\u001b[0m \u001b[0;34m%\u001b[0m \u001b[0mi\u001b[0m\u001b[0;34m)\u001b[0m\u001b[0;34m\u001b[0m\u001b[0;34m\u001b[0m\u001b[0m\n\u001b[0;32m---> 13\u001b[0;31m         \u001b[0mloss\u001b[0m \u001b[0;34m=\u001b[0m \u001b[0mtrainer\u001b[0m\u001b[0;34m.\u001b[0m\u001b[0mtrain_window\u001b[0m\u001b[0;34m(\u001b[0m\u001b[0mnet\u001b[0m\u001b[0;34m,\u001b[0m \u001b[0mcriterion\u001b[0m\u001b[0;34m,\u001b[0m \u001b[0moptimizer\u001b[0m\u001b[0;34m,\u001b[0m \u001b[0mwindow\u001b[0m\u001b[0;34m)\u001b[0m\u001b[0;34m\u001b[0m\u001b[0;34m\u001b[0m\u001b[0m\n\u001b[0m\u001b[1;32m     14\u001b[0m         \u001b[0mtorch\u001b[0m\u001b[0;34m.\u001b[0m\u001b[0msave\u001b[0m\u001b[0;34m(\u001b[0m\u001b[0mnet\u001b[0m\u001b[0;34m.\u001b[0m\u001b[0mstate_dict\u001b[0m\u001b[0;34m(\u001b[0m\u001b[0;34m)\u001b[0m\u001b[0;34m,\u001b[0m \u001b[0mPATH\u001b[0m \u001b[0;34m+\u001b[0m \u001b[0;34m\"lag\"\u001b[0m \u001b[0;34m+\u001b[0m \u001b[0mstr\u001b[0m\u001b[0;34m(\u001b[0m\u001b[0mnet\u001b[0m\u001b[0;34m.\u001b[0m\u001b[0mlags\u001b[0m\u001b[0;34m)\u001b[0m \u001b[0;34m+\u001b[0m \u001b[0;34m\"hidden\"\u001b[0m \u001b[0;34m+\u001b[0m \u001b[0mstr\u001b[0m\u001b[0;34m(\u001b[0m\u001b[0mnet\u001b[0m\u001b[0;34m.\u001b[0m\u001b[0mhidden_size\u001b[0m\u001b[0;34m)\u001b[0m \u001b[0;34m+\u001b[0m \u001b[0;34m\"_\"\u001b[0m \u001b[0;34m+\u001b[0m \u001b[0mstr\u001b[0m\u001b[0;34m(\u001b[0m\u001b[0mi\u001b[0m\u001b[0;34m)\u001b[0m \u001b[0;34m+\u001b[0m \u001b[0;34m\".pt\"\u001b[0m\u001b[0;34m)\u001b[0m\u001b[0;34m\u001b[0m\u001b[0;34m\u001b[0m\u001b[0m\n\u001b[1;32m     15\u001b[0m         \u001b[0mlosses\u001b[0m\u001b[0;34m.\u001b[0m\u001b[0mappend\u001b[0m\u001b[0;34m(\u001b[0m\u001b[0mloss\u001b[0m\u001b[0;34m)\u001b[0m\u001b[0;34m\u001b[0m\u001b[0;34m\u001b[0m\u001b[0m\n",
      "\u001b[0;32m~/JupyterProjects/macro/utils.py\u001b[0m in \u001b[0;36mtrain_window\u001b[0;34m(self, net, criterion, optimizer, window)\u001b[0m\n\u001b[1;32m    261\u001b[0m         \u001b[0;32mfor\u001b[0m \u001b[0mepoch\u001b[0m \u001b[0;32min\u001b[0m \u001b[0mrange\u001b[0m\u001b[0;34m(\u001b[0m\u001b[0;36m5000\u001b[0m\u001b[0;34m)\u001b[0m\u001b[0;34m:\u001b[0m\u001b[0;34m\u001b[0m\u001b[0;34m\u001b[0m\u001b[0m\n\u001b[1;32m    262\u001b[0m \u001b[0;34m\u001b[0m\u001b[0m\n\u001b[0;32m--> 263\u001b[0;31m             \u001b[0mtrain_loss\u001b[0m \u001b[0;34m=\u001b[0m \u001b[0mtrain_one_epoch\u001b[0m\u001b[0;34m(\u001b[0m\u001b[0mnet\u001b[0m\u001b[0;34m,\u001b[0m \u001b[0mwindow\u001b[0m\u001b[0;34m.\u001b[0m\u001b[0mtrainloader\u001b[0m\u001b[0;34m,\u001b[0m \u001b[0mcriterion\u001b[0m\u001b[0;34m,\u001b[0m \u001b[0moptimizer\u001b[0m\u001b[0;34m)\u001b[0m\u001b[0;34m\u001b[0m\u001b[0;34m\u001b[0m\u001b[0m\n\u001b[0m\u001b[1;32m    264\u001b[0m             \u001b[0mval_loss\u001b[0m \u001b[0;34m=\u001b[0m \u001b[0mevaluate_model\u001b[0m\u001b[0;34m(\u001b[0m\u001b[0mnet\u001b[0m\u001b[0;34m,\u001b[0m \u001b[0mwindow\u001b[0m\u001b[0;34m.\u001b[0m\u001b[0mvalidationloader\u001b[0m\u001b[0;34m,\u001b[0m \u001b[0mcriterion\u001b[0m\u001b[0;34m)\u001b[0m\u001b[0;34m\u001b[0m\u001b[0;34m\u001b[0m\u001b[0m\n\u001b[1;32m    265\u001b[0m             \u001b[0mrunning_val_loss\u001b[0m\u001b[0;34m.\u001b[0m\u001b[0mappend\u001b[0m\u001b[0;34m(\u001b[0m\u001b[0mval_loss\u001b[0m\u001b[0;34m)\u001b[0m\u001b[0;34m\u001b[0m\u001b[0;34m\u001b[0m\u001b[0m\n",
      "\u001b[0;32m~/JupyterProjects/macro/utils.py\u001b[0m in \u001b[0;36mtrain_one_epoch\u001b[0;34m(net, train_loader, criterion, optimizer)\u001b[0m\n\u001b[1;32m    228\u001b[0m         \u001b[0my_pred\u001b[0m \u001b[0;34m=\u001b[0m \u001b[0mnet\u001b[0m\u001b[0;34m(\u001b[0m\u001b[0mX\u001b[0m\u001b[0;34m)\u001b[0m\u001b[0;34m\u001b[0m\u001b[0;34m\u001b[0m\u001b[0m\n\u001b[1;32m    229\u001b[0m         \u001b[0mloss\u001b[0m \u001b[0;34m=\u001b[0m \u001b[0mcriterion\u001b[0m\u001b[0;34m(\u001b[0m\u001b[0my\u001b[0m\u001b[0;34m,\u001b[0m \u001b[0my_pred\u001b[0m\u001b[0;34m)\u001b[0m\u001b[0;34m\u001b[0m\u001b[0;34m\u001b[0m\u001b[0m\n\u001b[0;32m--> 230\u001b[0;31m         \u001b[0mloss\u001b[0m\u001b[0;34m.\u001b[0m\u001b[0mbackward\u001b[0m\u001b[0;34m(\u001b[0m\u001b[0;34m)\u001b[0m\u001b[0;34m\u001b[0m\u001b[0;34m\u001b[0m\u001b[0m\n\u001b[0m\u001b[1;32m    231\u001b[0m         \u001b[0moptimizer\u001b[0m\u001b[0;34m.\u001b[0m\u001b[0mstep\u001b[0m\u001b[0;34m(\u001b[0m\u001b[0;34m)\u001b[0m\u001b[0;34m\u001b[0m\u001b[0;34m\u001b[0m\u001b[0m\n\u001b[1;32m    232\u001b[0m \u001b[0;34m\u001b[0m\u001b[0m\n",
      "\u001b[0;32m/anaconda3/lib/python3.7/site-packages/torch/tensor.py\u001b[0m in \u001b[0;36mbackward\u001b[0;34m(self, gradient, retain_graph, create_graph)\u001b[0m\n\u001b[1;32m    100\u001b[0m                 \u001b[0mproducts\u001b[0m\u001b[0;34m.\u001b[0m \u001b[0mDefaults\u001b[0m \u001b[0mto\u001b[0m\u001b[0;31m \u001b[0m\u001b[0;31m`\u001b[0m\u001b[0;31m`\u001b[0m\u001b[0;32mFalse\u001b[0m\u001b[0;31m`\u001b[0m\u001b[0;31m`\u001b[0m\u001b[0;34m.\u001b[0m\u001b[0;34m\u001b[0m\u001b[0;34m\u001b[0m\u001b[0m\n\u001b[1;32m    101\u001b[0m         \"\"\"\n\u001b[0;32m--> 102\u001b[0;31m         \u001b[0mtorch\u001b[0m\u001b[0;34m.\u001b[0m\u001b[0mautograd\u001b[0m\u001b[0;34m.\u001b[0m\u001b[0mbackward\u001b[0m\u001b[0;34m(\u001b[0m\u001b[0mself\u001b[0m\u001b[0;34m,\u001b[0m \u001b[0mgradient\u001b[0m\u001b[0;34m,\u001b[0m \u001b[0mretain_graph\u001b[0m\u001b[0;34m,\u001b[0m \u001b[0mcreate_graph\u001b[0m\u001b[0;34m)\u001b[0m\u001b[0;34m\u001b[0m\u001b[0;34m\u001b[0m\u001b[0m\n\u001b[0m\u001b[1;32m    103\u001b[0m \u001b[0;34m\u001b[0m\u001b[0m\n\u001b[1;32m    104\u001b[0m     \u001b[0;32mdef\u001b[0m \u001b[0mregister_hook\u001b[0m\u001b[0;34m(\u001b[0m\u001b[0mself\u001b[0m\u001b[0;34m,\u001b[0m \u001b[0mhook\u001b[0m\u001b[0;34m)\u001b[0m\u001b[0;34m:\u001b[0m\u001b[0;34m\u001b[0m\u001b[0;34m\u001b[0m\u001b[0m\n",
      "\u001b[0;32m/anaconda3/lib/python3.7/site-packages/torch/autograd/__init__.py\u001b[0m in \u001b[0;36mbackward\u001b[0;34m(tensors, grad_tensors, retain_graph, create_graph, grad_variables)\u001b[0m\n\u001b[1;32m     88\u001b[0m     Variable._execution_engine.run_backward(\n\u001b[1;32m     89\u001b[0m         \u001b[0mtensors\u001b[0m\u001b[0;34m,\u001b[0m \u001b[0mgrad_tensors\u001b[0m\u001b[0;34m,\u001b[0m \u001b[0mretain_graph\u001b[0m\u001b[0;34m,\u001b[0m \u001b[0mcreate_graph\u001b[0m\u001b[0;34m,\u001b[0m\u001b[0;34m\u001b[0m\u001b[0;34m\u001b[0m\u001b[0m\n\u001b[0;32m---> 90\u001b[0;31m         allow_unreachable=True)  # allow_unreachable flag\n\u001b[0m\u001b[1;32m     91\u001b[0m \u001b[0;34m\u001b[0m\u001b[0m\n\u001b[1;32m     92\u001b[0m \u001b[0;34m\u001b[0m\u001b[0m\n",
      "\u001b[0;31mKeyboardInterrupt\u001b[0m: "
     ]
    }
   ],
   "source": [
    "hiddens = [30]\n",
    "\n",
    "for lags in range(1, 15):\n",
    "    data = ExtendedDataset(full, lags=lags, series=[\"CPIAUCSL\", \"A191RO1Q156NBEA\", \"UNRATE\"])\n",
    "\n",
    "    # subtract by lags to ensure same training sets\n",
    "    trainset = Subset(data, [i for i in range(val_start - 1 - lags)])\n",
    "    valset = Subset(data, [i for i in range(val_start - lags, test_start - 1 - lags)])\n",
    "\n",
    "    trainloader = DataLoader(trainset, batch_size=1, shuffle=False, sampler=SequentialSampler(trainset))\n",
    "    validationloader = DataLoader(valset, batch_size=1, shuffle=False, sampler=SequentialSampler(valset))\n",
    "\n",
    "    window = Window(trainloader, validationloader)\n",
    "    \n",
    "    for hidden_size in hiddens:\n",
    "        print(\"Training new net, %d lags %d hidden\" % (lags, hidden_size))\n",
    "\n",
    "        net = LSTMNet(lags=lags, hidden_size=hidden_size, input_size = full.shape[1])\n",
    "        criterion = nn.MSELoss()\n",
    "        optimizer = optim.SGD(net.parameters(), lr=0.001)\n",
    "        loss = train_times(10, trainer, net, criterion, optimizer, window)\n",
    "        print(loss)\n",
    "        losses[str(lags) + \"-\" + str(hidden_size)] = loss\n",
    "    "
   ]
  },
  {
   "cell_type": "code",
   "execution_count": 30,
   "metadata": {},
   "outputs": [
    {
     "name": "stdout",
     "output_type": "stream",
     "text": [
      "1-30\n",
      "0.4576\n",
      "(0.5233)\n",
      "2-30\n",
      "0.4788\n",
      "(0.6042)\n",
      "3-30\n",
      "0.5311\n",
      "(0.6996)\n",
      "4-30\n",
      "0.5964\n",
      "(0.6691)\n",
      "5-30\n",
      "0.8746\n",
      "(0.9835)\n",
      "6-30\n",
      "0.6935\n",
      "(0.7903)\n",
      "7-30\n",
      "0.7624\n",
      "(0.9948)\n"
     ]
    }
   ],
   "source": [
    "for k, v in losses.items():\n",
    "    print(k)\n",
    "    best_net_index = np.argmin(v)\n",
    "    print(\"%.4f\" % v[best_net_index])\n",
    "    print(\"(%.4f)\" % get_average(v))\n"
   ]
  },
  {
   "cell_type": "code",
   "execution_count": 39,
   "metadata": {},
   "outputs": [],
   "source": [
    "best_loss = []\n",
    "avg_loss = []\n",
    "\n",
    "for k, v in losses.items():\n",
    "    best_net_index = np.argmin(v)\n",
    "    best_loss.append(v[best_net_index])\n",
    "    avg_loss.append(get_average(v))"
   ]
  },
  {
   "cell_type": "code",
   "execution_count": 40,
   "metadata": {},
   "outputs": [
    {
     "data": {
      "text/plain": [
       "Text(0, 0.5, 'Final Validation Loss')"
      ]
     },
     "execution_count": 40,
     "metadata": {},
     "output_type": "execute_result"
    },
    {
     "data": {
      "image/png": "[encoded data removed]",
      "text/plain": [
       "<Figure size 921.6x633.6 with 1 Axes>"
      ]
     },
     "metadata": {},
     "output_type": "display_data"
    }
   ],
   "source": [
    "from matplotlib import style\n",
    "\n",
    "style.use('seaborn-poster') #sets the size of the charts\n",
    "style.use('ggplot')\n",
    "\n",
    "# plt.figure(figsize=(15,10))\n",
    "\n",
    "plt.plot([i for i in range(1, len(best_loss) + 1)], best_loss)\n",
    "plt.plot([i for i in range(1, len(best_loss) + 1)], avg_loss)\n",
    "\n",
    "plt.xticks([1, 2, 3, 4, 5, 6, 7])\n",
    "\n",
    "plt.legend((\"Lowest loss\", \"Average loss\"), facecolor=\"white\")\n",
    "plt.xlabel(\"Lags\", fontsize=20)\n",
    "plt.ylabel(\"Final Validation Loss\", fontsize=20)\n",
    "# plt.savefig('../Figs/lags_lstm_extended.png', bbox_inches='tight')"
   ]
  },
  {
   "cell_type": "markdown",
   "metadata": {},
   "source": [
    "# Forecasts"
   ]
  },
  {
   "cell_type": "code",
   "execution_count": 9,
   "metadata": {},
   "outputs": [],
   "source": [
    "from utils import count_parameters\n",
    "from math import sqrt"
   ]
  },
  {
   "cell_type": "code",
   "execution_count": 10,
   "metadata": {},
   "outputs": [],
   "source": [
    "losses = load_obj(\"LSTM_Extended\")"
   ]
  },
  {
   "cell_type": "code",
   "execution_count": 11,
   "metadata": {},
   "outputs": [
    {
     "name": "stdout",
     "output_type": "stream",
     "text": [
      "0.44583486556962487\n",
      "1-30\n",
      "0\n"
     ]
    }
   ],
   "source": [
    "# best model?\n",
    "lowest = 100000000\n",
    "\n",
    "for k, v in losses.items():\n",
    "    best_index = np.argmin(v)\n",
    "    best_loss = v[best_index]\n",
    "    if best_loss < lowest:\n",
    "        lowest = best_loss\n",
    "        lowest_key = k\n",
    "        lowest_index = best_index\n",
    "        \n",
    "print(lowest)\n",
    "print(lowest_key)\n",
    "print(lowest_index)"
   ]
  },
  {
   "cell_type": "code",
   "execution_count": 12,
   "metadata": {},
   "outputs": [],
   "source": [
    "lags = 1\n",
    "\n",
    "testdata = ExtendedDataset(full, lags=lags, series=[\"CPIAUCSL\", \"A191RO1Q156NBEA\", \"UNRATE\"])\n",
    "\n",
    "testset = Subset(testdata, [i for i in range(test_start, length - lags)])\n",
    "\n",
    "testloader = DataLoader(testset, batch_size=1, shuffle=False,\n",
    "                        sampler=SequentialSampler(testset))"
   ]
  },
  {
   "cell_type": "code",
   "execution_count": 16,
   "metadata": {},
   "outputs": [],
   "source": [
    "criterion = nn.MSELoss()\n",
    "\n",
    "net = LSTMNet(lags=lags, hidden_size=30, input_size = full.shape[1])\n",
    "net.load_state_dict(torch.load(\"LSTM Extended/lag1hidden30_0.pt\"))"
   ]
  },
  {
   "cell_type": "code",
   "execution_count": 17,
   "metadata": {},
   "outputs": [],
   "source": [
    "y_pred, loss = evaluate_on_test(testloader, net, criterion)"
   ]
  },
  {
   "cell_type": "code",
   "execution_count": 19,
   "metadata": {},
   "outputs": [
    {
     "data": {
      "text/plain": [
       "0.28325930277803874"
      ]
     },
     "execution_count": 19,
     "metadata": {},
     "output_type": "execute_result"
    }
   ],
   "source": [
    "sqrt(loss)"
   ]
  },
  {
   "cell_type": "code",
   "execution_count": 20,
   "metadata": {},
   "outputs": [
    {
     "data": {
      "text/plain": [
       "[<matplotlib.lines.Line2D at 0x124abb240>,\n",
       " <matplotlib.lines.Line2D at 0x124abb390>,\n",
       " <matplotlib.lines.Line2D at 0x124abb4e0>]"
      ]
     },
     "execution_count": 20,
     "metadata": {},
     "output_type": "execute_result"
    },
    {
     "data": {
      "image/png": "[encoded data removed]",
      "text/plain": [
       "<Figure size 432x288 with 1 Axes>"
      ]
     },
     "metadata": {
      "needs_background": "light"
     },
     "output_type": "display_data"
    }
   ],
   "source": [
    "plt.plot(y_pred)"
   ]
  },
  {
   "cell_type": "code",
   "execution_count": 21,
   "metadata": {},
   "outputs": [
    {
     "data": {
      "text/plain": [
       "70"
      ]
     },
     "execution_count": 21,
     "metadata": {},
     "output_type": "execute_result"
    }
   ],
   "source": [
    "len(testloader)"
   ]
  },
  {
   "cell_type": "code",
   "execution_count": 22,
   "metadata": {},
   "outputs": [],
   "source": [
    "save_obj(y_pred, \"../Forecasts Extended/LSTM\")"
   ]
  },
  {
   "cell_type": "code",
   "execution_count": 23,
   "metadata": {},
   "outputs": [
    {
     "data": {
      "text/plain": [
       "7383"
      ]
     },
     "execution_count": 23,
     "metadata": {},
     "output_type": "execute_result"
    }
   ],
   "source": [
    "count_parameters(net)"
   ]
  },
  {
   "cell_type": "code",
   "execution_count": null,
   "metadata": {},
   "outputs": [],
   "source": []
  }
 ],
 "metadata": {
  "kernelspec": {
   "display_name": "Python 3",
   "language": "python",
   "name": "python3"
  },
  "language_info": {
   "codemirror_mode": {
    "name": "ipython",
    "version": 3
   },
   "file_extension": ".py",
   "mimetype": "text/x-python",
   "name": "python",
   "nbconvert_exporter": "python",
   "pygments_lexer": "ipython3",
   "version": "3.7.1"
  }
 },
 "nbformat": 4,
 "nbformat_minor": 2
}
