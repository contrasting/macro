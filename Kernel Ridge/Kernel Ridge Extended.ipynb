{
 "cells": [
  {
   "cell_type": "code",
   "execution_count": 2,
   "metadata": {},
   "outputs": [],
   "source": [
    "# to import from parent directory\n",
    "import os\n",
    "import sys\n",
    "nb_dir = os.path.split(os.getcwd())[0]\n",
    "if nb_dir not in sys.path:\n",
    "    sys.path.append(nb_dir)"
   ]
  },
  {
   "cell_type": "code",
   "execution_count": 3,
   "metadata": {},
   "outputs": [],
   "source": [
    "import pandas as pd\n",
    "import matplotlib.pyplot as plt\n",
    "import numpy as np\n",
    "from utils import get_lags, remove_nan\n",
    "from sklearn.kernel_ridge import KernelRidge\n",
    "from sklearn.metrics import mean_squared_error\n",
    "from scipy.spatial.distance import pdist"
   ]
  },
  {
   "cell_type": "code",
   "execution_count": 4,
   "metadata": {},
   "outputs": [
    {
     "data": {
      "text/html": [
       "<div>\n",
       "<style scoped>\n",
       "    .dataframe tbody tr th:only-of-type {\n",
       "        vertical-align: middle;\n",
       "    }\n",
       "\n",
       "    .dataframe tbody tr th {\n",
       "        vertical-align: top;\n",
       "    }\n",
       "\n",
       "    .dataframe thead th {\n",
       "        text-align: right;\n",
       "    }\n",
       "</style>\n",
       "<table border=\"1\" class=\"dataframe\">\n",
       "  <thead>\n",
       "    <tr style=\"text-align: right;\">\n",
       "      <th></th>\n",
       "      <th>CPIAUCSL</th>\n",
       "      <th>FEDFUNDS</th>\n",
       "      <th>HOUST</th>\n",
       "      <th>INDPRO</th>\n",
       "      <th>INTDSRUSM193N</th>\n",
       "      <th>ISRATIO</th>\n",
       "      <th>M2SL</th>\n",
       "      <th>MTSDS133FMS</th>\n",
       "      <th>PAYEMS</th>\n",
       "      <th>PCE</th>\n",
       "      <th>...</th>\n",
       "      <th>CIVPART</th>\n",
       "      <th>GS20</th>\n",
       "      <th>GS3</th>\n",
       "      <th>IRLTLT01USM156N</th>\n",
       "      <th>M1SL</th>\n",
       "      <th>MCOILWTICO</th>\n",
       "      <th>PPIACO</th>\n",
       "      <th>TCU</th>\n",
       "      <th>TOTALSA</th>\n",
       "      <th>PMI</th>\n",
       "    </tr>\n",
       "  </thead>\n",
       "  <tbody>\n",
       "    <tr>\n",
       "      <th>1914-01-01</th>\n",
       "      <td>NaN</td>\n",
       "      <td>NaN</td>\n",
       "      <td>NaN</td>\n",
       "      <td>NaN</td>\n",
       "      <td>NaN</td>\n",
       "      <td>NaN</td>\n",
       "      <td>NaN</td>\n",
       "      <td>NaN</td>\n",
       "      <td>NaN</td>\n",
       "      <td>NaN</td>\n",
       "      <td>...</td>\n",
       "      <td>NaN</td>\n",
       "      <td>NaN</td>\n",
       "      <td>NaN</td>\n",
       "      <td>NaN</td>\n",
       "      <td>NaN</td>\n",
       "      <td>NaN</td>\n",
       "      <td>-0.635906</td>\n",
       "      <td>NaN</td>\n",
       "      <td>NaN</td>\n",
       "      <td>NaN</td>\n",
       "    </tr>\n",
       "    <tr>\n",
       "      <th>1914-02-01</th>\n",
       "      <td>NaN</td>\n",
       "      <td>NaN</td>\n",
       "      <td>NaN</td>\n",
       "      <td>NaN</td>\n",
       "      <td>NaN</td>\n",
       "      <td>NaN</td>\n",
       "      <td>NaN</td>\n",
       "      <td>NaN</td>\n",
       "      <td>NaN</td>\n",
       "      <td>NaN</td>\n",
       "      <td>...</td>\n",
       "      <td>NaN</td>\n",
       "      <td>NaN</td>\n",
       "      <td>NaN</td>\n",
       "      <td>NaN</td>\n",
       "      <td>NaN</td>\n",
       "      <td>NaN</td>\n",
       "      <td>-0.543396</td>\n",
       "      <td>NaN</td>\n",
       "      <td>NaN</td>\n",
       "      <td>NaN</td>\n",
       "    </tr>\n",
       "    <tr>\n",
       "      <th>1914-03-01</th>\n",
       "      <td>NaN</td>\n",
       "      <td>NaN</td>\n",
       "      <td>NaN</td>\n",
       "      <td>NaN</td>\n",
       "      <td>NaN</td>\n",
       "      <td>NaN</td>\n",
       "      <td>NaN</td>\n",
       "      <td>NaN</td>\n",
       "      <td>NaN</td>\n",
       "      <td>NaN</td>\n",
       "      <td>...</td>\n",
       "      <td>NaN</td>\n",
       "      <td>NaN</td>\n",
       "      <td>NaN</td>\n",
       "      <td>NaN</td>\n",
       "      <td>NaN</td>\n",
       "      <td>NaN</td>\n",
       "      <td>-0.638258</td>\n",
       "      <td>NaN</td>\n",
       "      <td>NaN</td>\n",
       "      <td>NaN</td>\n",
       "    </tr>\n",
       "    <tr>\n",
       "      <th>1914-04-01</th>\n",
       "      <td>NaN</td>\n",
       "      <td>NaN</td>\n",
       "      <td>NaN</td>\n",
       "      <td>NaN</td>\n",
       "      <td>NaN</td>\n",
       "      <td>NaN</td>\n",
       "      <td>NaN</td>\n",
       "      <td>NaN</td>\n",
       "      <td>NaN</td>\n",
       "      <td>NaN</td>\n",
       "      <td>...</td>\n",
       "      <td>NaN</td>\n",
       "      <td>NaN</td>\n",
       "      <td>NaN</td>\n",
       "      <td>NaN</td>\n",
       "      <td>NaN</td>\n",
       "      <td>NaN</td>\n",
       "      <td>-0.638258</td>\n",
       "      <td>NaN</td>\n",
       "      <td>NaN</td>\n",
       "      <td>NaN</td>\n",
       "    </tr>\n",
       "    <tr>\n",
       "      <th>1914-05-01</th>\n",
       "      <td>NaN</td>\n",
       "      <td>NaN</td>\n",
       "      <td>NaN</td>\n",
       "      <td>NaN</td>\n",
       "      <td>NaN</td>\n",
       "      <td>NaN</td>\n",
       "      <td>NaN</td>\n",
       "      <td>NaN</td>\n",
       "      <td>NaN</td>\n",
       "      <td>NaN</td>\n",
       "      <td>...</td>\n",
       "      <td>NaN</td>\n",
       "      <td>NaN</td>\n",
       "      <td>NaN</td>\n",
       "      <td>NaN</td>\n",
       "      <td>NaN</td>\n",
       "      <td>NaN</td>\n",
       "      <td>-0.640650</td>\n",
       "      <td>NaN</td>\n",
       "      <td>NaN</td>\n",
       "      <td>NaN</td>\n",
       "    </tr>\n",
       "  </tbody>\n",
       "</table>\n",
       "<p>5 rows × 32 columns</p>\n",
       "</div>"
      ],
      "text/plain": [
       "            CPIAUCSL  FEDFUNDS  HOUST  INDPRO  INTDSRUSM193N  ISRATIO  M2SL  \\\n",
       "1914-01-01       NaN       NaN    NaN     NaN            NaN      NaN   NaN   \n",
       "1914-02-01       NaN       NaN    NaN     NaN            NaN      NaN   NaN   \n",
       "1914-03-01       NaN       NaN    NaN     NaN            NaN      NaN   NaN   \n",
       "1914-04-01       NaN       NaN    NaN     NaN            NaN      NaN   NaN   \n",
       "1914-05-01       NaN       NaN    NaN     NaN            NaN      NaN   NaN   \n",
       "\n",
       "            MTSDS133FMS  PAYEMS  PCE ...   CIVPART  GS20  GS3  \\\n",
       "1914-01-01          NaN     NaN  NaN ...       NaN   NaN  NaN   \n",
       "1914-02-01          NaN     NaN  NaN ...       NaN   NaN  NaN   \n",
       "1914-03-01          NaN     NaN  NaN ...       NaN   NaN  NaN   \n",
       "1914-04-01          NaN     NaN  NaN ...       NaN   NaN  NaN   \n",
       "1914-05-01          NaN     NaN  NaN ...       NaN   NaN  NaN   \n",
       "\n",
       "            IRLTLT01USM156N  M1SL  MCOILWTICO    PPIACO  TCU  TOTALSA  PMI  \n",
       "1914-01-01              NaN   NaN         NaN -0.635906  NaN      NaN  NaN  \n",
       "1914-02-01              NaN   NaN         NaN -0.543396  NaN      NaN  NaN  \n",
       "1914-03-01              NaN   NaN         NaN -0.638258  NaN      NaN  NaN  \n",
       "1914-04-01              NaN   NaN         NaN -0.638258  NaN      NaN  NaN  \n",
       "1914-05-01              NaN   NaN         NaN -0.640650  NaN      NaN  NaN  \n",
       "\n",
       "[5 rows x 32 columns]"
      ]
     },
     "execution_count": 4,
     "metadata": {},
     "output_type": "execute_result"
    }
   ],
   "source": [
    "full = pd.read_csv('../normalised_growth.csv', index_col=0, header=[0] ,parse_dates=True)\n",
    "full.head()"
   ]
  },
  {
   "cell_type": "code",
   "execution_count": 5,
   "metadata": {},
   "outputs": [
    {
     "name": "stdout",
     "output_type": "stream",
     "text": [
      "INTDSRUSM193N\n",
      "ISRATIO\n",
      "MTSDS133FMS\n",
      "T10Y2YM\n",
      "USSLIND\n",
      "GFDEGDQ188S\n",
      "GS20\n",
      "MCOILWTICO\n",
      "TCU\n",
      "TOTALSA\n",
      "(709, 21)\n"
     ]
    }
   ],
   "source": [
    "# start from 1960\n",
    "full.drop(columns=['A191RL1Q225SBEA'], inplace=True)\n",
    "full = full.loc[\"1960-01-01\":]\n",
    "full = remove_nan(full)\n",
    "print(full.shape)"
   ]
  },
  {
   "cell_type": "code",
   "execution_count": 6,
   "metadata": {},
   "outputs": [],
   "source": [
    "length = len(full)\n",
    "val_start = round(length * 0.8)\n",
    "test_start = round(length * 0.9)    "
   ]
  },
  {
   "cell_type": "code",
   "execution_count": 7,
   "metadata": {},
   "outputs": [
    {
     "name": "stdout",
     "output_type": "stream",
     "text": [
      "(566, 21)\n"
     ]
    }
   ],
   "source": [
    "core_series = [\"CPIAUCSL\", \"A191RO1Q156NBEA\", \"UNRATE\"]\n",
    "\n",
    "train = full.iloc[:val_start-1]\n",
    "validation = full.iloc[val_start:test_start-1]\n",
    "test = full.iloc[test_start:]\n",
    "\n",
    "print(train.shape)"
   ]
  },
  {
   "cell_type": "code",
   "execution_count": 8,
   "metadata": {},
   "outputs": [],
   "source": [
    "def get_median(X):\n",
    "    dists = pdist(X, 'euclidean')\n",
    "    dists = np.square(dists)\n",
    "    return np.median(dists)\n"
   ]
  },
  {
   "cell_type": "code",
   "execution_count": 9,
   "metadata": {},
   "outputs": [],
   "source": [
    "kernels = [\"polynomial\", \"rbf\"]\n",
    "alphas = np.logspace(-6, 6, 13)\n",
    "mses = {}\n",
    "\n",
    "for lags in range(1, 15):\n",
    "\n",
    "    X = get_lags(train, lags=lags)\n",
    "    X = X[lags:]\n",
    "    y = train[core_series][lags:]\n",
    "    \n",
    "    for kernel in kernels:\n",
    "        for alpha in alphas:\n",
    "            if kernel == 'rbf':\n",
    "                model = KernelRidge(kernel=kernel, alpha=alpha, gamma=1/get_median(X))\n",
    "            else:\n",
    "                model = KernelRidge(kernel=kernel, alpha=alpha)\n",
    "            model.fit(X, y)\n",
    "            y_pred = model.predict(get_lags(validation, lags)[lags:])\n",
    "            loss = mean_squared_error(y_pred, validation[core_series][lags:])\n",
    "            mses[\"%d-%s-%f\" % (lags, kernel, alpha)] = loss\n",
    "                \n"
   ]
  },
  {
   "cell_type": "code",
   "execution_count": 10,
   "metadata": {},
   "outputs": [
    {
     "name": "stdout",
     "output_type": "stream",
     "text": [
      "(56, 3)\n",
      "(56, 3)\n"
     ]
    }
   ],
   "source": [
    "# just checking the shapes are correct for the loss\n",
    "print(y_pred.shape)\n",
    "print(validation[core_series][lags:].shape)"
   ]
  },
  {
   "cell_type": "code",
   "execution_count": 11,
   "metadata": {},
   "outputs": [
    {
     "name": "stdout",
     "output_type": "stream",
     "text": [
      "1-polynomial-1.000000 0.1953631608831338\n"
     ]
    }
   ],
   "source": [
    "# best one\n",
    "\n",
    "lowest = 10000000\n",
    "\n",
    "for k, v in mses.items():\n",
    "    if v < lowest:\n",
    "        lowest = v\n",
    "        lowest_key = k\n",
    "        \n",
    "print(lowest_key, lowest)"
   ]
  },
  {
   "cell_type": "code",
   "execution_count": 12,
   "metadata": {},
   "outputs": [],
   "source": [
    "polynomial = []\n",
    "rbf = []\n",
    "\n",
    "for k, v in mses.items():\n",
    "    if k.split(\"-\")[1] == \"polynomial\" and k.split(\"-\")[2] == \"0.100000\":\n",
    "        polynomial.append(v)\n",
    "    if k.split(\"-\")[1] == \"rbf\" and k.split(\"-\")[2] == \"0.100000\":\n",
    "        rbf.append(v)\n",
    "        "
   ]
  },
  {
   "cell_type": "code",
   "execution_count": 13,
   "metadata": {},
   "outputs": [
    {
     "data": {
      "text/plain": [
       "[<matplotlib.lines.Line2D at 0x10f2ecd30>]"
      ]
     },
     "execution_count": 13,
     "metadata": {},
     "output_type": "execute_result"
    },
    {
     "data": {
      "image/png": "[encoded data removed]",
      "text/plain": [
       "<Figure size 432x288 with 1 Axes>"
      ]
     },
     "metadata": {
      "needs_background": "light"
     },
     "output_type": "display_data"
    }
   ],
   "source": [
    "plt.plot(polynomial)\n",
    "plt.plot(rbf)"
   ]
  },
  {
   "cell_type": "code",
   "execution_count": 14,
   "metadata": {},
   "outputs": [
    {
     "data": {
      "image/png": "[encoded data removed]",
      "text/plain": [
       "<Figure size 921.6x633.6 with 1 Axes>"
      ]
     },
     "metadata": {},
     "output_type": "display_data"
    }
   ],
   "source": [
    "from matplotlib import style\n",
    "\n",
    "style.use('seaborn-poster') #sets the size of the charts\n",
    "style.use('ggplot')\n",
    "\n",
    "# plt.figure(figsize=(15,10))\n",
    "\n",
    "plt.plot([i for i in range(1, len(polynomial) + 1)], polynomial)\n",
    "plt.plot([i for i in range(1, len(rbf) + 1)], rbf)\n",
    "\n",
    "plt.xticks([i for i in range(1, 15)])\n",
    "\n",
    "plt.legend((\"Polynomial kernel\", \"Gaussian kernel\"), facecolor=\"white\")\n",
    "plt.xlabel(\"Lags\", fontsize=20)\n",
    "plt.ylabel(\"Final Validation Loss\", fontsize=20)\n",
    "plt.savefig('../Figs/lags_kernel_extended.png', bbox_inches='tight')"
   ]
  }
 ],
 "metadata": {
  "kernelspec": {
   "display_name": "Python 3",
   "language": "python",
   "name": "python3"
  },
  "language_info": {
   "codemirror_mode": {
    "name": "ipython",
    "version": 3
   },
   "file_extension": ".py",
   "mimetype": "text/x-python",
   "name": "python",
   "nbconvert_exporter": "python",
   "pygments_lexer": "ipython3",
   "version": "3.7.1"
  }
 },
 "nbformat": 4,
 "nbformat_minor": 2
}
